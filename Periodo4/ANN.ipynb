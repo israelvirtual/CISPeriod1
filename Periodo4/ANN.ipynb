{
  "cells": [
    {
      "cell_type": "markdown",
      "source": [
        "\n",
        "## Imports e exploração do Dataset\n",
        "\n"
      ],
      "metadata": {
        "id": "QnKUto9Q5xkr"
      }
    },
    {
      "cell_type": "code",
      "execution_count": 30,
      "metadata": {
        "id": "OrZrqWsZI0l4"
      },
      "outputs": [],
      "source": [
        "import pandas as pd\n",
        "import matplotlib.pyplot as plt\n",
        "import numpy as np\n",
        "import seaborn as sns\n",
        "import random\n",
        "from sklearn.neighbors import KNeighborsClassifier\n",
        "from google.colab import files\n",
        "from math import *\n",
        "import time\n",
        "from sklearn import metrics\n",
        "from sklearn.ensemble import RandomForestClassifier\n",
        "import gdown\n",
        "import sklearn\n",
        "\n",
        "from imblearn.over_sampling import RandomOverSampler\n",
        "from imblearn.under_sampling import RandomUnderSampler"
      ]
    },
    {
      "cell_type": "markdown",
      "source": [
        "Na linha abaixo tentei fazer o upload direto do google drive, mas o nome do arquivo vinha estranho, então preferi meu método tradicional de upar o arquivo"
      ],
      "metadata": {
        "id": "1FjwWJMh53Wj"
      }
    },
    {
      "cell_type": "code",
      "source": [
        "gdown.download('https://drive.google.com/file/d/17UNnuEUgZyA_tGweF1_CFl3BRNA6mKZT', output=None, quiet=False)"
      ],
      "metadata": {
        "colab": {
          "base_uri": "https://localhost:8080/",
          "height": 160
        },
        "id": "9tPGWqamTlL1",
        "outputId": "5edbec1c-9d7d-4550-ab2e-b616783d4f83"
      },
      "execution_count": null,
      "outputs": [
        {
          "output_type": "stream",
          "name": "stderr",
          "text": [
            "/usr/local/lib/python3.7/dist-packages/gdown/parse_url.py:39: UserWarning: You specified a Google Drive link that is not the correct link to download a file. You might want to try `--fuzzy` option or the following url: https://drive.google.com/uc?id=None\n",
            "  url=\"https://drive.google.com/uc?id={}\".format(file_id)\n",
            "Downloading...\n",
            "From: https://drive.google.com/file/d/17UNnuEUgZyA_tGweF1_CFl3BRNA6mKZT\n",
            "To: /content/17UNnuEUgZyA_tGweF1_CFl3BRNA6mKZT\n",
            "67.5kB [00:00, 7.04MB/s]\n"
          ]
        },
        {
          "output_type": "execute_result",
          "data": {
            "application/vnd.google.colaboratory.intrinsic+json": {
              "type": "string"
            },
            "text/plain": [
              "'17UNnuEUgZyA_tGweF1_CFl3BRNA6mKZT'"
            ]
          },
          "metadata": {},
          "execution_count": 7
        }
      ]
    },
    {
      "cell_type": "code",
      "execution_count": null,
      "metadata": {
        "id": "u2Dul3fdI9Tj",
        "outputId": "092bfc91-bfd0-42dc-d7b2-c66357a30350",
        "colab": {
          "resources": {
            "http://localhost:8080/nbextensions/google.colab/files.js": {
              "data": "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",
              "ok": true,
              "headers": [
                [
                  "content-type",
                  "application/javascript"
                ]
              ],
              "status": 200,
              "status_text": ""
            }
          },
          "base_uri": "https://localhost:8080/",
          "height": 72
        }
      },
      "outputs": [
        {
          "output_type": "display_data",
          "data": {
            "text/html": [
              "\n",
              "     <input type=\"file\" id=\"files-e92aa8a0-aa9c-4cda-b29e-8103a503ec53\" name=\"files[]\" multiple disabled\n",
              "        style=\"border:none\" />\n",
              "     <output id=\"result-e92aa8a0-aa9c-4cda-b29e-8103a503ec53\">\n",
              "      Upload widget is only available when the cell has been executed in the\n",
              "      current browser session. Please rerun this cell to enable.\n",
              "      </output>\n",
              "      <script src=\"/nbextensions/google.colab/files.js\"></script> "
            ],
            "text/plain": [
              "<IPython.core.display.HTML object>"
            ]
          },
          "metadata": {}
        },
        {
          "output_type": "stream",
          "name": "stdout",
          "text": [
            "Saving creditcard.csv to creditcard.csv\n"
          ]
        }
      ],
      "source": [
        "from google.colab import files\n",
        "\n",
        "## Faça upload de um dataset com nome insurance (baixável em https://www.kaggle.com/mirichoi0218/insurance)\n",
        "uploaded = files.upload()"
      ]
    },
    {
      "cell_type": "code",
      "execution_count": null,
      "metadata": {
        "id": "U7ug2TffJ9Sp",
        "colab": {
          "base_uri": "https://localhost:8080/",
          "height": 270
        },
        "outputId": "7544d31b-fd18-48d6-c4cb-6198abd4fd09"
      },
      "outputs": [
        {
          "output_type": "execute_result",
          "data": {
            "text/html": [
              "\n",
              "  <div id=\"df-6a9587f4-8db6-4431-8dd4-30569a220cf7\">\n",
              "    <div class=\"colab-df-container\">\n",
              "      <div>\n",
              "<style scoped>\n",
              "    .dataframe tbody tr th:only-of-type {\n",
              "        vertical-align: middle;\n",
              "    }\n",
              "\n",
              "    .dataframe tbody tr th {\n",
              "        vertical-align: top;\n",
              "    }\n",
              "\n",
              "    .dataframe thead th {\n",
              "        text-align: right;\n",
              "    }\n",
              "</style>\n",
              "<table border=\"1\" class=\"dataframe\">\n",
              "  <thead>\n",
              "    <tr style=\"text-align: right;\">\n",
              "      <th></th>\n",
              "      <th>Time</th>\n",
              "      <th>V1</th>\n",
              "      <th>V2</th>\n",
              "      <th>V3</th>\n",
              "      <th>V4</th>\n",
              "      <th>V5</th>\n",
              "      <th>V6</th>\n",
              "      <th>V7</th>\n",
              "      <th>V8</th>\n",
              "      <th>V9</th>\n",
              "      <th>V10</th>\n",
              "      <th>V11</th>\n",
              "      <th>V12</th>\n",
              "      <th>V13</th>\n",
              "      <th>V14</th>\n",
              "      <th>V15</th>\n",
              "      <th>V16</th>\n",
              "      <th>V17</th>\n",
              "      <th>V18</th>\n",
              "      <th>V19</th>\n",
              "      <th>V20</th>\n",
              "      <th>V21</th>\n",
              "      <th>V22</th>\n",
              "      <th>V23</th>\n",
              "      <th>V24</th>\n",
              "      <th>V25</th>\n",
              "      <th>V26</th>\n",
              "      <th>V27</th>\n",
              "      <th>V28</th>\n",
              "      <th>Amount</th>\n",
              "      <th>Class</th>\n",
              "    </tr>\n",
              "  </thead>\n",
              "  <tbody>\n",
              "    <tr>\n",
              "      <th>0</th>\n",
              "      <td>0.0</td>\n",
              "      <td>-1.359807</td>\n",
              "      <td>-0.072781</td>\n",
              "      <td>2.536347</td>\n",
              "      <td>1.378155</td>\n",
              "      <td>-0.338321</td>\n",
              "      <td>0.462388</td>\n",
              "      <td>0.239599</td>\n",
              "      <td>0.098698</td>\n",
              "      <td>0.363787</td>\n",
              "      <td>0.090794</td>\n",
              "      <td>-0.551600</td>\n",
              "      <td>-0.617801</td>\n",
              "      <td>-0.991390</td>\n",
              "      <td>-0.311169</td>\n",
              "      <td>1.468177</td>\n",
              "      <td>-0.470401</td>\n",
              "      <td>0.207971</td>\n",
              "      <td>0.025791</td>\n",
              "      <td>0.403993</td>\n",
              "      <td>0.251412</td>\n",
              "      <td>-0.018307</td>\n",
              "      <td>0.277838</td>\n",
              "      <td>-0.110474</td>\n",
              "      <td>0.066928</td>\n",
              "      <td>0.128539</td>\n",
              "      <td>-0.189115</td>\n",
              "      <td>0.133558</td>\n",
              "      <td>-0.021053</td>\n",
              "      <td>149.62</td>\n",
              "      <td>0</td>\n",
              "    </tr>\n",
              "    <tr>\n",
              "      <th>1</th>\n",
              "      <td>0.0</td>\n",
              "      <td>1.191857</td>\n",
              "      <td>0.266151</td>\n",
              "      <td>0.166480</td>\n",
              "      <td>0.448154</td>\n",
              "      <td>0.060018</td>\n",
              "      <td>-0.082361</td>\n",
              "      <td>-0.078803</td>\n",
              "      <td>0.085102</td>\n",
              "      <td>-0.255425</td>\n",
              "      <td>-0.166974</td>\n",
              "      <td>1.612727</td>\n",
              "      <td>1.065235</td>\n",
              "      <td>0.489095</td>\n",
              "      <td>-0.143772</td>\n",
              "      <td>0.635558</td>\n",
              "      <td>0.463917</td>\n",
              "      <td>-0.114805</td>\n",
              "      <td>-0.183361</td>\n",
              "      <td>-0.145783</td>\n",
              "      <td>-0.069083</td>\n",
              "      <td>-0.225775</td>\n",
              "      <td>-0.638672</td>\n",
              "      <td>0.101288</td>\n",
              "      <td>-0.339846</td>\n",
              "      <td>0.167170</td>\n",
              "      <td>0.125895</td>\n",
              "      <td>-0.008983</td>\n",
              "      <td>0.014724</td>\n",
              "      <td>2.69</td>\n",
              "      <td>0</td>\n",
              "    </tr>\n",
              "    <tr>\n",
              "      <th>2</th>\n",
              "      <td>1.0</td>\n",
              "      <td>-1.358354</td>\n",
              "      <td>-1.340163</td>\n",
              "      <td>1.773209</td>\n",
              "      <td>0.379780</td>\n",
              "      <td>-0.503198</td>\n",
              "      <td>1.800499</td>\n",
              "      <td>0.791461</td>\n",
              "      <td>0.247676</td>\n",
              "      <td>-1.514654</td>\n",
              "      <td>0.207643</td>\n",
              "      <td>0.624501</td>\n",
              "      <td>0.066084</td>\n",
              "      <td>0.717293</td>\n",
              "      <td>-0.165946</td>\n",
              "      <td>2.345865</td>\n",
              "      <td>-2.890083</td>\n",
              "      <td>1.109969</td>\n",
              "      <td>-0.121359</td>\n",
              "      <td>-2.261857</td>\n",
              "      <td>0.524980</td>\n",
              "      <td>0.247998</td>\n",
              "      <td>0.771679</td>\n",
              "      <td>0.909412</td>\n",
              "      <td>-0.689281</td>\n",
              "      <td>-0.327642</td>\n",
              "      <td>-0.139097</td>\n",
              "      <td>-0.055353</td>\n",
              "      <td>-0.059752</td>\n",
              "      <td>378.66</td>\n",
              "      <td>0</td>\n",
              "    </tr>\n",
              "    <tr>\n",
              "      <th>3</th>\n",
              "      <td>1.0</td>\n",
              "      <td>-0.966272</td>\n",
              "      <td>-0.185226</td>\n",
              "      <td>1.792993</td>\n",
              "      <td>-0.863291</td>\n",
              "      <td>-0.010309</td>\n",
              "      <td>1.247203</td>\n",
              "      <td>0.237609</td>\n",
              "      <td>0.377436</td>\n",
              "      <td>-1.387024</td>\n",
              "      <td>-0.054952</td>\n",
              "      <td>-0.226487</td>\n",
              "      <td>0.178228</td>\n",
              "      <td>0.507757</td>\n",
              "      <td>-0.287924</td>\n",
              "      <td>-0.631418</td>\n",
              "      <td>-1.059647</td>\n",
              "      <td>-0.684093</td>\n",
              "      <td>1.965775</td>\n",
              "      <td>-1.232622</td>\n",
              "      <td>-0.208038</td>\n",
              "      <td>-0.108300</td>\n",
              "      <td>0.005274</td>\n",
              "      <td>-0.190321</td>\n",
              "      <td>-1.175575</td>\n",
              "      <td>0.647376</td>\n",
              "      <td>-0.221929</td>\n",
              "      <td>0.062723</td>\n",
              "      <td>0.061458</td>\n",
              "      <td>123.50</td>\n",
              "      <td>0</td>\n",
              "    </tr>\n",
              "    <tr>\n",
              "      <th>4</th>\n",
              "      <td>2.0</td>\n",
              "      <td>-1.158233</td>\n",
              "      <td>0.877737</td>\n",
              "      <td>1.548718</td>\n",
              "      <td>0.403034</td>\n",
              "      <td>-0.407193</td>\n",
              "      <td>0.095921</td>\n",
              "      <td>0.592941</td>\n",
              "      <td>-0.270533</td>\n",
              "      <td>0.817739</td>\n",
              "      <td>0.753074</td>\n",
              "      <td>-0.822843</td>\n",
              "      <td>0.538196</td>\n",
              "      <td>1.345852</td>\n",
              "      <td>-1.119670</td>\n",
              "      <td>0.175121</td>\n",
              "      <td>-0.451449</td>\n",
              "      <td>-0.237033</td>\n",
              "      <td>-0.038195</td>\n",
              "      <td>0.803487</td>\n",
              "      <td>0.408542</td>\n",
              "      <td>-0.009431</td>\n",
              "      <td>0.798278</td>\n",
              "      <td>-0.137458</td>\n",
              "      <td>0.141267</td>\n",
              "      <td>-0.206010</td>\n",
              "      <td>0.502292</td>\n",
              "      <td>0.219422</td>\n",
              "      <td>0.215153</td>\n",
              "      <td>69.99</td>\n",
              "      <td>0</td>\n",
              "    </tr>\n",
              "  </tbody>\n",
              "</table>\n",
              "</div>\n",
              "      <button class=\"colab-df-convert\" onclick=\"convertToInteractive('df-6a9587f4-8db6-4431-8dd4-30569a220cf7')\"\n",
              "              title=\"Convert this dataframe to an interactive table.\"\n",
              "              style=\"display:none;\">\n",
              "        \n",
              "  <svg xmlns=\"http://www.w3.org/2000/svg\" height=\"24px\"viewBox=\"0 0 24 24\"\n",
              "       width=\"24px\">\n",
              "    <path d=\"M0 0h24v24H0V0z\" fill=\"none\"/>\n",
              "    <path d=\"M18.56 5.44l.94 2.06.94-2.06 2.06-.94-2.06-.94-.94-2.06-.94 2.06-2.06.94zm-11 1L8.5 8.5l.94-2.06 2.06-.94-2.06-.94L8.5 2.5l-.94 2.06-2.06.94zm10 10l.94 2.06.94-2.06 2.06-.94-2.06-.94-.94-2.06-.94 2.06-2.06.94z\"/><path d=\"M17.41 7.96l-1.37-1.37c-.4-.4-.92-.59-1.43-.59-.52 0-1.04.2-1.43.59L10.3 9.45l-7.72 7.72c-.78.78-.78 2.05 0 2.83L4 21.41c.39.39.9.59 1.41.59.51 0 1.02-.2 1.41-.59l7.78-7.78 2.81-2.81c.8-.78.8-2.07 0-2.86zM5.41 20L4 18.59l7.72-7.72 1.47 1.35L5.41 20z\"/>\n",
              "  </svg>\n",
              "      </button>\n",
              "      \n",
              "  <style>\n",
              "    .colab-df-container {\n",
              "      display:flex;\n",
              "      flex-wrap:wrap;\n",
              "      gap: 12px;\n",
              "    }\n",
              "\n",
              "    .colab-df-convert {\n",
              "      background-color: #E8F0FE;\n",
              "      border: none;\n",
              "      border-radius: 50%;\n",
              "      cursor: pointer;\n",
              "      display: none;\n",
              "      fill: #1967D2;\n",
              "      height: 32px;\n",
              "      padding: 0 0 0 0;\n",
              "      width: 32px;\n",
              "    }\n",
              "\n",
              "    .colab-df-convert:hover {\n",
              "      background-color: #E2EBFA;\n",
              "      box-shadow: 0px 1px 2px rgba(60, 64, 67, 0.3), 0px 1px 3px 1px rgba(60, 64, 67, 0.15);\n",
              "      fill: #174EA6;\n",
              "    }\n",
              "\n",
              "    [theme=dark] .colab-df-convert {\n",
              "      background-color: #3B4455;\n",
              "      fill: #D2E3FC;\n",
              "    }\n",
              "\n",
              "    [theme=dark] .colab-df-convert:hover {\n",
              "      background-color: #434B5C;\n",
              "      box-shadow: 0px 1px 3px 1px rgba(0, 0, 0, 0.15);\n",
              "      filter: drop-shadow(0px 1px 2px rgba(0, 0, 0, 0.3));\n",
              "      fill: #FFFFFF;\n",
              "    }\n",
              "  </style>\n",
              "\n",
              "      <script>\n",
              "        const buttonEl =\n",
              "          document.querySelector('#df-6a9587f4-8db6-4431-8dd4-30569a220cf7 button.colab-df-convert');\n",
              "        buttonEl.style.display =\n",
              "          google.colab.kernel.accessAllowed ? 'block' : 'none';\n",
              "\n",
              "        async function convertToInteractive(key) {\n",
              "          const element = document.querySelector('#df-6a9587f4-8db6-4431-8dd4-30569a220cf7');\n",
              "          const dataTable =\n",
              "            await google.colab.kernel.invokeFunction('convertToInteractive',\n",
              "                                                     [key], {});\n",
              "          if (!dataTable) return;\n",
              "\n",
              "          const docLinkHtml = 'Like what you see? Visit the ' +\n",
              "            '<a target=\"_blank\" href=https://colab.research.google.com/notebooks/data_table.ipynb>data table notebook</a>'\n",
              "            + ' to learn more about interactive tables.';\n",
              "          element.innerHTML = '';\n",
              "          dataTable['output_type'] = 'display_data';\n",
              "          await google.colab.output.renderOutput(dataTable, element);\n",
              "          const docLink = document.createElement('div');\n",
              "          docLink.innerHTML = docLinkHtml;\n",
              "          element.appendChild(docLink);\n",
              "        }\n",
              "      </script>\n",
              "    </div>\n",
              "  </div>\n",
              "  "
            ],
            "text/plain": [
              "   Time        V1        V2        V3  ...       V27       V28  Amount  Class\n",
              "0   0.0 -1.359807 -0.072781  2.536347  ...  0.133558 -0.021053  149.62      0\n",
              "1   0.0  1.191857  0.266151  0.166480  ... -0.008983  0.014724    2.69      0\n",
              "2   1.0 -1.358354 -1.340163  1.773209  ... -0.055353 -0.059752  378.66      0\n",
              "3   1.0 -0.966272 -0.185226  1.792993  ...  0.062723  0.061458  123.50      0\n",
              "4   2.0 -1.158233  0.877737  1.548718  ...  0.219422  0.215153   69.99      0\n",
              "\n",
              "[5 rows x 31 columns]"
            ]
          },
          "metadata": {},
          "execution_count": 3
        }
      ],
      "source": [
        "fraud = pd.read_csv('/content/creditcard.csv')\n",
        "fraud.head()"
      ]
    },
    {
      "cell_type": "markdown",
      "source": [
        "Time é uma coluna inútil, então eu a elimino"
      ],
      "metadata": {
        "id": "TUL5OsABl9N9"
      }
    },
    {
      "cell_type": "code",
      "source": [
        "fraud = fraud.drop(columns = \"Time\")"
      ],
      "metadata": {
        "id": "uUBrl0Xql_ym"
      },
      "execution_count": null,
      "outputs": []
    },
    {
      "cell_type": "code",
      "execution_count": null,
      "metadata": {
        "colab": {
          "base_uri": "https://localhost:8080/"
        },
        "id": "z7J642mwFDf4",
        "outputId": "9b498e19-d2c6-4bea-90ef-a3f131c7de3c"
      },
      "outputs": [
        {
          "output_type": "stream",
          "name": "stdout",
          "text": [
            "<class 'pandas.core.frame.DataFrame'>\n",
            "RangeIndex: 284807 entries, 0 to 284806\n",
            "Data columns (total 30 columns):\n",
            " #   Column  Non-Null Count   Dtype  \n",
            "---  ------  --------------   -----  \n",
            " 0   V1      284807 non-null  float64\n",
            " 1   V2      284807 non-null  float64\n",
            " 2   V3      284807 non-null  float64\n",
            " 3   V4      284807 non-null  float64\n",
            " 4   V5      284807 non-null  float64\n",
            " 5   V6      284807 non-null  float64\n",
            " 6   V7      284807 non-null  float64\n",
            " 7   V8      284807 non-null  float64\n",
            " 8   V9      284807 non-null  float64\n",
            " 9   V10     284807 non-null  float64\n",
            " 10  V11     284807 non-null  float64\n",
            " 11  V12     284807 non-null  float64\n",
            " 12  V13     284807 non-null  float64\n",
            " 13  V14     284807 non-null  float64\n",
            " 14  V15     284807 non-null  float64\n",
            " 15  V16     284807 non-null  float64\n",
            " 16  V17     284807 non-null  float64\n",
            " 17  V18     284807 non-null  float64\n",
            " 18  V19     284807 non-null  float64\n",
            " 19  V20     284807 non-null  float64\n",
            " 20  V21     284807 non-null  float64\n",
            " 21  V22     284807 non-null  float64\n",
            " 22  V23     284807 non-null  float64\n",
            " 23  V24     284807 non-null  float64\n",
            " 24  V25     284807 non-null  float64\n",
            " 25  V26     284807 non-null  float64\n",
            " 26  V27     284807 non-null  float64\n",
            " 27  V28     284807 non-null  float64\n",
            " 28  Amount  284807 non-null  float64\n",
            " 29  Class   284807 non-null  int64  \n",
            "dtypes: float64(29), int64(1)\n",
            "memory usage: 65.2 MB\n"
          ]
        }
      ],
      "source": [
        "fraud.info()"
      ]
    },
    {
      "cell_type": "code",
      "source": [
        "fraud.describe()"
      ],
      "metadata": {
        "colab": {
          "base_uri": "https://localhost:8080/",
          "height": 364
        },
        "id": "E5T0f2eJlnuv",
        "outputId": "d2a2e962-a99f-4ebf-eec7-10a5a6b969da"
      },
      "execution_count": null,
      "outputs": [
        {
          "output_type": "execute_result",
          "data": {
            "text/html": [
              "\n",
              "  <div id=\"df-0e813990-5fa5-4fca-a073-bd50460c521b\">\n",
              "    <div class=\"colab-df-container\">\n",
              "      <div>\n",
              "<style scoped>\n",
              "    .dataframe tbody tr th:only-of-type {\n",
              "        vertical-align: middle;\n",
              "    }\n",
              "\n",
              "    .dataframe tbody tr th {\n",
              "        vertical-align: top;\n",
              "    }\n",
              "\n",
              "    .dataframe thead th {\n",
              "        text-align: right;\n",
              "    }\n",
              "</style>\n",
              "<table border=\"1\" class=\"dataframe\">\n",
              "  <thead>\n",
              "    <tr style=\"text-align: right;\">\n",
              "      <th></th>\n",
              "      <th>V1</th>\n",
              "      <th>V2</th>\n",
              "      <th>V3</th>\n",
              "      <th>V4</th>\n",
              "      <th>V5</th>\n",
              "      <th>V6</th>\n",
              "      <th>V7</th>\n",
              "      <th>V8</th>\n",
              "      <th>V9</th>\n",
              "      <th>V10</th>\n",
              "      <th>V11</th>\n",
              "      <th>V12</th>\n",
              "      <th>V13</th>\n",
              "      <th>V14</th>\n",
              "      <th>V15</th>\n",
              "      <th>V16</th>\n",
              "      <th>V17</th>\n",
              "      <th>V18</th>\n",
              "      <th>V19</th>\n",
              "      <th>V20</th>\n",
              "      <th>V21</th>\n",
              "      <th>V22</th>\n",
              "      <th>V23</th>\n",
              "      <th>V24</th>\n",
              "      <th>V25</th>\n",
              "      <th>V26</th>\n",
              "      <th>V27</th>\n",
              "      <th>V28</th>\n",
              "      <th>Amount</th>\n",
              "      <th>Class</th>\n",
              "    </tr>\n",
              "  </thead>\n",
              "  <tbody>\n",
              "    <tr>\n",
              "      <th>count</th>\n",
              "      <td>2.848070e+05</td>\n",
              "      <td>2.848070e+05</td>\n",
              "      <td>2.848070e+05</td>\n",
              "      <td>2.848070e+05</td>\n",
              "      <td>2.848070e+05</td>\n",
              "      <td>2.848070e+05</td>\n",
              "      <td>2.848070e+05</td>\n",
              "      <td>2.848070e+05</td>\n",
              "      <td>2.848070e+05</td>\n",
              "      <td>2.848070e+05</td>\n",
              "      <td>2.848070e+05</td>\n",
              "      <td>2.848070e+05</td>\n",
              "      <td>2.848070e+05</td>\n",
              "      <td>2.848070e+05</td>\n",
              "      <td>2.848070e+05</td>\n",
              "      <td>2.848070e+05</td>\n",
              "      <td>2.848070e+05</td>\n",
              "      <td>2.848070e+05</td>\n",
              "      <td>2.848070e+05</td>\n",
              "      <td>2.848070e+05</td>\n",
              "      <td>2.848070e+05</td>\n",
              "      <td>2.848070e+05</td>\n",
              "      <td>2.848070e+05</td>\n",
              "      <td>2.848070e+05</td>\n",
              "      <td>2.848070e+05</td>\n",
              "      <td>2.848070e+05</td>\n",
              "      <td>2.848070e+05</td>\n",
              "      <td>2.848070e+05</td>\n",
              "      <td>284807.000000</td>\n",
              "      <td>284807.000000</td>\n",
              "    </tr>\n",
              "    <tr>\n",
              "      <th>mean</th>\n",
              "      <td>3.918649e-15</td>\n",
              "      <td>5.682686e-16</td>\n",
              "      <td>-8.761736e-15</td>\n",
              "      <td>2.811118e-15</td>\n",
              "      <td>-1.552103e-15</td>\n",
              "      <td>2.040130e-15</td>\n",
              "      <td>-1.698953e-15</td>\n",
              "      <td>-1.893285e-16</td>\n",
              "      <td>-3.147640e-15</td>\n",
              "      <td>1.772925e-15</td>\n",
              "      <td>9.289524e-16</td>\n",
              "      <td>-1.803266e-15</td>\n",
              "      <td>1.674888e-15</td>\n",
              "      <td>1.475621e-15</td>\n",
              "      <td>3.501098e-15</td>\n",
              "      <td>1.392460e-15</td>\n",
              "      <td>-7.466538e-16</td>\n",
              "      <td>4.258754e-16</td>\n",
              "      <td>9.019919e-16</td>\n",
              "      <td>5.126845e-16</td>\n",
              "      <td>1.473120e-16</td>\n",
              "      <td>8.042109e-16</td>\n",
              "      <td>5.282512e-16</td>\n",
              "      <td>4.456271e-15</td>\n",
              "      <td>1.426896e-15</td>\n",
              "      <td>1.701640e-15</td>\n",
              "      <td>-3.662252e-16</td>\n",
              "      <td>-1.217809e-16</td>\n",
              "      <td>88.349619</td>\n",
              "      <td>0.001727</td>\n",
              "    </tr>\n",
              "    <tr>\n",
              "      <th>std</th>\n",
              "      <td>1.958696e+00</td>\n",
              "      <td>1.651309e+00</td>\n",
              "      <td>1.516255e+00</td>\n",
              "      <td>1.415869e+00</td>\n",
              "      <td>1.380247e+00</td>\n",
              "      <td>1.332271e+00</td>\n",
              "      <td>1.237094e+00</td>\n",
              "      <td>1.194353e+00</td>\n",
              "      <td>1.098632e+00</td>\n",
              "      <td>1.088850e+00</td>\n",
              "      <td>1.020713e+00</td>\n",
              "      <td>9.992014e-01</td>\n",
              "      <td>9.952742e-01</td>\n",
              "      <td>9.585956e-01</td>\n",
              "      <td>9.153160e-01</td>\n",
              "      <td>8.762529e-01</td>\n",
              "      <td>8.493371e-01</td>\n",
              "      <td>8.381762e-01</td>\n",
              "      <td>8.140405e-01</td>\n",
              "      <td>7.709250e-01</td>\n",
              "      <td>7.345240e-01</td>\n",
              "      <td>7.257016e-01</td>\n",
              "      <td>6.244603e-01</td>\n",
              "      <td>6.056471e-01</td>\n",
              "      <td>5.212781e-01</td>\n",
              "      <td>4.822270e-01</td>\n",
              "      <td>4.036325e-01</td>\n",
              "      <td>3.300833e-01</td>\n",
              "      <td>250.120109</td>\n",
              "      <td>0.041527</td>\n",
              "    </tr>\n",
              "    <tr>\n",
              "      <th>min</th>\n",
              "      <td>-5.640751e+01</td>\n",
              "      <td>-7.271573e+01</td>\n",
              "      <td>-4.832559e+01</td>\n",
              "      <td>-5.683171e+00</td>\n",
              "      <td>-1.137433e+02</td>\n",
              "      <td>-2.616051e+01</td>\n",
              "      <td>-4.355724e+01</td>\n",
              "      <td>-7.321672e+01</td>\n",
              "      <td>-1.343407e+01</td>\n",
              "      <td>-2.458826e+01</td>\n",
              "      <td>-4.797473e+00</td>\n",
              "      <td>-1.868371e+01</td>\n",
              "      <td>-5.791881e+00</td>\n",
              "      <td>-1.921433e+01</td>\n",
              "      <td>-4.498945e+00</td>\n",
              "      <td>-1.412985e+01</td>\n",
              "      <td>-2.516280e+01</td>\n",
              "      <td>-9.498746e+00</td>\n",
              "      <td>-7.213527e+00</td>\n",
              "      <td>-5.449772e+01</td>\n",
              "      <td>-3.483038e+01</td>\n",
              "      <td>-1.093314e+01</td>\n",
              "      <td>-4.480774e+01</td>\n",
              "      <td>-2.836627e+00</td>\n",
              "      <td>-1.029540e+01</td>\n",
              "      <td>-2.604551e+00</td>\n",
              "      <td>-2.256568e+01</td>\n",
              "      <td>-1.543008e+01</td>\n",
              "      <td>0.000000</td>\n",
              "      <td>0.000000</td>\n",
              "    </tr>\n",
              "    <tr>\n",
              "      <th>25%</th>\n",
              "      <td>-9.203734e-01</td>\n",
              "      <td>-5.985499e-01</td>\n",
              "      <td>-8.903648e-01</td>\n",
              "      <td>-8.486401e-01</td>\n",
              "      <td>-6.915971e-01</td>\n",
              "      <td>-7.682956e-01</td>\n",
              "      <td>-5.540759e-01</td>\n",
              "      <td>-2.086297e-01</td>\n",
              "      <td>-6.430976e-01</td>\n",
              "      <td>-5.354257e-01</td>\n",
              "      <td>-7.624942e-01</td>\n",
              "      <td>-4.055715e-01</td>\n",
              "      <td>-6.485393e-01</td>\n",
              "      <td>-4.255740e-01</td>\n",
              "      <td>-5.828843e-01</td>\n",
              "      <td>-4.680368e-01</td>\n",
              "      <td>-4.837483e-01</td>\n",
              "      <td>-4.988498e-01</td>\n",
              "      <td>-4.562989e-01</td>\n",
              "      <td>-2.117214e-01</td>\n",
              "      <td>-2.283949e-01</td>\n",
              "      <td>-5.423504e-01</td>\n",
              "      <td>-1.618463e-01</td>\n",
              "      <td>-3.545861e-01</td>\n",
              "      <td>-3.171451e-01</td>\n",
              "      <td>-3.269839e-01</td>\n",
              "      <td>-7.083953e-02</td>\n",
              "      <td>-5.295979e-02</td>\n",
              "      <td>5.600000</td>\n",
              "      <td>0.000000</td>\n",
              "    </tr>\n",
              "    <tr>\n",
              "      <th>50%</th>\n",
              "      <td>1.810880e-02</td>\n",
              "      <td>6.548556e-02</td>\n",
              "      <td>1.798463e-01</td>\n",
              "      <td>-1.984653e-02</td>\n",
              "      <td>-5.433583e-02</td>\n",
              "      <td>-2.741871e-01</td>\n",
              "      <td>4.010308e-02</td>\n",
              "      <td>2.235804e-02</td>\n",
              "      <td>-5.142873e-02</td>\n",
              "      <td>-9.291738e-02</td>\n",
              "      <td>-3.275735e-02</td>\n",
              "      <td>1.400326e-01</td>\n",
              "      <td>-1.356806e-02</td>\n",
              "      <td>5.060132e-02</td>\n",
              "      <td>4.807155e-02</td>\n",
              "      <td>6.641332e-02</td>\n",
              "      <td>-6.567575e-02</td>\n",
              "      <td>-3.636312e-03</td>\n",
              "      <td>3.734823e-03</td>\n",
              "      <td>-6.248109e-02</td>\n",
              "      <td>-2.945017e-02</td>\n",
              "      <td>6.781943e-03</td>\n",
              "      <td>-1.119293e-02</td>\n",
              "      <td>4.097606e-02</td>\n",
              "      <td>1.659350e-02</td>\n",
              "      <td>-5.213911e-02</td>\n",
              "      <td>1.342146e-03</td>\n",
              "      <td>1.124383e-02</td>\n",
              "      <td>22.000000</td>\n",
              "      <td>0.000000</td>\n",
              "    </tr>\n",
              "    <tr>\n",
              "      <th>75%</th>\n",
              "      <td>1.315642e+00</td>\n",
              "      <td>8.037239e-01</td>\n",
              "      <td>1.027196e+00</td>\n",
              "      <td>7.433413e-01</td>\n",
              "      <td>6.119264e-01</td>\n",
              "      <td>3.985649e-01</td>\n",
              "      <td>5.704361e-01</td>\n",
              "      <td>3.273459e-01</td>\n",
              "      <td>5.971390e-01</td>\n",
              "      <td>4.539234e-01</td>\n",
              "      <td>7.395934e-01</td>\n",
              "      <td>6.182380e-01</td>\n",
              "      <td>6.625050e-01</td>\n",
              "      <td>4.931498e-01</td>\n",
              "      <td>6.488208e-01</td>\n",
              "      <td>5.232963e-01</td>\n",
              "      <td>3.996750e-01</td>\n",
              "      <td>5.008067e-01</td>\n",
              "      <td>4.589494e-01</td>\n",
              "      <td>1.330408e-01</td>\n",
              "      <td>1.863772e-01</td>\n",
              "      <td>5.285536e-01</td>\n",
              "      <td>1.476421e-01</td>\n",
              "      <td>4.395266e-01</td>\n",
              "      <td>3.507156e-01</td>\n",
              "      <td>2.409522e-01</td>\n",
              "      <td>9.104512e-02</td>\n",
              "      <td>7.827995e-02</td>\n",
              "      <td>77.165000</td>\n",
              "      <td>0.000000</td>\n",
              "    </tr>\n",
              "    <tr>\n",
              "      <th>max</th>\n",
              "      <td>2.454930e+00</td>\n",
              "      <td>2.205773e+01</td>\n",
              "      <td>9.382558e+00</td>\n",
              "      <td>1.687534e+01</td>\n",
              "      <td>3.480167e+01</td>\n",
              "      <td>7.330163e+01</td>\n",
              "      <td>1.205895e+02</td>\n",
              "      <td>2.000721e+01</td>\n",
              "      <td>1.559499e+01</td>\n",
              "      <td>2.374514e+01</td>\n",
              "      <td>1.201891e+01</td>\n",
              "      <td>7.848392e+00</td>\n",
              "      <td>7.126883e+00</td>\n",
              "      <td>1.052677e+01</td>\n",
              "      <td>8.877742e+00</td>\n",
              "      <td>1.731511e+01</td>\n",
              "      <td>9.253526e+00</td>\n",
              "      <td>5.041069e+00</td>\n",
              "      <td>5.591971e+00</td>\n",
              "      <td>3.942090e+01</td>\n",
              "      <td>2.720284e+01</td>\n",
              "      <td>1.050309e+01</td>\n",
              "      <td>2.252841e+01</td>\n",
              "      <td>4.584549e+00</td>\n",
              "      <td>7.519589e+00</td>\n",
              "      <td>3.517346e+00</td>\n",
              "      <td>3.161220e+01</td>\n",
              "      <td>3.384781e+01</td>\n",
              "      <td>25691.160000</td>\n",
              "      <td>1.000000</td>\n",
              "    </tr>\n",
              "  </tbody>\n",
              "</table>\n",
              "</div>\n",
              "      <button class=\"colab-df-convert\" onclick=\"convertToInteractive('df-0e813990-5fa5-4fca-a073-bd50460c521b')\"\n",
              "              title=\"Convert this dataframe to an interactive table.\"\n",
              "              style=\"display:none;\">\n",
              "        \n",
              "  <svg xmlns=\"http://www.w3.org/2000/svg\" height=\"24px\"viewBox=\"0 0 24 24\"\n",
              "       width=\"24px\">\n",
              "    <path d=\"M0 0h24v24H0V0z\" fill=\"none\"/>\n",
              "    <path d=\"M18.56 5.44l.94 2.06.94-2.06 2.06-.94-2.06-.94-.94-2.06-.94 2.06-2.06.94zm-11 1L8.5 8.5l.94-2.06 2.06-.94-2.06-.94L8.5 2.5l-.94 2.06-2.06.94zm10 10l.94 2.06.94-2.06 2.06-.94-2.06-.94-.94-2.06-.94 2.06-2.06.94z\"/><path d=\"M17.41 7.96l-1.37-1.37c-.4-.4-.92-.59-1.43-.59-.52 0-1.04.2-1.43.59L10.3 9.45l-7.72 7.72c-.78.78-.78 2.05 0 2.83L4 21.41c.39.39.9.59 1.41.59.51 0 1.02-.2 1.41-.59l7.78-7.78 2.81-2.81c.8-.78.8-2.07 0-2.86zM5.41 20L4 18.59l7.72-7.72 1.47 1.35L5.41 20z\"/>\n",
              "  </svg>\n",
              "      </button>\n",
              "      \n",
              "  <style>\n",
              "    .colab-df-container {\n",
              "      display:flex;\n",
              "      flex-wrap:wrap;\n",
              "      gap: 12px;\n",
              "    }\n",
              "\n",
              "    .colab-df-convert {\n",
              "      background-color: #E8F0FE;\n",
              "      border: none;\n",
              "      border-radius: 50%;\n",
              "      cursor: pointer;\n",
              "      display: none;\n",
              "      fill: #1967D2;\n",
              "      height: 32px;\n",
              "      padding: 0 0 0 0;\n",
              "      width: 32px;\n",
              "    }\n",
              "\n",
              "    .colab-df-convert:hover {\n",
              "      background-color: #E2EBFA;\n",
              "      box-shadow: 0px 1px 2px rgba(60, 64, 67, 0.3), 0px 1px 3px 1px rgba(60, 64, 67, 0.15);\n",
              "      fill: #174EA6;\n",
              "    }\n",
              "\n",
              "    [theme=dark] .colab-df-convert {\n",
              "      background-color: #3B4455;\n",
              "      fill: #D2E3FC;\n",
              "    }\n",
              "\n",
              "    [theme=dark] .colab-df-convert:hover {\n",
              "      background-color: #434B5C;\n",
              "      box-shadow: 0px 1px 3px 1px rgba(0, 0, 0, 0.15);\n",
              "      filter: drop-shadow(0px 1px 2px rgba(0, 0, 0, 0.3));\n",
              "      fill: #FFFFFF;\n",
              "    }\n",
              "  </style>\n",
              "\n",
              "      <script>\n",
              "        const buttonEl =\n",
              "          document.querySelector('#df-0e813990-5fa5-4fca-a073-bd50460c521b button.colab-df-convert');\n",
              "        buttonEl.style.display =\n",
              "          google.colab.kernel.accessAllowed ? 'block' : 'none';\n",
              "\n",
              "        async function convertToInteractive(key) {\n",
              "          const element = document.querySelector('#df-0e813990-5fa5-4fca-a073-bd50460c521b');\n",
              "          const dataTable =\n",
              "            await google.colab.kernel.invokeFunction('convertToInteractive',\n",
              "                                                     [key], {});\n",
              "          if (!dataTable) return;\n",
              "\n",
              "          const docLinkHtml = 'Like what you see? Visit the ' +\n",
              "            '<a target=\"_blank\" href=https://colab.research.google.com/notebooks/data_table.ipynb>data table notebook</a>'\n",
              "            + ' to learn more about interactive tables.';\n",
              "          element.innerHTML = '';\n",
              "          dataTable['output_type'] = 'display_data';\n",
              "          await google.colab.output.renderOutput(dataTable, element);\n",
              "          const docLink = document.createElement('div');\n",
              "          docLink.innerHTML = docLinkHtml;\n",
              "          element.appendChild(docLink);\n",
              "        }\n",
              "      </script>\n",
              "    </div>\n",
              "  </div>\n",
              "  "
            ],
            "text/plain": [
              "                 V1            V2  ...         Amount          Class\n",
              "count  2.848070e+05  2.848070e+05  ...  284807.000000  284807.000000\n",
              "mean   3.918649e-15  5.682686e-16  ...      88.349619       0.001727\n",
              "std    1.958696e+00  1.651309e+00  ...     250.120109       0.041527\n",
              "min   -5.640751e+01 -7.271573e+01  ...       0.000000       0.000000\n",
              "25%   -9.203734e-01 -5.985499e-01  ...       5.600000       0.000000\n",
              "50%    1.810880e-02  6.548556e-02  ...      22.000000       0.000000\n",
              "75%    1.315642e+00  8.037239e-01  ...      77.165000       0.000000\n",
              "max    2.454930e+00  2.205773e+01  ...   25691.160000       1.000000\n",
              "\n",
              "[8 rows x 30 columns]"
            ]
          },
          "metadata": {},
          "execution_count": 27
        }
      ]
    },
    {
      "cell_type": "markdown",
      "source": [
        "X aqui é dataset de features. Observe que logo abaixo utilizo a função scales, que normaliza o dataset."
      ],
      "metadata": {
        "id": "8P62UoZP6J10"
      }
    },
    {
      "cell_type": "code",
      "source": [
        "X = fraud.drop([\"Class\"], axis = 1)"
      ],
      "metadata": {
        "id": "QFkbBsEWoBoz"
      },
      "execution_count": null,
      "outputs": []
    },
    {
      "cell_type": "code",
      "source": [
        "def scales(df):\n",
        "  df.columns\n",
        "  notObject = df.columns[df.dtypes!='object']\n",
        "  #df[notObject]\n",
        "  for name in notObject:\n",
        "    df[name] = (df[name]-df[name].min())/(df[name].max()-df[name].min())\n",
        "  return df"
      ],
      "metadata": {
        "id": "8d2BXpAbtOvQ"
      },
      "execution_count": null,
      "outputs": []
    },
    {
      "cell_type": "code",
      "source": [
        "X = scales(X)"
      ],
      "metadata": {
        "id": "haB_FYw0tP7-"
      },
      "execution_count": null,
      "outputs": []
    },
    {
      "cell_type": "markdown",
      "source": [
        "Train-test split utilizando sklearn (supus que poderia utilizar aqui)"
      ],
      "metadata": {
        "id": "FWmAuogE6TkH"
      }
    },
    {
      "cell_type": "code",
      "source": [
        "X_train, X_test, y_train, y_test = sklearn.model_selection.train_test_split(X,fraud[\"Class\"], random_state = 42)"
      ],
      "metadata": {
        "id": "92OJRvFLomtS"
      },
      "execution_count": 36,
      "outputs": []
    },
    {
      "cell_type": "markdown",
      "source": [
        "Resampling pois há poucos valores 1. Logicamente é de se esperar que apenas uma minoria das transações sejam fraudulentas. A técnica utilizada aqui foi de oversampling\n"
      ],
      "metadata": {
        "id": "QPsUtwQdWVmn"
      }
    },
    {
      "cell_type": "code",
      "source": [
        "Over = RandomOverSampler()\n",
        "# resampling X, y\n",
        "X_train, y_train = Over.fit_resample(X_train, y_train)"
      ],
      "metadata": {
        "id": "_WkeA92OWN9L"
      },
      "execution_count": 37,
      "outputs": []
    },
    {
      "cell_type": "code",
      "source": [
        "len(X_train)"
      ],
      "metadata": {
        "colab": {
          "base_uri": "https://localhost:8080/"
        },
        "id": "4HUZ6BtVpWLI",
        "outputId": "7f8c9b5a-851b-4bc9-cefe-63db7764a9c5"
      },
      "execution_count": 32,
      "outputs": [
        {
          "output_type": "execute_result",
          "data": {
            "text/plain": [
              "426452"
            ]
          },
          "metadata": {},
          "execution_count": 32
        }
      ]
    },
    {
      "cell_type": "markdown",
      "source": [
        "## Escrita das funções mais importantes"
      ],
      "metadata": {
        "id": "hRk7k__Q6lss"
      }
    },
    {
      "cell_type": "markdown",
      "source": [
        "Todas as funções abaixo são constituídas de uma célula de definição e uma célula de teste"
      ],
      "metadata": {
        "id": "1s5FJVHGgGrY"
      }
    },
    {
      "cell_type": "markdown",
      "source": [
        "###1. Funções de ativação"
      ],
      "metadata": {
        "id": "V3bDEbP56thW"
      }
    },
    {
      "cell_type": "code",
      "source": [
        "def relu(z):\n",
        "    return np.maximum(0,z)\n",
        "\n",
        "def drelu(z):\n",
        "    Z = np.zeros(len(z))\n",
        "    Z[z>0]=1\n",
        "    Z[z<=0]=0\n",
        "    return Z"
      ],
      "metadata": {
        "id": "Q0DeLZXAA_VX"
      },
      "execution_count": null,
      "outputs": []
    },
    {
      "cell_type": "code",
      "source": [
        "def sig(x):\n",
        "    return 1/(1+np.exp(-x))\n",
        "\n",
        "def dsig(x):\n",
        "    s = sig(x)\n",
        "    return s*(1-s)"
      ],
      "metadata": {
        "id": "xnRX33xExzRJ"
      },
      "execution_count": 38,
      "outputs": []
    },
    {
      "cell_type": "code",
      "source": [
        "a = np.linspace(-5,5,50)\n",
        "y = relu(a)\n",
        "dy = drelu(a)\n",
        "plt.plot(a,y,a,dy)"
      ],
      "metadata": {
        "colab": {
          "base_uri": "https://localhost:8080/",
          "height": 300
        },
        "id": "O8YYmGANfjTU",
        "outputId": "e2206237-b233-4b0a-ad83-af46a9e4f990"
      },
      "execution_count": null,
      "outputs": [
        {
          "output_type": "execute_result",
          "data": {
            "text/plain": [
              "[<matplotlib.lines.Line2D at 0x7fbab0f35950>,\n",
              " <matplotlib.lines.Line2D at 0x7fbab0f35bd0>]"
            ]
          },
          "metadata": {},
          "execution_count": 28
        },
        {
          "output_type": "display_data",
          "data": {
            "image/png": "[encoded data removed]",
            "text/plain": [
              "<Figure size 432x288 with 1 Axes>"
            ]
          },
          "metadata": {
            "needs_background": "light"
          }
        }
      ]
    },
    {
      "cell_type": "markdown",
      "source": [
        "De fato, temos as cuvas características da função relu"
      ],
      "metadata": {
        "id": "0xXITh-ukEfb"
      }
    },
    {
      "cell_type": "code",
      "source": [
        "y = sig(a)\n",
        "dy = dsig(a)\n",
        "plt.plot(a,y,a,dy)"
      ],
      "metadata": {
        "colab": {
          "base_uri": "https://localhost:8080/",
          "height": 300
        },
        "id": "xPLzsVBlyX5i",
        "outputId": "c15cba6d-57b0-479e-941c-12cc16eb6caa"
      },
      "execution_count": null,
      "outputs": [
        {
          "output_type": "execute_result",
          "data": {
            "text/plain": [
              "[<matplotlib.lines.Line2D at 0x7fbab0e87f90>,\n",
              " <matplotlib.lines.Line2D at 0x7fbab0a0ac10>]"
            ]
          },
          "metadata": {},
          "execution_count": 29
        },
        {
          "output_type": "display_data",
          "data": {
            "image/png": "[encoded data removed]",
            "text/plain": [
              "<Figure size 432x288 with 1 Axes>"
            ]
          },
          "metadata": {
            "needs_background": "light"
          }
        }
      ]
    },
    {
      "cell_type": "markdown",
      "source": [
        "###2. Inicialização de pesos aleatoriamento. Observe que os biases estão transpostos pois foi todo o processo é feito pensando em utilizar todas as instâncias de X_train de uma só vez em fez de utilizar um for para as instâncias (logo, teremos muitas matrizes)."
      ],
      "metadata": {
        "id": "v-8XkxRy6yv1"
      }
    },
    {
      "cell_type": "code",
      "source": [
        "def initialize(X, hidden = 10, outdim = 1):\n",
        "  w_1 = np.random.randn(X.shape[1], hidden)\n",
        "  b_1 = np.zeros((1,hidden)).T\n",
        "  w_2 = np.random.randn(hidden,outdim)\n",
        "  b_2 = np.zeros((1,outdim)).T\n",
        "  return w_1,w_2,b_1,b_2"
      ],
      "metadata": {
        "id": "EkLZ9S2Lzu5M"
      },
      "execution_count": 207,
      "outputs": []
    },
    {
      "cell_type": "code",
      "source": [
        "w_1, w_2, b_1, b_2 = initialize(X_train)"
      ],
      "metadata": {
        "id": "iZmRmqUtkfmG"
      },
      "execution_count": 171,
      "outputs": []
    },
    {
      "cell_type": "code",
      "source": [
        "#Vendo se a inicialização está coerente. Descomente uma linha para avaliar\n",
        "\n",
        "#print(w_1, \"dim = \", np.shape(w_1))\n",
        "#print(w_2, \"dim = \", np.shape(w_2))\n",
        "print(b_1, \"dim = \", np.shape(b_1))\n",
        "#print(b_2, \"dim = \", np.shape(b_2))"
      ],
      "metadata": {
        "colab": {
          "base_uri": "https://localhost:8080/"
        },
        "id": "k1TirYtqkuTI",
        "outputId": "d3853310-19f8-4abb-fe89-5d7b8ab0d8df"
      },
      "execution_count": 172,
      "outputs": [
        {
          "output_type": "stream",
          "name": "stdout",
          "text": [
            "[[0.]\n",
            " [0.]\n",
            " [0.]\n",
            " [0.]\n",
            " [0.]\n",
            " [0.]\n",
            " [0.]\n",
            " [0.]\n",
            " [0.]\n",
            " [0.]] dim =  (10, 1)\n"
          ]
        }
      ]
    },
    {
      "cell_type": "markdown",
      "source": [
        "### 3. Feed forward: Aqui uso uma notação semelhante a do 3blue1brown, onde z é o produto XW+b e a = sig(z)"
      ],
      "metadata": {
        "id": "k7fqgejX7Qs8"
      }
    },
    {
      "cell_type": "code",
      "source": [
        "def forward(X,y, w_1,w_2,b_1,b_2):\n",
        "  z1 = X.dot(w_1)+b_1.T\n",
        "  a1 = sig(z1)\n",
        "  z2 = a1.dot(w_2)+b_2.T\n",
        "  a2 = sig(z2)\n",
        "  a2 = np.array(a2).reshape(len(y))\n",
        "  return z1, z2, a1, a2"
      ],
      "metadata": {
        "id": "iu2cBeDfk1YT"
      },
      "execution_count": 173,
      "outputs": []
    },
    {
      "cell_type": "code",
      "source": [
        "z1,z2,hidden,output = forward(X_train, y_train, w_1,w_2,np.ones(10),b_2) # Coloquei um b_1 diferente para testar a soma, pois soma 0 não muda nada"
      ],
      "metadata": {
        "id": "LyKchvlYm94F"
      },
      "execution_count": 175,
      "outputs": []
    },
    {
      "cell_type": "code",
      "source": [
        "#As duas linhas abaixo devem ser descomentadas juntas para testar o efeito do bias\n",
        "\n",
        "#print(z1, \"dim = \", np.shape(z1))\n",
        "#print(X_train.dot(w_1),\"dim = \", np.shape(X_train.dot(w_1)))\n",
        "\n",
        "#print(z2, \"dim = \", np.shape(z2))\n",
        "#print(hidden, \"dim = \", np.shape(hidden))\n",
        "\n",
        "#As linhas abaixo podem ser descomentadas juntas para entender que não há diferenças de dimensão entre o valor de output de forward e o valor das labels\n",
        "#A função de soma eu só coloquei porque, à primeira vista, output tinha muitos zeros, então queria ver se só tinha zeros\n",
        "\n",
        "print(output, \"dim = \", np.shape(output))\n",
        "#print(output.sum())\n",
        "#print(np.shape(y_train))"
      ],
      "metadata": {
        "colab": {
          "base_uri": "https://localhost:8080/"
        },
        "id": "H-0JEhlknc61",
        "outputId": "875619ce-d511-4406-ca94-bca289f414d8"
      },
      "execution_count": 176,
      "outputs": [
        {
          "output_type": "stream",
          "name": "stdout",
          "text": [
            "[0.99336794 0.99336402 0.99336606 ... 0.9933644  0.99336203 0.99336219] dim =  (426452,)\n"
          ]
        }
      ]
    },
    {
      "cell_type": "code",
      "source": [
        "output.sum()/len(output)"
      ],
      "metadata": {
        "colab": {
          "base_uri": "https://localhost:8080/"
        },
        "id": "q6lCgHnLwuKk",
        "outputId": "f73a1522-f7ca-4179-b3bd-cdbd08773647"
      },
      "execution_count": 177,
      "outputs": [
        {
          "output_type": "execute_result",
          "data": {
            "text/plain": [
              "0.9933625373753668"
            ]
          },
          "metadata": {},
          "execution_count": 177
        }
      ]
    },
    {
      "cell_type": "code",
      "source": [
        "output.min()"
      ],
      "metadata": {
        "colab": {
          "base_uri": "https://localhost:8080/"
        },
        "id": "vtC9ysfItd0N",
        "outputId": "e0d8671b-cd6f-42b9-bbcb-3251068d3893"
      },
      "execution_count": 178,
      "outputs": [
        {
          "output_type": "execute_result",
          "data": {
            "text/plain": [
              "0.9933096685956537"
            ]
          },
          "metadata": {},
          "execution_count": 178
        }
      ]
    },
    {
      "cell_type": "markdown",
      "source": [
        "Vemos que a multiplicação gera muitos outputs próximos de 1. Vejamos por que na célula abaixo. Veja que a soma ponderada entre os valores aleatórios de peso e os valores normalizados acaba resultando em valores altos (em sua maioria maiores que 5). Logo, quando passamos pela função sigmoide, é natural que esses valores fiquem próximos a 1. O mesmo ocorre para a segunda soma ponderada."
      ],
      "metadata": {
        "id": "TDk1sIt773IY"
      }
    },
    {
      "cell_type": "code",
      "source": [
        "X_train.dot(w_1)"
      ],
      "metadata": {
        "colab": {
          "base_uri": "https://localhost:8080/",
          "height": 423
        },
        "id": "7XXCIIO37_wJ",
        "outputId": "f19c5398-b32a-49c5-d5bb-8f4bf549bc69"
      },
      "execution_count": 184,
      "outputs": [
        {
          "output_type": "execute_result",
          "data": {
            "text/html": [
              "\n",
              "  <div id=\"df-179271fe-c683-4413-bb3c-472dbb9b00bd\">\n",
              "    <div class=\"colab-df-container\">\n",
              "      <div>\n",
              "<style scoped>\n",
              "    .dataframe tbody tr th:only-of-type {\n",
              "        vertical-align: middle;\n",
              "    }\n",
              "\n",
              "    .dataframe tbody tr th {\n",
              "        vertical-align: top;\n",
              "    }\n",
              "\n",
              "    .dataframe thead th {\n",
              "        text-align: right;\n",
              "    }\n",
              "</style>\n",
              "<table border=\"1\" class=\"dataframe\">\n",
              "  <thead>\n",
              "    <tr style=\"text-align: right;\">\n",
              "      <th></th>\n",
              "      <th>0</th>\n",
              "      <th>1</th>\n",
              "      <th>2</th>\n",
              "      <th>3</th>\n",
              "      <th>4</th>\n",
              "      <th>5</th>\n",
              "      <th>6</th>\n",
              "      <th>7</th>\n",
              "      <th>8</th>\n",
              "      <th>9</th>\n",
              "    </tr>\n",
              "  </thead>\n",
              "  <tbody>\n",
              "    <tr>\n",
              "      <th>0</th>\n",
              "      <td>7.825394</td>\n",
              "      <td>7.350043</td>\n",
              "      <td>7.104748</td>\n",
              "      <td>5.564708</td>\n",
              "      <td>5.702162</td>\n",
              "      <td>6.780081</td>\n",
              "      <td>6.272151</td>\n",
              "      <td>7.611237</td>\n",
              "      <td>8.040226</td>\n",
              "      <td>7.210373</td>\n",
              "    </tr>\n",
              "    <tr>\n",
              "      <th>1</th>\n",
              "      <td>7.608776</td>\n",
              "      <td>7.043998</td>\n",
              "      <td>6.975792</td>\n",
              "      <td>5.351247</td>\n",
              "      <td>5.676495</td>\n",
              "      <td>6.572028</td>\n",
              "      <td>6.070921</td>\n",
              "      <td>7.464313</td>\n",
              "      <td>7.965526</td>\n",
              "      <td>6.875921</td>\n",
              "    </tr>\n",
              "    <tr>\n",
              "      <th>2</th>\n",
              "      <td>7.838891</td>\n",
              "      <td>7.246246</td>\n",
              "      <td>6.971583</td>\n",
              "      <td>5.433304</td>\n",
              "      <td>5.666892</td>\n",
              "      <td>6.769732</td>\n",
              "      <td>6.232518</td>\n",
              "      <td>7.459764</td>\n",
              "      <td>7.859375</td>\n",
              "      <td>7.076850</td>\n",
              "    </tr>\n",
              "    <tr>\n",
              "      <th>3</th>\n",
              "      <td>8.105361</td>\n",
              "      <td>7.373190</td>\n",
              "      <td>7.175952</td>\n",
              "      <td>5.503701</td>\n",
              "      <td>5.753770</td>\n",
              "      <td>7.001513</td>\n",
              "      <td>6.411069</td>\n",
              "      <td>7.666252</td>\n",
              "      <td>8.016595</td>\n",
              "      <td>7.264055</td>\n",
              "    </tr>\n",
              "    <tr>\n",
              "      <th>4</th>\n",
              "      <td>8.039682</td>\n",
              "      <td>7.328746</td>\n",
              "      <td>7.238333</td>\n",
              "      <td>5.553919</td>\n",
              "      <td>5.696784</td>\n",
              "      <td>6.918401</td>\n",
              "      <td>6.391952</td>\n",
              "      <td>7.669209</td>\n",
              "      <td>8.118412</td>\n",
              "      <td>7.386410</td>\n",
              "    </tr>\n",
              "    <tr>\n",
              "      <th>...</th>\n",
              "      <td>...</td>\n",
              "      <td>...</td>\n",
              "      <td>...</td>\n",
              "      <td>...</td>\n",
              "      <td>...</td>\n",
              "      <td>...</td>\n",
              "      <td>...</td>\n",
              "      <td>...</td>\n",
              "      <td>...</td>\n",
              "      <td>...</td>\n",
              "    </tr>\n",
              "    <tr>\n",
              "      <th>426447</th>\n",
              "      <td>7.420595</td>\n",
              "      <td>6.520478</td>\n",
              "      <td>6.857911</td>\n",
              "      <td>4.941422</td>\n",
              "      <td>5.193632</td>\n",
              "      <td>6.040913</td>\n",
              "      <td>5.896979</td>\n",
              "      <td>6.983117</td>\n",
              "      <td>7.286571</td>\n",
              "      <td>6.969380</td>\n",
              "    </tr>\n",
              "    <tr>\n",
              "      <th>426448</th>\n",
              "      <td>7.183750</td>\n",
              "      <td>6.367168</td>\n",
              "      <td>6.691178</td>\n",
              "      <td>5.031639</td>\n",
              "      <td>5.196581</td>\n",
              "      <td>5.869000</td>\n",
              "      <td>5.825134</td>\n",
              "      <td>6.612903</td>\n",
              "      <td>6.750108</td>\n",
              "      <td>6.937070</td>\n",
              "    </tr>\n",
              "    <tr>\n",
              "      <th>426449</th>\n",
              "      <td>7.704875</td>\n",
              "      <td>7.053487</td>\n",
              "      <td>7.020070</td>\n",
              "      <td>5.357338</td>\n",
              "      <td>5.613503</td>\n",
              "      <td>6.595548</td>\n",
              "      <td>6.132767</td>\n",
              "      <td>7.523516</td>\n",
              "      <td>7.764065</td>\n",
              "      <td>6.958881</td>\n",
              "    </tr>\n",
              "    <tr>\n",
              "      <th>426450</th>\n",
              "      <td>7.592790</td>\n",
              "      <td>6.863505</td>\n",
              "      <td>6.998230</td>\n",
              "      <td>5.249933</td>\n",
              "      <td>5.502938</td>\n",
              "      <td>6.405256</td>\n",
              "      <td>5.990360</td>\n",
              "      <td>7.364938</td>\n",
              "      <td>7.635119</td>\n",
              "      <td>6.954194</td>\n",
              "    </tr>\n",
              "    <tr>\n",
              "      <th>426451</th>\n",
              "      <td>7.519705</td>\n",
              "      <td>7.037020</td>\n",
              "      <td>6.893603</td>\n",
              "      <td>5.283892</td>\n",
              "      <td>5.424139</td>\n",
              "      <td>6.393145</td>\n",
              "      <td>6.021947</td>\n",
              "      <td>7.331428</td>\n",
              "      <td>7.607031</td>\n",
              "      <td>6.998374</td>\n",
              "    </tr>\n",
              "  </tbody>\n",
              "</table>\n",
              "<p>426452 rows × 10 columns</p>\n",
              "</div>\n",
              "      <button class=\"colab-df-convert\" onclick=\"convertToInteractive('df-179271fe-c683-4413-bb3c-472dbb9b00bd')\"\n",
              "              title=\"Convert this dataframe to an interactive table.\"\n",
              "              style=\"display:none;\">\n",
              "        \n",
              "  <svg xmlns=\"http://www.w3.org/2000/svg\" height=\"24px\"viewBox=\"0 0 24 24\"\n",
              "       width=\"24px\">\n",
              "    <path d=\"M0 0h24v24H0V0z\" fill=\"none\"/>\n",
              "    <path d=\"M18.56 5.44l.94 2.06.94-2.06 2.06-.94-2.06-.94-.94-2.06-.94 2.06-2.06.94zm-11 1L8.5 8.5l.94-2.06 2.06-.94-2.06-.94L8.5 2.5l-.94 2.06-2.06.94zm10 10l.94 2.06.94-2.06 2.06-.94-2.06-.94-.94-2.06-.94 2.06-2.06.94z\"/><path d=\"M17.41 7.96l-1.37-1.37c-.4-.4-.92-.59-1.43-.59-.52 0-1.04.2-1.43.59L10.3 9.45l-7.72 7.72c-.78.78-.78 2.05 0 2.83L4 21.41c.39.39.9.59 1.41.59.51 0 1.02-.2 1.41-.59l7.78-7.78 2.81-2.81c.8-.78.8-2.07 0-2.86zM5.41 20L4 18.59l7.72-7.72 1.47 1.35L5.41 20z\"/>\n",
              "  </svg>\n",
              "      </button>\n",
              "      \n",
              "  <style>\n",
              "    .colab-df-container {\n",
              "      display:flex;\n",
              "      flex-wrap:wrap;\n",
              "      gap: 12px;\n",
              "    }\n",
              "\n",
              "    .colab-df-convert {\n",
              "      background-color: #E8F0FE;\n",
              "      border: none;\n",
              "      border-radius: 50%;\n",
              "      cursor: pointer;\n",
              "      display: none;\n",
              "      fill: #1967D2;\n",
              "      height: 32px;\n",
              "      padding: 0 0 0 0;\n",
              "      width: 32px;\n",
              "    }\n",
              "\n",
              "    .colab-df-convert:hover {\n",
              "      background-color: #E2EBFA;\n",
              "      box-shadow: 0px 1px 2px rgba(60, 64, 67, 0.3), 0px 1px 3px 1px rgba(60, 64, 67, 0.15);\n",
              "      fill: #174EA6;\n",
              "    }\n",
              "\n",
              "    [theme=dark] .colab-df-convert {\n",
              "      background-color: #3B4455;\n",
              "      fill: #D2E3FC;\n",
              "    }\n",
              "\n",
              "    [theme=dark] .colab-df-convert:hover {\n",
              "      background-color: #434B5C;\n",
              "      box-shadow: 0px 1px 3px 1px rgba(0, 0, 0, 0.15);\n",
              "      filter: drop-shadow(0px 1px 2px rgba(0, 0, 0, 0.3));\n",
              "      fill: #FFFFFF;\n",
              "    }\n",
              "  </style>\n",
              "\n",
              "      <script>\n",
              "        const buttonEl =\n",
              "          document.querySelector('#df-179271fe-c683-4413-bb3c-472dbb9b00bd button.colab-df-convert');\n",
              "        buttonEl.style.display =\n",
              "          google.colab.kernel.accessAllowed ? 'block' : 'none';\n",
              "\n",
              "        async function convertToInteractive(key) {\n",
              "          const element = document.querySelector('#df-179271fe-c683-4413-bb3c-472dbb9b00bd');\n",
              "          const dataTable =\n",
              "            await google.colab.kernel.invokeFunction('convertToInteractive',\n",
              "                                                     [key], {});\n",
              "          if (!dataTable) return;\n",
              "\n",
              "          const docLinkHtml = 'Like what you see? Visit the ' +\n",
              "            '<a target=\"_blank\" href=https://colab.research.google.com/notebooks/data_table.ipynb>data table notebook</a>'\n",
              "            + ' to learn more about interactive tables.';\n",
              "          element.innerHTML = '';\n",
              "          dataTable['output_type'] = 'display_data';\n",
              "          await google.colab.output.renderOutput(dataTable, element);\n",
              "          const docLink = document.createElement('div');\n",
              "          docLink.innerHTML = docLinkHtml;\n",
              "          element.appendChild(docLink);\n",
              "        }\n",
              "      </script>\n",
              "    </div>\n",
              "  </div>\n",
              "  "
            ],
            "text/plain": [
              "               0         1         2  ...         7         8         9\n",
              "0       7.825394  7.350043  7.104748  ...  7.611237  8.040226  7.210373\n",
              "1       7.608776  7.043998  6.975792  ...  7.464313  7.965526  6.875921\n",
              "2       7.838891  7.246246  6.971583  ...  7.459764  7.859375  7.076850\n",
              "3       8.105361  7.373190  7.175952  ...  7.666252  8.016595  7.264055\n",
              "4       8.039682  7.328746  7.238333  ...  7.669209  8.118412  7.386410\n",
              "...          ...       ...       ...  ...       ...       ...       ...\n",
              "426447  7.420595  6.520478  6.857911  ...  6.983117  7.286571  6.969380\n",
              "426448  7.183750  6.367168  6.691178  ...  6.612903  6.750108  6.937070\n",
              "426449  7.704875  7.053487  7.020070  ...  7.523516  7.764065  6.958881\n",
              "426450  7.592790  6.863505  6.998230  ...  7.364938  7.635119  6.954194\n",
              "426451  7.519705  7.037020  6.893603  ...  7.331428  7.607031  6.998374\n",
              "\n",
              "[426452 rows x 10 columns]"
            ]
          },
          "metadata": {},
          "execution_count": 184
        }
      ]
    },
    {
      "cell_type": "markdown",
      "source": [
        "### 4. Funções de perda\n",
        "De base eu preferi usar a Mean Squared Error, que tem uma derivada mais simples. Conversando com um amigo formado na área, ele sugeriu utilizar a binary cross entropy pois a classificação é binária, porém não consegui fazer funcionar bem"
      ],
      "metadata": {
        "id": "A8iwDHfK9BX-"
      }
    },
    {
      "cell_type": "code",
      "source": [
        "# Para loss function, fazer MSE\n",
        "def mse(X,y_hat, y):\n",
        "  return np.square(y_hat-y).sum()"
      ],
      "metadata": {
        "id": "czMKSAPRs8CM"
      },
      "execution_count": 203,
      "outputs": []
    },
    {
      "cell_type": "code",
      "source": [
        "cost = mse(X_train, output, y_train)\n",
        "cost"
      ],
      "metadata": {
        "colab": {
          "base_uri": "https://localhost:8080/"
        },
        "id": "Xm1o6Q_grQ7s",
        "outputId": "11ce8680-8d06-46aa-848e-63725f6bd47a"
      },
      "execution_count": 186,
      "outputs": [
        {
          "output_type": "execute_result",
          "data": {
            "text/plain": [
              "210416.23798117213"
            ]
          },
          "metadata": {},
          "execution_count": 186
        }
      ]
    },
    {
      "cell_type": "code",
      "source": [
        "def bin_cross_entropy(y_hat, y):\n",
        "  i = np.where(y==0)\n",
        "  y_hat[i] = 1 - y_hat[i]\n",
        "  return -np.mean(np.log(y_hat))"
      ],
      "metadata": {
        "id": "smH01nKh8TM-"
      },
      "execution_count": 187,
      "outputs": []
    },
    {
      "cell_type": "code",
      "source": [
        "def dbin_cross_entropy(y_hat, y):\n",
        "  i = np.where(y==0)\n",
        "  y_hat[i] = 1 - y_hat[i]\n",
        "  return -1/y_hat"
      ],
      "metadata": {
        "id": "Uwi46b5bRO94"
      },
      "execution_count": 188,
      "outputs": []
    },
    {
      "cell_type": "markdown",
      "source": [
        "### 5. Back propagation\n",
        "\n",
        "Essa foi a parte mais desafiadora, e provavelmente incorreta. Eu utilizei como base o código disponibilizado em https://trinket.io/python3/46f661f6b7, mas com notações coerentes com o vídeo do 3blue1brown (dCda_2 por exemplo que dizer derivada da função de custo por a2). No entanto, no código do site que uso como referência, o autor \"absorve\" o viês para dentro de X, e logo não tem que atualizá-lo da mesma maneira que os pesos. Isso acabou resultando em um problema de dimensionalidade para o meu b_2. EU tentei uma solução que parecia coerente (utilizando a lógica de soma do vídeo do 3blue1brown, não sei se está correto). Mas bem, segue o código."
      ],
      "metadata": {
        "id": "EQYMC9uS9cnG"
      }
    },
    {
      "cell_type": "code",
      "source": [
        "def backprop(X, y, z1, z2, a1, a2, w_1, w_2, b_1, b_2, lr):\n",
        "#X, y, lr = X_train, y_train, 0.1\n",
        "\n",
        "    #Backprop to hidden layer\n",
        "    dCda_2 = 2.0 * (a2-y) /len(X)\n",
        "    #dCda_2 = dbin_cross_entropy(output,y)  # caso usar cross entropy \n",
        "    da_2dz_2 = dsig(z2)           \n",
        "    da_2dz_2= np.array(da_2dz_2).reshape(len(da_2dz_2))\n",
        "    dz_2dw_2 = a1            \n",
        "    dCdw_2= dz_2dw_2.T.dot(dCda_2*da_2dz_2) \n",
        "    dCdb_2 = dCda_2.T.dot(da_2dz_2)\n",
        "\n",
        "    #backprop to input layer\n",
        "\n",
        "    aux = dCda_2*da_2dz_2\n",
        "    aux = np.array(aux).reshape(len(aux),1)\n",
        "    dCda_1 = (aux).dot(w_2.T)\n",
        "    #dCda_1 =w_2.dot(aux.T)\n",
        "    da_1dz_1 = dsig(z1)\n",
        "    #dw_1_part_2 = np.array(dw_1_part_2).reshape(len(dw_1_part_1))\n",
        "    dz_1dw_1 = X\n",
        "    dCdw_1 = dz_1dw_1.T.dot(dCda_1*da_1dz_1)\n",
        "    dCdb_1 = da_1dz_1.T.dot(dCda_1).sum(axis=0)\n",
        "\n",
        "    #Atualização de pesos e biases\n",
        "\n",
        "    w_2 = w_2 - lr*np.array(dCdw_2).reshape(len(dCdw_2),1)\n",
        "    w_1 = w_1 - lr*dCdw_1\n",
        "    b_2 = b_2 - lr*dCdb_2\n",
        "    b_1 = b_1 - lr*np.array(dCdb_1).reshape(len(dCdb_1),1)\n",
        "\n",
        "    return w_1, w_2, b_1, b_2"
      ],
      "metadata": {
        "id": "VNz8r4On8aP2"
      },
      "execution_count": 204,
      "outputs": []
    },
    {
      "cell_type": "code",
      "source": [
        "w_1, w_2, b_1, b_2 = backprop(X_train, y_train, z1,z2,hidden, output,w_1,w_2,b_1,b_2, 0.1)"
      ],
      "metadata": {
        "id": "YbpeUIbC5Gmr"
      },
      "execution_count": 191,
      "outputs": []
    },
    {
      "cell_type": "code",
      "source": [
        "#Vendo se a atualização está coerente. Descomente uma linha para avaliar\n",
        "\n",
        "#print(w_1, \"dim = \", np.shape(w_1))\n",
        "#print(w_2, \"dim = \", np.shape(w_2))\n",
        "#print(b_1, \"dim = \", np.shape(b_1))\n",
        "print(b_2, \"dim = \", np.shape(b_2))"
      ],
      "metadata": {
        "colab": {
          "base_uri": "https://localhost:8080/"
        },
        "id": "ceK1Mmcrj7Jw",
        "outputId": "4d82aeb9-f4a2-4902-e3db-01e08e03b20c"
      },
      "execution_count": 201,
      "outputs": [
        {
          "output_type": "stream",
          "name": "stdout",
          "text": [
            "[[-0.00065012]] dim =  (1, 1)\n"
          ]
        }
      ]
    },
    {
      "cell_type": "markdown",
      "source": [
        "Vemos que os vieses são levemente atualizados"
      ],
      "metadata": {
        "id": "e5ibgr8l_L8d"
      }
    },
    {
      "cell_type": "markdown",
      "source": [
        "### 6. Juntando tudo em uma rede neural\n",
        "\n",
        "Abaixo temos a função que junta tudo em uma rede neural com várias épocas."
      ],
      "metadata": {
        "id": "ZWPwCxbZ_aTs"
      }
    },
    {
      "cell_type": "code",
      "source": [
        "def ANN(X,y, hiddenNodes = 10, epochs = 100, lr =0.1):\n",
        "#X,y, hiddenNodes, epochs , lr = X_train, y_train, 10, 100,0.1\n",
        "    w_1,w_2,b_1,b_2 = initialize(X, hiddenNodes)\n",
        "    for iter in range(epochs):\n",
        "      z1,z2,hidden,output = forward(X_train, y_train, w_1,w_2,b_1,b_2)\n",
        "      cost = mse(X,output,y)\n",
        "      #cost = bin_cross_entropy(output,y)\n",
        "      w_1, w_2, b_1, b_2 = backprop(X, y, z1, z2,hidden, output, w_1, w_2, b_1, b_2,lr)\n",
        "      print (\"epoch: \", iter, \"total loss: \", cost)\n",
        "    return w_1, w_2, b_1, b_2"
      ],
      "metadata": {
        "id": "pH-jk9BHAZhn"
      },
      "execution_count": 208,
      "outputs": []
    },
    {
      "cell_type": "markdown",
      "source": [
        "### 7. Treinando uma rede neural\n",
        "\n",
        "Abaixo rodamos a função ANN no dataset de traino. Vemos que o valor de custo abaixa com cada iteração\n",
        "\n"
      ],
      "metadata": {
        "id": "QCm80HGZyhHT"
      }
    },
    {
      "cell_type": "code",
      "execution_count": 209,
      "metadata": {
        "id": "G2RPSbozXmic",
        "colab": {
          "base_uri": "https://localhost:8080/"
        },
        "outputId": "bcb19672-e28a-4178-b157-259f71c1ade4"
      },
      "outputs": [
        {
          "output_type": "stream",
          "name": "stdout",
          "text": [
            "epoch:  0 total loss:  140417.4464442154\n",
            "epoch:  1 total loss:  137219.94635710452\n",
            "epoch:  2 total loss:  134110.49706175431\n",
            "epoch:  3 total loss:  131125.66830413928\n",
            "epoch:  4 total loss:  128297.26251922775\n",
            "epoch:  5 total loss:  125650.5561799503\n",
            "epoch:  6 total loss:  123203.22278290386\n",
            "epoch:  7 total loss:  120965.02785882086\n",
            "epoch:  8 total loss:  118938.24583909777\n",
            "epoch:  9 total loss:  117118.63791409462\n",
            "epoch:  10 total loss:  115496.77265379559\n",
            "epoch:  11 total loss:  114059.46939215595\n",
            "epoch:  12 total loss:  112791.18380203599\n",
            "epoch:  13 total loss:  111675.21442596926\n",
            "epoch:  14 total loss:  110694.66904263361\n",
            "epoch:  15 total loss:  109833.17848116088\n",
            "epoch:  16 total loss:  109075.37817631263\n",
            "epoch:  17 total loss:  108407.19515930067\n",
            "epoch:  18 total loss:  107815.98383749026\n",
            "epoch:  19 total loss:  107290.55200445818\n",
            "epoch:  20 total loss:  106821.11263375808\n",
            "epoch:  21 total loss:  106399.18971395984\n",
            "epoch:  22 total loss:  106017.49924551048\n",
            "epoch:  23 total loss:  105669.82033230033\n",
            "epoch:  24 total loss:  105350.86633904494\n",
            "epoch:  25 total loss:  105056.16233095185\n",
            "epoch:  26 total loss:  104781.93230434896\n",
            "epoch:  27 total loss:  104524.99784919832\n",
            "epoch:  28 total loss:  104282.68865472397\n",
            "epoch:  29 total loss:  104052.76450391405\n",
            "epoch:  30 total loss:  103833.34796253868\n",
            "epoch:  31 total loss:  103622.86674821374\n",
            "epoch:  32 total loss:  103420.00468804962\n",
            "epoch:  33 total loss:  103223.66018524695\n",
            "epoch:  34 total loss:  103032.91117837912\n",
            "epoch:  35 total loss:  102846.98566721911\n",
            "epoch:  36 total loss:  102665.23697982055\n",
            "epoch:  37 total loss:  102487.12305725132\n",
            "epoch:  38 total loss:  102312.18912912683\n",
            "epoch:  39 total loss:  102140.05324181968\n",
            "epoch:  40 total loss:  101970.39418061294\n",
            "epoch:  41 total loss:  101802.94139685655\n",
            "epoch:  42 total loss:  101637.46661175051\n",
            "epoch:  43 total loss:  101473.77682043439\n",
            "epoch:  44 total loss:  101311.70846447049\n",
            "epoch:  45 total loss:  101151.12257848112\n",
            "epoch:  46 total loss:  100991.90074851783\n",
            "epoch:  47 total loss:  100833.94174651754\n",
            "epoch:  48 total loss:  100677.15872767975\n",
            "epoch:  49 total loss:  100521.47689642553\n",
            "epoch:  50 total loss:  100366.83156234001\n",
            "epoch:  51 total loss:  100213.16652064979\n",
            "epoch:  52 total loss:  100060.43270275206\n",
            "epoch:  53 total loss:  99908.5870514551\n",
            "epoch:  54 total loss:  99757.59158320505\n",
            "epoch:  55 total loss:  99607.4126059148\n",
            "epoch:  56 total loss:  99458.02006628906\n",
            "epoch:  57 total loss:  99309.38700493047\n",
            "epoch:  58 total loss:  99161.48910116403\n",
            "epoch:  59 total loss:  99014.30429255818\n",
            "epoch:  60 total loss:  98867.81245664407\n",
            "epoch:  61 total loss:  98721.99514444018\n",
            "epoch:  62 total loss:  98576.83535713288\n",
            "epoch:  63 total loss:  98432.31735871959\n",
            "epoch:  64 total loss:  98288.42651862792\n",
            "epoch:  65 total loss:  98145.14917932884\n",
            "epoch:  66 total loss:  98002.47254479789\n",
            "epoch:  67 total loss:  97860.38458637257\n",
            "epoch:  68 total loss:  97718.87396313257\n",
            "epoch:  69 total loss:  97577.92995440813\n",
            "epoch:  70 total loss:  97437.5424024246\n",
            "epoch:  71 total loss:  97297.70166341982\n",
            "epoch:  72 total loss:  97158.39856585136\n",
            "epoch:  73 total loss:  97019.62437453704\n",
            "epoch:  74 total loss:  96881.3707597672\n",
            "epoch:  75 total loss:  96743.62977058362\n",
            "epoch:  76 total loss:  96606.39381155431\n",
            "epoch:  77 total loss:  96469.65562248422\n",
            "epoch:  78 total loss:  96333.40826059147\n",
            "epoch:  79 total loss:  96197.64508475954\n",
            "epoch:  80 total loss:  96062.35974153514\n",
            "epoch:  81 total loss:  95927.54615259875\n",
            "epoch:  82 total loss:  95793.19850347673\n",
            "epoch:  83 total loss:  95659.31123330227\n",
            "epoch:  84 total loss:  95525.87902546303\n",
            "epoch:  85 total loss:  95392.89679899876\n",
            "epoch:  86 total loss:  95260.35970063608\n",
            "epoch:  87 total loss:  95128.263097362\n",
            "epoch:  88 total loss:  94996.60256945607\n",
            "epoch:  89 total loss:  94865.373903913\n",
            "epoch:  90 total loss:  94734.57308819788\n",
            "epoch:  91 total loss:  94604.19630428437\n",
            "epoch:  92 total loss:  94474.23992293612\n",
            "epoch:  93 total loss:  94344.70049819569\n",
            "epoch:  94 total loss:  94215.57476205198\n",
            "epoch:  95 total loss:  94086.85961926101\n",
            "epoch:  96 total loss:  93958.55214229945\n",
            "epoch:  97 total loss:  93830.64956643237\n",
            "epoch:  98 total loss:  93703.14928488183\n",
            "epoch:  99 total loss:  93576.04884408122\n"
          ]
        }
      ],
      "source": [
        "W_1, W_2, B_1, B_2 = ANN(X_train,y_train)"
      ]
    },
    {
      "cell_type": "code",
      "source": [
        "z1, z2, hidden, output = forward(X_test,y_test, W_1,B_1,W_2,B_2)"
      ],
      "metadata": {
        "id": "CN6Du5lukpPq"
      },
      "execution_count": 210,
      "outputs": []
    },
    {
      "cell_type": "code",
      "source": [
        "output"
      ],
      "metadata": {
        "colab": {
          "base_uri": "https://localhost:8080/"
        },
        "id": "uEBeEW5D9fI1",
        "outputId": "c3b529a6-dd9c-453f-fb25-fb55a87cc677"
      },
      "execution_count": 211,
      "outputs": [
        {
          "output_type": "execute_result",
          "data": {
            "text/plain": [
              "array([0.41803495, 0.41840687, 0.41751025, ..., 0.41683106, 0.41478745,\n",
              "       0.4145662 ])"
            ]
          },
          "metadata": {},
          "execution_count": 211
        }
      ]
    },
    {
      "cell_type": "markdown",
      "source": [
        "Aqui vemos que o output simplesmente não é coerente. A função sigmoide nos entrega um float, e por consequência, o output também o é. Não consegui entender bem como faria para poder fazer uma lógica de arredondamento e poder tornar a classificação binária."
      ],
      "metadata": {
        "id": "xDdWHNzrBKvn"
      }
    },
    {
      "cell_type": "code",
      "source": [
        "y_test"
      ],
      "metadata": {
        "colab": {
          "base_uri": "https://localhost:8080/"
        },
        "id": "9_zHBpa_B6xd",
        "outputId": "e28e0b1c-f02c-43ac-c64a-bb698d664abe"
      },
      "execution_count": 212,
      "outputs": [
        {
          "output_type": "execute_result",
          "data": {
            "text/plain": [
              "43428     1\n",
              "49906     0\n",
              "29474     0\n",
              "276481    0\n",
              "278846    0\n",
              "         ..\n",
              "234953    0\n",
              "235147    0\n",
              "199459    0\n",
              "172357    0\n",
              "110731    0\n",
              "Name: Class, Length: 71202, dtype: int64"
            ]
          },
          "metadata": {},
          "execution_count": 212
        }
      ]
    },
    {
      "cell_type": "code",
      "source": [
        "mse(X_test,y_test, output)"
      ],
      "metadata": {
        "colab": {
          "base_uri": "https://localhost:8080/"
        },
        "id": "EHXqSUV_savA",
        "outputId": "53a89d71-9a4a-4b2e-8336-5514d1310e42"
      },
      "execution_count": 214,
      "outputs": [
        {
          "output_type": "execute_result",
          "data": {
            "text/plain": [
              "12365.692291815169"
            ]
          },
          "metadata": {},
          "execution_count": 214
        }
      ]
    },
    {
      "cell_type": "markdown",
      "source": [
        "Finalmente, como não consegui deixar a rede neural funcional, não foi possível avançar nos outros elementos do período."
      ],
      "metadata": {
        "id": "H9ZAXRJDBeSG"
      }
    }
  ],
  "metadata": {
    "colab": {
      "name": "ANN.ipynb",
      "provenance": [],
      "collapsed_sections": []
    },
    "kernelspec": {
      "display_name": "Python 3",
      "name": "python3"
    },
    "language_info": {
      "name": "python"
    }
  },
  "nbformat": 4,
  "nbformat_minor": 0
}
