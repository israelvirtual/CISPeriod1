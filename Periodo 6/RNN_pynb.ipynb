{
  "cells": [
    {
      "cell_type": "markdown",
      "source": [
        "## Imports principais"
      ],
      "metadata": {
        "id": "CBKu46Hzrxlb"
      }
    },
    {
      "cell_type": "code",
      "execution_count": 1,
      "metadata": {
        "id": "_kiXF9Nl8D7T"
      },
      "outputs": [],
      "source": [
        "import pandas as pd\n",
        "import matplotlib.pyplot as plt\n",
        "import numpy as np\n",
        "import seaborn as sns\n",
        "import random\n",
        "from google.colab import files\n",
        "from math import *\n",
        "import time\n",
        "from sklearn import metrics\n",
        "import sklearn\n",
        "import tensorflow as tf\n",
        "\n",
        "from imblearn.over_sampling import RandomOverSampler\n",
        "from imblearn.under_sampling import RandomUnderSampler"
      ]
    },
    {
      "cell_type": "code",
      "execution_count": 2,
      "metadata": {
        "id": "a6odiH0y8LyZ"
      },
      "outputs": [],
      "source": [
        "from keras.models import Sequential, Model\n",
        "from keras.layers import Conv2D, MaxPooling2D, Dense, Flatten, Dropout\n",
        "from keras.preprocessing.image import ImageDataGenerator\n",
        "from keras import regularizers"
      ]
    },
    {
      "cell_type": "code",
      "execution_count": 3,
      "metadata": {
        "colab": {
          "base_uri": "https://localhost:8080/"
        },
        "id": "bXCQeIlY52Zk",
        "outputId": "c7be9abc-7958-48f2-cc10-9a57c1d3d55f"
      },
      "outputs": [
        {
          "output_type": "stream",
          "name": "stdout",
          "text": [
            "Mounted at /content/gdrive\n"
          ]
        }
      ],
      "source": [
        "from google.colab import drive\n",
        "drive.mount('/content/gdrive')\n",
        "\n",
        "!cp '/content/gdrive/My Drive/Musical_instruments_reviews.csv' new\n",
        "\n"
      ]
    },
    {
      "cell_type": "markdown",
      "source": [
        "## Explorando Dataset"
      ],
      "metadata": {
        "id": "bSFBQdPQr2nd"
      }
    },
    {
      "cell_type": "code",
      "source": [
        "df = pd.read_csv('/content/new')\n",
        "df.head()"
      ],
      "metadata": {
        "colab": {
          "base_uri": "https://localhost:8080/",
          "height": 206
        },
        "id": "q3RSmOKh2q9s",
        "outputId": "b2387037-8b3e-441e-91c6-fcc7edac16ad"
      },
      "execution_count": 4,
      "outputs": [
        {
          "output_type": "execute_result",
          "data": {
            "text/plain": [
              "       reviewerID        asin  \\\n",
              "0  A2IBPI20UZIR0U  1384719342   \n",
              "1  A14VAT5EAX3D9S  1384719342   \n",
              "2  A195EZSQDW3E21  1384719342   \n",
              "3  A2C00NNG1ZQQG2  1384719342   \n",
              "4   A94QU4C90B1AX  1384719342   \n",
              "\n",
              "                                       reviewerName   helpful  \\\n",
              "0  cassandra tu \"Yeah, well, that's just like, u...    [0, 0]   \n",
              "1                                              Jake  [13, 14]   \n",
              "2                     Rick Bennette \"Rick Bennette\"    [1, 1]   \n",
              "3                         RustyBill \"Sunday Rocker\"    [0, 0]   \n",
              "4                                     SEAN MASLANKA    [0, 0]   \n",
              "\n",
              "                                          reviewText  overall  \\\n",
              "0  Not much to write about here, but it does exac...      5.0   \n",
              "1  The product does exactly as it should and is q...      5.0   \n",
              "2  The primary job of this device is to block the...      5.0   \n",
              "3  Nice windscreen protects my MXL mic and preven...      5.0   \n",
              "4  This pop filter is great. It looks and perform...      5.0   \n",
              "\n",
              "                                 summary  unixReviewTime   reviewTime  \n",
              "0                                   good      1393545600  02 28, 2014  \n",
              "1                                   Jake      1363392000  03 16, 2013  \n",
              "2                   It Does The Job Well      1377648000  08 28, 2013  \n",
              "3          GOOD WINDSCREEN FOR THE MONEY      1392336000  02 14, 2014  \n",
              "4  No more pops when I record my vocals.      1392940800  02 21, 2014  "
            ],
            "text/html": [
              "\n",
              "  <div id=\"df-6834878c-0858-4b4e-9817-ca73662cc6a5\">\n",
              "    <div class=\"colab-df-container\">\n",
              "      <div>\n",
              "<style scoped>\n",
              "    .dataframe tbody tr th:only-of-type {\n",
              "        vertical-align: middle;\n",
              "    }\n",
              "\n",
              "    .dataframe tbody tr th {\n",
              "        vertical-align: top;\n",
              "    }\n",
              "\n",
              "    .dataframe thead th {\n",
              "        text-align: right;\n",
              "    }\n",
              "</style>\n",
              "<table border=\"1\" class=\"dataframe\">\n",
              "  <thead>\n",
              "    <tr style=\"text-align: right;\">\n",
              "      <th></th>\n",
              "      <th>reviewerID</th>\n",
              "      <th>asin</th>\n",
              "      <th>reviewerName</th>\n",
              "      <th>helpful</th>\n",
              "      <th>reviewText</th>\n",
              "      <th>overall</th>\n",
              "      <th>summary</th>\n",
              "      <th>unixReviewTime</th>\n",
              "      <th>reviewTime</th>\n",
              "    </tr>\n",
              "  </thead>\n",
              "  <tbody>\n",
              "    <tr>\n",
              "      <th>0</th>\n",
              "      <td>A2IBPI20UZIR0U</td>\n",
              "      <td>1384719342</td>\n",
              "      <td>cassandra tu \"Yeah, well, that's just like, u...</td>\n",
              "      <td>[0, 0]</td>\n",
              "      <td>Not much to write about here, but it does exac...</td>\n",
              "      <td>5.0</td>\n",
              "      <td>good</td>\n",
              "      <td>1393545600</td>\n",
              "      <td>02 28, 2014</td>\n",
              "    </tr>\n",
              "    <tr>\n",
              "      <th>1</th>\n",
              "      <td>A14VAT5EAX3D9S</td>\n",
              "      <td>1384719342</td>\n",
              "      <td>Jake</td>\n",
              "      <td>[13, 14]</td>\n",
              "      <td>The product does exactly as it should and is q...</td>\n",
              "      <td>5.0</td>\n",
              "      <td>Jake</td>\n",
              "      <td>1363392000</td>\n",
              "      <td>03 16, 2013</td>\n",
              "    </tr>\n",
              "    <tr>\n",
              "      <th>2</th>\n",
              "      <td>A195EZSQDW3E21</td>\n",
              "      <td>1384719342</td>\n",
              "      <td>Rick Bennette \"Rick Bennette\"</td>\n",
              "      <td>[1, 1]</td>\n",
              "      <td>The primary job of this device is to block the...</td>\n",
              "      <td>5.0</td>\n",
              "      <td>It Does The Job Well</td>\n",
              "      <td>1377648000</td>\n",
              "      <td>08 28, 2013</td>\n",
              "    </tr>\n",
              "    <tr>\n",
              "      <th>3</th>\n",
              "      <td>A2C00NNG1ZQQG2</td>\n",
              "      <td>1384719342</td>\n",
              "      <td>RustyBill \"Sunday Rocker\"</td>\n",
              "      <td>[0, 0]</td>\n",
              "      <td>Nice windscreen protects my MXL mic and preven...</td>\n",
              "      <td>5.0</td>\n",
              "      <td>GOOD WINDSCREEN FOR THE MONEY</td>\n",
              "      <td>1392336000</td>\n",
              "      <td>02 14, 2014</td>\n",
              "    </tr>\n",
              "    <tr>\n",
              "      <th>4</th>\n",
              "      <td>A94QU4C90B1AX</td>\n",
              "      <td>1384719342</td>\n",
              "      <td>SEAN MASLANKA</td>\n",
              "      <td>[0, 0]</td>\n",
              "      <td>This pop filter is great. It looks and perform...</td>\n",
              "      <td>5.0</td>\n",
              "      <td>No more pops when I record my vocals.</td>\n",
              "      <td>1392940800</td>\n",
              "      <td>02 21, 2014</td>\n",
              "    </tr>\n",
              "  </tbody>\n",
              "</table>\n",
              "</div>\n",
              "      <button class=\"colab-df-convert\" onclick=\"convertToInteractive('df-6834878c-0858-4b4e-9817-ca73662cc6a5')\"\n",
              "              title=\"Convert this dataframe to an interactive table.\"\n",
              "              style=\"display:none;\">\n",
              "        \n",
              "  <svg xmlns=\"http://www.w3.org/2000/svg\" height=\"24px\"viewBox=\"0 0 24 24\"\n",
              "       width=\"24px\">\n",
              "    <path d=\"M0 0h24v24H0V0z\" fill=\"none\"/>\n",
              "    <path d=\"M18.56 5.44l.94 2.06.94-2.06 2.06-.94-2.06-.94-.94-2.06-.94 2.06-2.06.94zm-11 1L8.5 8.5l.94-2.06 2.06-.94-2.06-.94L8.5 2.5l-.94 2.06-2.06.94zm10 10l.94 2.06.94-2.06 2.06-.94-2.06-.94-.94-2.06-.94 2.06-2.06.94z\"/><path d=\"M17.41 7.96l-1.37-1.37c-.4-.4-.92-.59-1.43-.59-.52 0-1.04.2-1.43.59L10.3 9.45l-7.72 7.72c-.78.78-.78 2.05 0 2.83L4 21.41c.39.39.9.59 1.41.59.51 0 1.02-.2 1.41-.59l7.78-7.78 2.81-2.81c.8-.78.8-2.07 0-2.86zM5.41 20L4 18.59l7.72-7.72 1.47 1.35L5.41 20z\"/>\n",
              "  </svg>\n",
              "      </button>\n",
              "      \n",
              "  <style>\n",
              "    .colab-df-container {\n",
              "      display:flex;\n",
              "      flex-wrap:wrap;\n",
              "      gap: 12px;\n",
              "    }\n",
              "\n",
              "    .colab-df-convert {\n",
              "      background-color: #E8F0FE;\n",
              "      border: none;\n",
              "      border-radius: 50%;\n",
              "      cursor: pointer;\n",
              "      display: none;\n",
              "      fill: #1967D2;\n",
              "      height: 32px;\n",
              "      padding: 0 0 0 0;\n",
              "      width: 32px;\n",
              "    }\n",
              "\n",
              "    .colab-df-convert:hover {\n",
              "      background-color: #E2EBFA;\n",
              "      box-shadow: 0px 1px 2px rgba(60, 64, 67, 0.3), 0px 1px 3px 1px rgba(60, 64, 67, 0.15);\n",
              "      fill: #174EA6;\n",
              "    }\n",
              "\n",
              "    [theme=dark] .colab-df-convert {\n",
              "      background-color: #3B4455;\n",
              "      fill: #D2E3FC;\n",
              "    }\n",
              "\n",
              "    [theme=dark] .colab-df-convert:hover {\n",
              "      background-color: #434B5C;\n",
              "      box-shadow: 0px 1px 3px 1px rgba(0, 0, 0, 0.15);\n",
              "      filter: drop-shadow(0px 1px 2px rgba(0, 0, 0, 0.3));\n",
              "      fill: #FFFFFF;\n",
              "    }\n",
              "  </style>\n",
              "\n",
              "      <script>\n",
              "        const buttonEl =\n",
              "          document.querySelector('#df-6834878c-0858-4b4e-9817-ca73662cc6a5 button.colab-df-convert');\n",
              "        buttonEl.style.display =\n",
              "          google.colab.kernel.accessAllowed ? 'block' : 'none';\n",
              "\n",
              "        async function convertToInteractive(key) {\n",
              "          const element = document.querySelector('#df-6834878c-0858-4b4e-9817-ca73662cc6a5');\n",
              "          const dataTable =\n",
              "            await google.colab.kernel.invokeFunction('convertToInteractive',\n",
              "                                                     [key], {});\n",
              "          if (!dataTable) return;\n",
              "\n",
              "          const docLinkHtml = 'Like what you see? Visit the ' +\n",
              "            '<a target=\"_blank\" href=https://colab.research.google.com/notebooks/data_table.ipynb>data table notebook</a>'\n",
              "            + ' to learn more about interactive tables.';\n",
              "          element.innerHTML = '';\n",
              "          dataTable['output_type'] = 'display_data';\n",
              "          await google.colab.output.renderOutput(dataTable, element);\n",
              "          const docLink = document.createElement('div');\n",
              "          docLink.innerHTML = docLinkHtml;\n",
              "          element.appendChild(docLink);\n",
              "        }\n",
              "      </script>\n",
              "    </div>\n",
              "  </div>\n",
              "  "
            ]
          },
          "metadata": {},
          "execution_count": 4
        }
      ]
    },
    {
      "cell_type": "code",
      "source": [
        "analysis = df[['reviewText','overall']]\n",
        "analysis"
      ],
      "metadata": {
        "colab": {
          "base_uri": "https://localhost:8080/",
          "height": 423
        },
        "id": "b3Bg96s44jGn",
        "outputId": "5a2f671f-9812-447a-c80b-38a5b34fc1e6"
      },
      "execution_count": 5,
      "outputs": [
        {
          "output_type": "execute_result",
          "data": {
            "text/plain": [
              "                                              reviewText  overall\n",
              "0      Not much to write about here, but it does exac...      5.0\n",
              "1      The product does exactly as it should and is q...      5.0\n",
              "2      The primary job of this device is to block the...      5.0\n",
              "3      Nice windscreen protects my MXL mic and preven...      5.0\n",
              "4      This pop filter is great. It looks and perform...      5.0\n",
              "...                                                  ...      ...\n",
              "10256            Great, just as expected.  Thank to all.      5.0\n",
              "10257  I've been thinking about trying the Nanoweb st...      5.0\n",
              "10258  I have tried coated strings in the past ( incl...      4.0\n",
              "10259  Well, MADE by Elixir and DEVELOPED with Taylor...      4.0\n",
              "10260  These strings are really quite good, but I wou...      4.0\n",
              "\n",
              "[10261 rows x 2 columns]"
            ],
            "text/html": [
              "\n",
              "  <div id=\"df-859eff82-9c15-475e-ad90-412751ddd9b8\">\n",
              "    <div class=\"colab-df-container\">\n",
              "      <div>\n",
              "<style scoped>\n",
              "    .dataframe tbody tr th:only-of-type {\n",
              "        vertical-align: middle;\n",
              "    }\n",
              "\n",
              "    .dataframe tbody tr th {\n",
              "        vertical-align: top;\n",
              "    }\n",
              "\n",
              "    .dataframe thead th {\n",
              "        text-align: right;\n",
              "    }\n",
              "</style>\n",
              "<table border=\"1\" class=\"dataframe\">\n",
              "  <thead>\n",
              "    <tr style=\"text-align: right;\">\n",
              "      <th></th>\n",
              "      <th>reviewText</th>\n",
              "      <th>overall</th>\n",
              "    </tr>\n",
              "  </thead>\n",
              "  <tbody>\n",
              "    <tr>\n",
              "      <th>0</th>\n",
              "      <td>Not much to write about here, but it does exac...</td>\n",
              "      <td>5.0</td>\n",
              "    </tr>\n",
              "    <tr>\n",
              "      <th>1</th>\n",
              "      <td>The product does exactly as it should and is q...</td>\n",
              "      <td>5.0</td>\n",
              "    </tr>\n",
              "    <tr>\n",
              "      <th>2</th>\n",
              "      <td>The primary job of this device is to block the...</td>\n",
              "      <td>5.0</td>\n",
              "    </tr>\n",
              "    <tr>\n",
              "      <th>3</th>\n",
              "      <td>Nice windscreen protects my MXL mic and preven...</td>\n",
              "      <td>5.0</td>\n",
              "    </tr>\n",
              "    <tr>\n",
              "      <th>4</th>\n",
              "      <td>This pop filter is great. It looks and perform...</td>\n",
              "      <td>5.0</td>\n",
              "    </tr>\n",
              "    <tr>\n",
              "      <th>...</th>\n",
              "      <td>...</td>\n",
              "      <td>...</td>\n",
              "    </tr>\n",
              "    <tr>\n",
              "      <th>10256</th>\n",
              "      <td>Great, just as expected.  Thank to all.</td>\n",
              "      <td>5.0</td>\n",
              "    </tr>\n",
              "    <tr>\n",
              "      <th>10257</th>\n",
              "      <td>I've been thinking about trying the Nanoweb st...</td>\n",
              "      <td>5.0</td>\n",
              "    </tr>\n",
              "    <tr>\n",
              "      <th>10258</th>\n",
              "      <td>I have tried coated strings in the past ( incl...</td>\n",
              "      <td>4.0</td>\n",
              "    </tr>\n",
              "    <tr>\n",
              "      <th>10259</th>\n",
              "      <td>Well, MADE by Elixir and DEVELOPED with Taylor...</td>\n",
              "      <td>4.0</td>\n",
              "    </tr>\n",
              "    <tr>\n",
              "      <th>10260</th>\n",
              "      <td>These strings are really quite good, but I wou...</td>\n",
              "      <td>4.0</td>\n",
              "    </tr>\n",
              "  </tbody>\n",
              "</table>\n",
              "<p>10261 rows × 2 columns</p>\n",
              "</div>\n",
              "      <button class=\"colab-df-convert\" onclick=\"convertToInteractive('df-859eff82-9c15-475e-ad90-412751ddd9b8')\"\n",
              "              title=\"Convert this dataframe to an interactive table.\"\n",
              "              style=\"display:none;\">\n",
              "        \n",
              "  <svg xmlns=\"http://www.w3.org/2000/svg\" height=\"24px\"viewBox=\"0 0 24 24\"\n",
              "       width=\"24px\">\n",
              "    <path d=\"M0 0h24v24H0V0z\" fill=\"none\"/>\n",
              "    <path d=\"M18.56 5.44l.94 2.06.94-2.06 2.06-.94-2.06-.94-.94-2.06-.94 2.06-2.06.94zm-11 1L8.5 8.5l.94-2.06 2.06-.94-2.06-.94L8.5 2.5l-.94 2.06-2.06.94zm10 10l.94 2.06.94-2.06 2.06-.94-2.06-.94-.94-2.06-.94 2.06-2.06.94z\"/><path d=\"M17.41 7.96l-1.37-1.37c-.4-.4-.92-.59-1.43-.59-.52 0-1.04.2-1.43.59L10.3 9.45l-7.72 7.72c-.78.78-.78 2.05 0 2.83L4 21.41c.39.39.9.59 1.41.59.51 0 1.02-.2 1.41-.59l7.78-7.78 2.81-2.81c.8-.78.8-2.07 0-2.86zM5.41 20L4 18.59l7.72-7.72 1.47 1.35L5.41 20z\"/>\n",
              "  </svg>\n",
              "      </button>\n",
              "      \n",
              "  <style>\n",
              "    .colab-df-container {\n",
              "      display:flex;\n",
              "      flex-wrap:wrap;\n",
              "      gap: 12px;\n",
              "    }\n",
              "\n",
              "    .colab-df-convert {\n",
              "      background-color: #E8F0FE;\n",
              "      border: none;\n",
              "      border-radius: 50%;\n",
              "      cursor: pointer;\n",
              "      display: none;\n",
              "      fill: #1967D2;\n",
              "      height: 32px;\n",
              "      padding: 0 0 0 0;\n",
              "      width: 32px;\n",
              "    }\n",
              "\n",
              "    .colab-df-convert:hover {\n",
              "      background-color: #E2EBFA;\n",
              "      box-shadow: 0px 1px 2px rgba(60, 64, 67, 0.3), 0px 1px 3px 1px rgba(60, 64, 67, 0.15);\n",
              "      fill: #174EA6;\n",
              "    }\n",
              "\n",
              "    [theme=dark] .colab-df-convert {\n",
              "      background-color: #3B4455;\n",
              "      fill: #D2E3FC;\n",
              "    }\n",
              "\n",
              "    [theme=dark] .colab-df-convert:hover {\n",
              "      background-color: #434B5C;\n",
              "      box-shadow: 0px 1px 3px 1px rgba(0, 0, 0, 0.15);\n",
              "      filter: drop-shadow(0px 1px 2px rgba(0, 0, 0, 0.3));\n",
              "      fill: #FFFFFF;\n",
              "    }\n",
              "  </style>\n",
              "\n",
              "      <script>\n",
              "        const buttonEl =\n",
              "          document.querySelector('#df-859eff82-9c15-475e-ad90-412751ddd9b8 button.colab-df-convert');\n",
              "        buttonEl.style.display =\n",
              "          google.colab.kernel.accessAllowed ? 'block' : 'none';\n",
              "\n",
              "        async function convertToInteractive(key) {\n",
              "          const element = document.querySelector('#df-859eff82-9c15-475e-ad90-412751ddd9b8');\n",
              "          const dataTable =\n",
              "            await google.colab.kernel.invokeFunction('convertToInteractive',\n",
              "                                                     [key], {});\n",
              "          if (!dataTable) return;\n",
              "\n",
              "          const docLinkHtml = 'Like what you see? Visit the ' +\n",
              "            '<a target=\"_blank\" href=https://colab.research.google.com/notebooks/data_table.ipynb>data table notebook</a>'\n",
              "            + ' to learn more about interactive tables.';\n",
              "          element.innerHTML = '';\n",
              "          dataTable['output_type'] = 'display_data';\n",
              "          await google.colab.output.renderOutput(dataTable, element);\n",
              "          const docLink = document.createElement('div');\n",
              "          docLink.innerHTML = docLinkHtml;\n",
              "          element.appendChild(docLink);\n",
              "        }\n",
              "      </script>\n",
              "    </div>\n",
              "  </div>\n",
              "  "
            ]
          },
          "metadata": {},
          "execution_count": 5
        }
      ]
    },
    {
      "cell_type": "code",
      "source": [
        "nanValues = analysis.loc[analysis['reviewText'].isnull()]\n",
        "nanValues"
      ],
      "metadata": {
        "colab": {
          "base_uri": "https://localhost:8080/",
          "height": 268
        },
        "id": "VQAE6Rt76n0R",
        "outputId": "9bb8b943-8a52-460c-8733-09e8ba598000"
      },
      "execution_count": 6,
      "outputs": [
        {
          "output_type": "execute_result",
          "data": {
            "text/plain": [
              "     reviewText  overall\n",
              "2927        NaN      5.0\n",
              "4401        NaN      4.0\n",
              "8739        NaN      5.0\n",
              "9175        NaN      5.0\n",
              "9306        NaN      5.0\n",
              "9313        NaN      5.0\n",
              "9342        NaN      5.0"
            ],
            "text/html": [
              "\n",
              "  <div id=\"df-5fa5344f-dd3c-4e57-99b1-954f5bfe9fd2\">\n",
              "    <div class=\"colab-df-container\">\n",
              "      <div>\n",
              "<style scoped>\n",
              "    .dataframe tbody tr th:only-of-type {\n",
              "        vertical-align: middle;\n",
              "    }\n",
              "\n",
              "    .dataframe tbody tr th {\n",
              "        vertical-align: top;\n",
              "    }\n",
              "\n",
              "    .dataframe thead th {\n",
              "        text-align: right;\n",
              "    }\n",
              "</style>\n",
              "<table border=\"1\" class=\"dataframe\">\n",
              "  <thead>\n",
              "    <tr style=\"text-align: right;\">\n",
              "      <th></th>\n",
              "      <th>reviewText</th>\n",
              "      <th>overall</th>\n",
              "    </tr>\n",
              "  </thead>\n",
              "  <tbody>\n",
              "    <tr>\n",
              "      <th>2927</th>\n",
              "      <td>NaN</td>\n",
              "      <td>5.0</td>\n",
              "    </tr>\n",
              "    <tr>\n",
              "      <th>4401</th>\n",
              "      <td>NaN</td>\n",
              "      <td>4.0</td>\n",
              "    </tr>\n",
              "    <tr>\n",
              "      <th>8739</th>\n",
              "      <td>NaN</td>\n",
              "      <td>5.0</td>\n",
              "    </tr>\n",
              "    <tr>\n",
              "      <th>9175</th>\n",
              "      <td>NaN</td>\n",
              "      <td>5.0</td>\n",
              "    </tr>\n",
              "    <tr>\n",
              "      <th>9306</th>\n",
              "      <td>NaN</td>\n",
              "      <td>5.0</td>\n",
              "    </tr>\n",
              "    <tr>\n",
              "      <th>9313</th>\n",
              "      <td>NaN</td>\n",
              "      <td>5.0</td>\n",
              "    </tr>\n",
              "    <tr>\n",
              "      <th>9342</th>\n",
              "      <td>NaN</td>\n",
              "      <td>5.0</td>\n",
              "    </tr>\n",
              "  </tbody>\n",
              "</table>\n",
              "</div>\n",
              "      <button class=\"colab-df-convert\" onclick=\"convertToInteractive('df-5fa5344f-dd3c-4e57-99b1-954f5bfe9fd2')\"\n",
              "              title=\"Convert this dataframe to an interactive table.\"\n",
              "              style=\"display:none;\">\n",
              "        \n",
              "  <svg xmlns=\"http://www.w3.org/2000/svg\" height=\"24px\"viewBox=\"0 0 24 24\"\n",
              "       width=\"24px\">\n",
              "    <path d=\"M0 0h24v24H0V0z\" fill=\"none\"/>\n",
              "    <path d=\"M18.56 5.44l.94 2.06.94-2.06 2.06-.94-2.06-.94-.94-2.06-.94 2.06-2.06.94zm-11 1L8.5 8.5l.94-2.06 2.06-.94-2.06-.94L8.5 2.5l-.94 2.06-2.06.94zm10 10l.94 2.06.94-2.06 2.06-.94-2.06-.94-.94-2.06-.94 2.06-2.06.94z\"/><path d=\"M17.41 7.96l-1.37-1.37c-.4-.4-.92-.59-1.43-.59-.52 0-1.04.2-1.43.59L10.3 9.45l-7.72 7.72c-.78.78-.78 2.05 0 2.83L4 21.41c.39.39.9.59 1.41.59.51 0 1.02-.2 1.41-.59l7.78-7.78 2.81-2.81c.8-.78.8-2.07 0-2.86zM5.41 20L4 18.59l7.72-7.72 1.47 1.35L5.41 20z\"/>\n",
              "  </svg>\n",
              "      </button>\n",
              "      \n",
              "  <style>\n",
              "    .colab-df-container {\n",
              "      display:flex;\n",
              "      flex-wrap:wrap;\n",
              "      gap: 12px;\n",
              "    }\n",
              "\n",
              "    .colab-df-convert {\n",
              "      background-color: #E8F0FE;\n",
              "      border: none;\n",
              "      border-radius: 50%;\n",
              "      cursor: pointer;\n",
              "      display: none;\n",
              "      fill: #1967D2;\n",
              "      height: 32px;\n",
              "      padding: 0 0 0 0;\n",
              "      width: 32px;\n",
              "    }\n",
              "\n",
              "    .colab-df-convert:hover {\n",
              "      background-color: #E2EBFA;\n",
              "      box-shadow: 0px 1px 2px rgba(60, 64, 67, 0.3), 0px 1px 3px 1px rgba(60, 64, 67, 0.15);\n",
              "      fill: #174EA6;\n",
              "    }\n",
              "\n",
              "    [theme=dark] .colab-df-convert {\n",
              "      background-color: #3B4455;\n",
              "      fill: #D2E3FC;\n",
              "    }\n",
              "\n",
              "    [theme=dark] .colab-df-convert:hover {\n",
              "      background-color: #434B5C;\n",
              "      box-shadow: 0px 1px 3px 1px rgba(0, 0, 0, 0.15);\n",
              "      filter: drop-shadow(0px 1px 2px rgba(0, 0, 0, 0.3));\n",
              "      fill: #FFFFFF;\n",
              "    }\n",
              "  </style>\n",
              "\n",
              "      <script>\n",
              "        const buttonEl =\n",
              "          document.querySelector('#df-5fa5344f-dd3c-4e57-99b1-954f5bfe9fd2 button.colab-df-convert');\n",
              "        buttonEl.style.display =\n",
              "          google.colab.kernel.accessAllowed ? 'block' : 'none';\n",
              "\n",
              "        async function convertToInteractive(key) {\n",
              "          const element = document.querySelector('#df-5fa5344f-dd3c-4e57-99b1-954f5bfe9fd2');\n",
              "          const dataTable =\n",
              "            await google.colab.kernel.invokeFunction('convertToInteractive',\n",
              "                                                     [key], {});\n",
              "          if (!dataTable) return;\n",
              "\n",
              "          const docLinkHtml = 'Like what you see? Visit the ' +\n",
              "            '<a target=\"_blank\" href=https://colab.research.google.com/notebooks/data_table.ipynb>data table notebook</a>'\n",
              "            + ' to learn more about interactive tables.';\n",
              "          element.innerHTML = '';\n",
              "          dataTable['output_type'] = 'display_data';\n",
              "          await google.colab.output.renderOutput(dataTable, element);\n",
              "          const docLink = document.createElement('div');\n",
              "          docLink.innerHTML = docLinkHtml;\n",
              "          element.appendChild(docLink);\n",
              "        }\n",
              "      </script>\n",
              "    </div>\n",
              "  </div>\n",
              "  "
            ]
          },
          "metadata": {},
          "execution_count": 6
        }
      ]
    },
    {
      "cell_type": "code",
      "source": [
        "analysis = analysis.drop(nanValues.index)"
      ],
      "metadata": {
        "id": "CZL8ZwRz7pHU"
      },
      "execution_count": 182,
      "outputs": []
    },
    {
      "cell_type": "code",
      "source": [
        "analysis = analysis.dropna()"
      ],
      "metadata": {
        "id": "eiYZNjENa2Vc"
      },
      "execution_count": null,
      "outputs": []
    },
    {
      "cell_type": "markdown",
      "source": [
        "## Preprocessamento"
      ],
      "metadata": {
        "id": "85Io3gYXsM4M"
      }
    },
    {
      "cell_type": "code",
      "execution_count": 8,
      "metadata": {
        "colab": {
          "base_uri": "https://localhost:8080/"
        },
        "id": "llnoR301_KaW",
        "outputId": "bf587c6e-2b50-4a13-df08-e9dc1781cbeb"
      },
      "outputs": [
        {
          "output_type": "stream",
          "name": "stdout",
          "text": [
            "[nltk_data] Downloading package punkt to /root/nltk_data...\n",
            "[nltk_data]   Unzipping tokenizers/punkt.zip.\n",
            "[nltk_data] Downloading package stopwords to /root/nltk_data...\n",
            "[nltk_data]   Unzipping corpora/stopwords.zip.\n",
            "[nltk_data] Downloading package averaged_perceptron_tagger to\n",
            "[nltk_data]     /root/nltk_data...\n",
            "[nltk_data]   Unzipping taggers/averaged_perceptron_tagger.zip.\n"
          ]
        },
        {
          "output_type": "execute_result",
          "data": {
            "text/plain": [
              "True"
            ]
          },
          "metadata": {},
          "execution_count": 8
        }
      ],
      "source": [
        "import nltk\n",
        "nltk.download('punkt')\n",
        "\n",
        "nltk.download('stopwords')\n",
        "nltk.download('averaged_perceptron_tagger')"
      ]
    },
    {
      "cell_type": "markdown",
      "metadata": {
        "id": "m9vbNoVz9czB"
      },
      "source": [
        "Para pre-processamento: https://towardsdatascience.com/nlp-preprocessing-with-nltk-3c04ee00edc0#:~:text=Text%20preprocessing%20is%20an%20important%20first%20step%20for,punctuation%2C%20tokenization%2C%20stopword%20filtering%2C%20stemming%2C%20and%20part-of-speech%20tagger e https://towardsdatascience.com/text-preprocessing-with-nltk-9de5de891658 e https://machinelearningknowledge.ai/11-techniques-of-text-preprocessing-using-nltk-in-python/\n",
        "\n",
        "Para tokenização:https://towardsdatascience.com/5-simple-ways-to-tokenize-text-in-python-92c6804edfc4\n"
      ]
    },
    {
      "cell_type": "markdown",
      "metadata": {
        "id": "HmhlxUmNwJml"
      },
      "source": [
        "Para outros recursos\n",
        "- SVM para NLP: https://chercher.tech/nlp/the-support-vector-machines-svm-algorithm-for-nlp\n",
        "- Naive Bayes para NLP: https://chercher.tech/nlp/the-naive-bayes-algorithm-for-nlp\n"
      ]
    },
    {
      "cell_type": "code",
      "execution_count": 9,
      "metadata": {
        "id": "Wwkag_UcqDG3"
      },
      "outputs": [],
      "source": [
        "def lower(text):\n",
        "  return text.lower()\n",
        "\n",
        "def whites(text):\n",
        "  return \" \".join(text.split())\n",
        "\n",
        "def token(text):\n",
        "  tokenizer = tf.keras.preprocessing.text.Tokenizer(char_level=True)\n",
        "  tokenizer.fit_on_texts(text)\n",
        "  return tokenizer\n",
        "\n",
        "def stopWord(text):\n",
        "  text = text.split()\n",
        "  stopWords = nltk.corpus.stopwords.words('english')\n",
        "  result = []\n",
        "  for token in text:\n",
        "    if token not in stopWords:\n",
        "      result.append(token)\n",
        "  return result\n",
        "\n",
        "def punctuation(text):\n",
        "  import string\n",
        "  text_p = \"\".join([char for char in text if char not in string.punctuation])\n",
        "  return text_p\n",
        "\n",
        "def stem(text):\n",
        "  porter = nltk.stem.porter.PorterStemmer()\n",
        "  stemmed = [porter.stem(word) for word in text]\n",
        "  return stemmed\n",
        "\n",
        "def lemmatizeSentence(sentence):\n",
        "    from nltk.tokenize import word_tokenize\n",
        "    token_words=word_tokenize(sentence) \n",
        "#we need to tokenize the sentence or else lemmatizing will return the entire sentence as is.\n",
        "    lemma_sentence=[]\n",
        "    for word in token_words:\n",
        "        lemma_sentence.append(lemmatizer.lemmatize(word))\n",
        "        lemma_sentence.append(\" \")\n",
        "    return \"\".join(lemma_sentence)\n",
        "\n",
        "def postag(words):\n",
        "   return nltk.pos_tag(words)"
      ]
    },
    {
      "cell_type": "code",
      "execution_count": 10,
      "metadata": {
        "id": "soQtwB48o_vX"
      },
      "outputs": [],
      "source": [
        "text = \"In this post, we’ll start with the intuition behind LSTM ’s and GRU’s. Then I’ll explain the internal mechanisms that allow LSTM’s and GRU’s to perform so well. If you want to understand what’s happening under the hood for these two networks, then this post is for you. @             \""
      ]
    },
    {
      "cell_type": "code",
      "execution_count": 11,
      "metadata": {
        "id": "sVe62dyhxav9"
      },
      "outputs": [],
      "source": [
        "def preprocess(text):\n",
        "  text = lower(text)\n",
        "  text = whites(text)\n",
        "  text = punctuation(text)\n",
        "  text = stopWord(text)\n",
        "  text = stem(text)\n",
        "  #text = lemmatizeSentence(text)\n",
        "  text = postag(text)\n",
        "  return text"
      ]
    },
    {
      "cell_type": "code",
      "execution_count": 12,
      "metadata": {
        "colab": {
          "base_uri": "https://localhost:8080/"
        },
        "id": "iNV-IcCopEAY",
        "outputId": "4fda21c4-6130-470a-aa92-32202dfc23f2"
      },
      "outputs": [
        {
          "output_type": "execute_result",
          "data": {
            "text/plain": [
              "[('post', 'NN'),\n",
              " ('we’ll', 'JJ'),\n",
              " ('start', 'NN'),\n",
              " ('intuit', 'NN'),\n",
              " ('behind', 'IN'),\n",
              " ('lstm', 'JJ'),\n",
              " ('’s', 'NNP'),\n",
              " ('gru’', 'NN'),\n",
              " ('i’ll', 'NN'),\n",
              " ('explain', 'VBP'),\n",
              " ('intern', 'JJ'),\n",
              " ('mechan', 'NN'),\n",
              " ('allow', 'VB'),\n",
              " ('lstm’', 'JJ'),\n",
              " ('gru’', 'NN'),\n",
              " ('perform', 'NN'),\n",
              " ('well', 'RB'),\n",
              " ('want', 'JJ'),\n",
              " ('understand', 'NN'),\n",
              " ('what’', 'NN'),\n",
              " ('happen', 'VB'),\n",
              " ('hood', 'NN'),\n",
              " ('two', 'CD'),\n",
              " ('network', 'NN'),\n",
              " ('post', 'NN')]"
            ]
          },
          "metadata": {},
          "execution_count": 12
        }
      ],
      "source": [
        "preprocess(text)"
      ]
    },
    {
      "cell_type": "markdown",
      "source": [
        ""
      ],
      "metadata": {
        "id": "bQdGJ5pz5WQM"
      }
    },
    {
      "cell_type": "code",
      "source": [
        "M = analysis['reviewText'].to_numpy()"
      ],
      "metadata": {
        "id": "bfeeZ-jR7eSl"
      },
      "execution_count": 184,
      "outputs": []
    },
    {
      "cell_type": "code",
      "source": [
        "from google.colab import output\n",
        "C = []\n",
        "for i in range(len(M)):\n",
        "  C.append(preprocess(M[i]))\n",
        "  #print(M[i])\n",
        "  #time.sleep(0.5)\n",
        "  #print(C[i])\n",
        "  #time.sleep(0.5)\n",
        "  #output.clear()"
      ],
      "metadata": {
        "id": "Vddg3m0_R_tU"
      },
      "execution_count": 185,
      "outputs": []
    },
    {
      "cell_type": "code",
      "source": [
        "np.shape(C)"
      ],
      "metadata": {
        "colab": {
          "base_uri": "https://localhost:8080/"
        },
        "id": "LnRpfWnQVYIJ",
        "outputId": "deb0242a-9396-4bd2-996c-ab469e1da9e7"
      },
      "execution_count": 78,
      "outputs": [
        {
          "output_type": "stream",
          "name": "stderr",
          "text": [
            "/usr/local/lib/python3.7/dist-packages/numpy/core/fromnumeric.py:1970: VisibleDeprecationWarning: Creating an ndarray from ragged nested sequences (which is a list-or-tuple of lists-or-tuples-or ndarrays with different lengths or shapes) is deprecated. If you meant to do this, you must specify 'dtype=object' when creating the ndarray.\n",
            "  result = asarray(a).shape\n"
          ]
        },
        {
          "output_type": "execute_result",
          "data": {
            "text/plain": [
              "(10254,)"
            ]
          },
          "metadata": {},
          "execution_count": 78
        }
      ]
    },
    {
      "cell_type": "code",
      "source": [
        "C[20]"
      ],
      "metadata": {
        "colab": {
          "base_uri": "https://localhost:8080/"
        },
        "id": "ChufhL4vYd0V",
        "outputId": "49e37326-12a4-4918-f987-1976fd711d49"
      },
      "execution_count": 79,
      "outputs": [
        {
          "output_type": "execute_result",
          "data": {
            "text/plain": [
              "[('cool', 'JJ'),\n",
              " ('look', 'NN'),\n",
              " ('cheap', 'JJ'),\n",
              " ('cabl', 'NN'),\n",
              " ('work', 'NN'),\n",
              " ('well', 'RB'),\n",
              " ('bent', 'JJ'),\n",
              " ('one', 'CD'),\n",
              " ('connector', 'NN'),\n",
              " ('pretti', 'NN'),\n",
              " ('badli', 'NN'),\n",
              " ('fault', 'NN'),\n",
              " ('one', 'CD'),\n",
              " ('thing', 'NN'),\n",
              " ('consid', 'NN'),\n",
              " ('cabl', 'NN'),\n",
              " ('tighten', 'JJ'),\n",
              " ('connector', 'NN'),\n",
              " ('awhil', 'NN'),\n",
              " ('youll', 'NN'),\n",
              " ('abl', 'NN'),\n",
              " ('hear', 'VBP'),\n",
              " ('rattl', 'NN'),\n",
              " ('seem', 'VBP'),\n",
              " ('retro', 'JJ'),\n",
              " ('look', 'NN'),\n",
              " ('screw', 'VBD'),\n",
              " ('connector', 'JJ'),\n",
              " ('black', 'JJ'),\n",
              " ('rubber', 'NN'),\n",
              " ('cabl', 'JJ'),\n",
              " ('look', 'NN'),\n",
              " ('cool', 'JJ'),\n",
              " ('work', 'NN'),\n",
              " ('welli', 'NN'),\n",
              " ('also', 'RB'),\n",
              " ('shorter', 'RB'),\n",
              " ('red', 'JJ'),\n",
              " ('cabl', 'NN'),\n",
              " ('goe', 'NN'),\n",
              " ('one', 'CD'),\n",
              " ('guitar', 'NN'),\n",
              " ('perfectli', 'NN'),\n",
              " ('bought', 'VBD'),\n",
              " ('these', 'DT'),\n",
              " ('use', 'VBP'),\n",
              " ('practic', 'JJ'),\n",
              " ('other', 'JJ'),\n",
              " ('use', 'NN'),\n",
              " ('black', 'JJ'),\n",
              " ('cabl', 'NN'),\n",
              " ('easier', 'JJR'),\n",
              " ('plug', 'NN'),\n",
              " ('differ', 'NN'),\n",
              " ('amp', 'NN'),\n",
              " ('without', 'IN'),\n",
              " ('cut', 'NN'),\n",
              " ('someon', 'NN'),\n",
              " ('accid', 'VBP'),\n",
              " ('green', 'JJ'),\n",
              " ('cabl', 'NN'),\n",
              " ('good', 'NN')]"
            ]
          },
          "metadata": {},
          "execution_count": 79
        }
      ]
    },
    {
      "cell_type": "markdown",
      "source": [
        "## Vetorização sklearn"
      ],
      "metadata": {
        "id": "VAV8aimQsWgB"
      }
    },
    {
      "cell_type": "markdown",
      "source": [
        "Texto de base: https://medium.com/@vasista/sentiment-analysis-using-svm-338d418e3ff1#:~:text=Sentiment%20Analysis%20using%20SVM%20Sentiment%20Analysis%20is%20the,of%20data%20i.e.%2C%20Business%2C%20Politics%2C%20Social%20Media%2C%20etc.%2C\n",
        "\n",
        "Observe que a vetorização tfidf permite o pré-processamento como parte de seus parâmetros, vide documentação: https://scikit-learn.org/stable/modules/generated/sklearn.feature_extraction.text.TfidfVectorizer.html"
      ],
      "metadata": {
        "id": "zdyFqJsT380h"
      }
    },
    {
      "cell_type": "code",
      "execution_count": 160,
      "metadata": {
        "id": "7INb5SIdSGht"
      },
      "outputs": [],
      "source": [
        "import sklearn.datasets\n",
        "from sklearn.feature_extraction.text import TfidfVectorizer\n",
        "from sklearn.model_selection import train_test_split\n",
        "\n",
        "import time\n",
        "from sklearn import svm\n",
        "from sklearn.naive_bayes import MultinomialNB as MNB\n",
        "from sklearn.metrics import classification_report, confusion_matrix\n"
      ]
    },
    {
      "cell_type": "code",
      "execution_count": 161,
      "metadata": {
        "id": "XKdWIT3jSHgy"
      },
      "outputs": [],
      "source": [
        "X_train, X_test, y_train, y_test = train_test_split(analysis['reviewText'], analysis['overall'], test_size = 0.2, random_state = 1)\n"
      ]
    },
    {
      "cell_type": "code",
      "source": [
        "X_train, X_test, y_train, y_test = X_train.values.astype('U'), X_test.values.astype('U'), y_train.values.astype('U'), y_test.values.astype('U')"
      ],
      "metadata": {
        "id": "tir1e_rW5M1A"
      },
      "execution_count": 162,
      "outputs": []
    },
    {
      "cell_type": "code",
      "source": [
        "vectorizer = TfidfVectorizer(min_df = 5,\n",
        "                             max_df = 0.8,\n",
        "                             sublinear_tf = True,\n",
        "                             use_idf = True,\n",
        "                             stop_words = 'english')\n",
        "train_vectors = vectorizer.fit_transform(X_train)\n",
        "test_vectors = vectorizer.transform(X_test)"
      ],
      "metadata": {
        "id": "XZhHBbLX1fj7"
      },
      "execution_count": 163,
      "outputs": []
    },
    {
      "cell_type": "code",
      "source": [
        "np.shape(train_vectors)"
      ],
      "metadata": {
        "colab": {
          "base_uri": "https://localhost:8080/"
        },
        "id": "6MPtxwsb-ybm",
        "outputId": "341d228f-02df-4e61-d488-e3e24a8324e3"
      },
      "execution_count": 164,
      "outputs": [
        {
          "output_type": "execute_result",
          "data": {
            "text/plain": [
              "(8208, 5301)"
            ]
          },
          "metadata": {},
          "execution_count": 164
        }
      ]
    },
    {
      "cell_type": "markdown",
      "source": [
        "Não é possível visualizar isso em um gráfico devido à dimensão"
      ],
      "metadata": {
        "id": "JTEOA4Hx_RIG"
      }
    },
    {
      "cell_type": "markdown",
      "source": [
        "### SVM Classsifier"
      ],
      "metadata": {
        "id": "ysOqxGfbDSIp"
      }
    },
    {
      "cell_type": "code",
      "source": [
        "#classifier = svm.SVC(kernel='linear')\n",
        "#classifier = svm.SVC(kernel='poly', degree=8)\n",
        "classifier = svm.SVC(kernel='rbf')\n",
        "t0 = time.time()\n",
        "classifier.fit(train_vectors, y_train)\n",
        "t1 = time.time()\n",
        "prediction = classifier.predict(test_vectors)\n",
        "t2 = time.time()\n",
        "time_train = t1-t0\n",
        "time_predict = t2-t1\n"
      ],
      "metadata": {
        "id": "JQcd8uDr6A44"
      },
      "execution_count": 151,
      "outputs": []
    },
    {
      "cell_type": "code",
      "source": [
        "print('Tempo de treino: ', time_train, 's')\n",
        "print('Tempo de predição: ', time_predict, 's')\n",
        "\n",
        "print(confusion_matrix(y_test, prediction))\n",
        "print(classification_report(y_test, prediction))"
      ],
      "metadata": {
        "colab": {
          "base_uri": "https://localhost:8080/"
        },
        "id": "6TU_V4JA9jOS",
        "outputId": "2e8bbb85-1f6a-4cc6-ec35-01629384adc4"
      },
      "execution_count": 152,
      "outputs": [
        {
          "output_type": "stream",
          "name": "stdout",
          "text": [
            "Tempo de treino:  33.36745357513428 s\n",
            "Tempo de predição:  4.502449989318848 s\n",
            "[[   0    1    1    0   50]\n",
            " [   0    0    0    3   39]\n",
            " [   0    1    1    1  158]\n",
            " [   0    0    0   10  417]\n",
            " [   0    0    0    1 1370]]\n",
            "              precision    recall  f1-score   support\n",
            "\n",
            "         1.0       0.00      0.00      0.00        52\n",
            "         2.0       0.00      0.00      0.00        42\n",
            "         3.0       0.50      0.01      0.01       161\n",
            "         4.0       0.67      0.02      0.05       427\n",
            "         5.0       0.67      1.00      0.80      1371\n",
            "\n",
            "    accuracy                           0.67      2053\n",
            "   macro avg       0.37      0.21      0.17      2053\n",
            "weighted avg       0.63      0.67      0.55      2053\n",
            "\n"
          ]
        },
        {
          "output_type": "stream",
          "name": "stderr",
          "text": [
            "/usr/local/lib/python3.7/dist-packages/sklearn/metrics/_classification.py:1318: UndefinedMetricWarning: Precision and F-score are ill-defined and being set to 0.0 in labels with no predicted samples. Use `zero_division` parameter to control this behavior.\n",
            "  _warn_prf(average, modifier, msg_start, len(result))\n",
            "/usr/local/lib/python3.7/dist-packages/sklearn/metrics/_classification.py:1318: UndefinedMetricWarning: Precision and F-score are ill-defined and being set to 0.0 in labels with no predicted samples. Use `zero_division` parameter to control this behavior.\n",
            "  _warn_prf(average, modifier, msg_start, len(result))\n",
            "/usr/local/lib/python3.7/dist-packages/sklearn/metrics/_classification.py:1318: UndefinedMetricWarning: Precision and F-score are ill-defined and being set to 0.0 in labels with no predicted samples. Use `zero_division` parameter to control this behavior.\n",
            "  _warn_prf(average, modifier, msg_start, len(result))\n"
          ]
        }
      ]
    },
    {
      "cell_type": "markdown",
      "source": [
        "Veja que na prática a classificação não foi ruim para um núcleo linear(vide matriz de confusão). As previsões tendem a ficar dentro de uma boa margem. Nos outros dois casos, há uma evidente tendência a classificar tudo com 5 estrelas. Na perspectiva da Amazon e de futuros compradores, uma classificação mais baixa com um produto bom é preferível a uma mais alta com produto ruim, na ideia de melhorias, é claro.\n",
        "\n",
        "Caso linear:\n",
        "\n",
        "![image.png](data:image/png;base64,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)\n",
        "\n",
        "Caso polinomial:\n",
        "\n",
        "![image.png](data:image/png;base64,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)"
      ],
      "metadata": {
        "id": "gU07_-4t_u9l"
      }
    },
    {
      "cell_type": "markdown",
      "source": [
        "### Naive Bayes classifier"
      ],
      "metadata": {
        "id": "pAD1oLUpDWsM"
      }
    },
    {
      "cell_type": "code",
      "source": [
        "np.shape(train_vectors)"
      ],
      "metadata": {
        "colab": {
          "base_uri": "https://localhost:8080/"
        },
        "id": "VLZE5ickFa0S",
        "outputId": "ffedcdca-a46a-41ce-d659-152bd3bcfd01"
      },
      "execution_count": 159,
      "outputs": [
        {
          "output_type": "execute_result",
          "data": {
            "text/plain": [
              "(8208, 5301)"
            ]
          },
          "metadata": {},
          "execution_count": 159
        }
      ]
    },
    {
      "cell_type": "code",
      "source": [
        "model_bayes = MNB()\n",
        "t0 = time.time()\n",
        "model_bayes.fit(train_vectors, y_train)\n",
        "t1 = time.time()\n",
        "prediction_bayes = model_bayes.predict(test_vectors)\n",
        "t2 = time.time()\n",
        "time_train = t1-t0\n",
        "time_predict = t2-t1\n"
      ],
      "metadata": {
        "id": "fgTFi12CEqKJ"
      },
      "execution_count": 165,
      "outputs": []
    },
    {
      "cell_type": "code",
      "source": [
        "print('Tempo de treino: ', time_train, 's')\n",
        "print('Tempo de predição: ', time_predict, 's')\n",
        "\n",
        "print(confusion_matrix(y_test, prediction_bayes))\n",
        "print(classification_report(y_test, prediction_bayes))"
      ],
      "metadata": {
        "colab": {
          "base_uri": "https://localhost:8080/"
        },
        "id": "xUVJfEiJFI-G",
        "outputId": "0373889c-b5f9-401c-da9f-ad8a363f351f"
      },
      "execution_count": 166,
      "outputs": [
        {
          "output_type": "stream",
          "name": "stdout",
          "text": [
            "Tempo de treino:  0.02059793472290039 s\n",
            "Tempo de predição:  0.0006887912750244141 s\n",
            "[[   0    0    0    0   52]\n",
            " [   0    0    0    0   42]\n",
            " [   0    0    0    0  161]\n",
            " [   0    0    0    1  426]\n",
            " [   0    0    0    1 1370]]\n",
            "              precision    recall  f1-score   support\n",
            "\n",
            "         1.0       0.00      0.00      0.00        52\n",
            "         2.0       0.00      0.00      0.00        42\n",
            "         3.0       0.00      0.00      0.00       161\n",
            "         4.0       0.50      0.00      0.00       427\n",
            "         5.0       0.67      1.00      0.80      1371\n",
            "\n",
            "    accuracy                           0.67      2053\n",
            "   macro avg       0.23      0.20      0.16      2053\n",
            "weighted avg       0.55      0.67      0.54      2053\n",
            "\n"
          ]
        },
        {
          "output_type": "stream",
          "name": "stderr",
          "text": [
            "/usr/local/lib/python3.7/dist-packages/sklearn/metrics/_classification.py:1318: UndefinedMetricWarning: Precision and F-score are ill-defined and being set to 0.0 in labels with no predicted samples. Use `zero_division` parameter to control this behavior.\n",
            "  _warn_prf(average, modifier, msg_start, len(result))\n",
            "/usr/local/lib/python3.7/dist-packages/sklearn/metrics/_classification.py:1318: UndefinedMetricWarning: Precision and F-score are ill-defined and being set to 0.0 in labels with no predicted samples. Use `zero_division` parameter to control this behavior.\n",
            "  _warn_prf(average, modifier, msg_start, len(result))\n",
            "/usr/local/lib/python3.7/dist-packages/sklearn/metrics/_classification.py:1318: UndefinedMetricWarning: Precision and F-score are ill-defined and being set to 0.0 in labels with no predicted samples. Use `zero_division` parameter to control this behavior.\n",
            "  _warn_prf(average, modifier, msg_start, len(result))\n"
          ]
        }
      ]
    },
    {
      "cell_type": "markdown",
      "source": [
        "O resultado final para Naive Bayes foi quase idêntico ao caso polinomial"
      ],
      "metadata": {
        "id": "7sQnXftiFnbw"
      }
    },
    {
      "cell_type": "markdown",
      "source": [
        "## Tensolflow e RNN\n",
        "\n",
        "### Tokenizer\n",
        "\n",
        "Nível caracter (tokenizerChar) e nível palavra (tokenizerWord)\n",
        "https://www.tensorflow.org/api_docs/python/tf/keras/preprocessing/text/Tokenizer"
      ],
      "metadata": {
        "id": "RRuD_IKrCKNo"
      }
    },
    {
      "cell_type": "code",
      "source": [
        "import tensorflow.keras as keras\n",
        "from tensorflow.keras.preprocessing.sequence import pad_sequences\n"
      ],
      "metadata": {
        "id": "lFrPwg2VHL1r"
      },
      "execution_count": 202,
      "outputs": []
    },
    {
      "cell_type": "code",
      "source": [
        "tokenizerChar = keras.preprocessing.text.Tokenizer(char_level = True)\n",
        "tokenizerChar.fit_on_texts(analysis['reviewText'])"
      ],
      "metadata": {
        "id": "7DASOcOXKx86"
      },
      "execution_count": 186,
      "outputs": []
    },
    {
      "cell_type": "code",
      "source": [
        "tokenizerChar.texts_to_sequences(\n",
        "    ['start']\n",
        ")"
      ],
      "metadata": {
        "colab": {
          "base_uri": "https://localhost:8080/"
        },
        "id": "-_xoGcVULXJw",
        "outputId": "2a506206-6acd-4fde-eb54-f58d256532cf"
      },
      "execution_count": 187,
      "outputs": [
        {
          "output_type": "execute_result",
          "data": {
            "text/plain": [
              "[[7, 3, 4, 9, 3]]"
            ]
          },
          "metadata": {},
          "execution_count": 187
        }
      ]
    },
    {
      "cell_type": "code",
      "source": [
        "len(tokenizerChar.word_index)"
      ],
      "metadata": {
        "colab": {
          "base_uri": "https://localhost:8080/"
        },
        "id": "KIaQrUvmOULE",
        "outputId": "3635a1bd-3f36-4ac9-c498-a0448b4fe2fa"
      },
      "execution_count": 188,
      "outputs": [
        {
          "output_type": "execute_result",
          "data": {
            "text/plain": [
              "68"
            ]
          },
          "metadata": {},
          "execution_count": 188
        }
      ]
    },
    {
      "cell_type": "markdown",
      "source": [
        "Vamos usar tokenização de palavras daqui para frente"
      ],
      "metadata": {
        "id": "WFcb9q_yYqCI"
      }
    },
    {
      "cell_type": "code",
      "source": [
        "tokenizerWord = keras.preprocessing.text.Tokenizer(num_words = 10000, lower = True, oov_token = 'oov')\n",
        "tokenizerWord.fit_on_texts(analysis['reviewText'])"
      ],
      "metadata": {
        "id": "beju1qfZL5OZ"
      },
      "execution_count": 227,
      "outputs": []
    },
    {
      "cell_type": "code",
      "source": [
        "x = tokenizerWord.texts_to_sequences(analysis['reviewText'])\n",
        "x = pad_sequences(x)\n",
        "y = np.array(analysis['overall']).reshape(len(analysis['overall']),1)"
      ],
      "metadata": {
        "id": "yFZQb6QWZQJg"
      },
      "execution_count": 254,
      "outputs": []
    },
    {
      "cell_type": "code",
      "source": [
        "np.shape(data_tokenized)"
      ],
      "metadata": {
        "colab": {
          "base_uri": "https://localhost:8080/"
        },
        "id": "No8QBOPNbRhU",
        "outputId": "c564b689-7d0a-4d89-f74b-5b32cb0c1a44"
      },
      "execution_count": 257,
      "outputs": [
        {
          "output_type": "execute_result",
          "data": {
            "text/plain": [
              "(10254, 2060)"
            ]
          },
          "metadata": {},
          "execution_count": 257
        }
      ]
    },
    {
      "cell_type": "code",
      "source": [
        "np.shape(x)"
      ],
      "metadata": {
        "colab": {
          "base_uri": "https://localhost:8080/"
        },
        "id": "4ZKTPG7CbXwE",
        "outputId": "d19808d7-9505-42f7-cbb6-8d151df74ee8"
      },
      "execution_count": 247,
      "outputs": [
        {
          "output_type": "execute_result",
          "data": {
            "text/plain": [
              "(10254, 2059)"
            ]
          },
          "metadata": {},
          "execution_count": 247
        }
      ]
    },
    {
      "cell_type": "code",
      "source": [
        "np.shape(y)"
      ],
      "metadata": {
        "colab": {
          "base_uri": "https://localhost:8080/"
        },
        "id": "zgWTb05obcZq",
        "outputId": "80e9984d-2bcb-4d0f-ed56-cc14a6f4657d"
      },
      "execution_count": 255,
      "outputs": [
        {
          "output_type": "execute_result",
          "data": {
            "text/plain": [
              "(10254, 1)"
            ]
          },
          "metadata": {},
          "execution_count": 255
        }
      ]
    },
    {
      "cell_type": "code",
      "source": [
        "data_tokenized"
      ],
      "metadata": {
        "colab": {
          "base_uri": "https://localhost:8080/"
        },
        "id": "deq44wZHbh7r",
        "outputId": "e2729792-bf54-4a18-e382-639b7d102ad3"
      },
      "execution_count": 220,
      "outputs": [
        {
          "output_type": "execute_result",
          "data": {
            "text/plain": [
              "array([[0, 0, 0, ..., 0, 0, 1],\n",
              "       [0, 0, 0, ..., 0, 0, 1],\n",
              "       [0, 0, 0, ..., 0, 0, 1],\n",
              "       ...,\n",
              "       [0, 0, 0, ..., 0, 1, 0],\n",
              "       [0, 0, 0, ..., 0, 1, 0],\n",
              "       [0, 0, 0, ..., 0, 1, 0]], dtype=int32)"
            ]
          },
          "metadata": {},
          "execution_count": 220
        }
      ]
    },
    {
      "cell_type": "code",
      "source": [
        "data_tokenized = np.hstack((x, y))\n",
        "x_column_names = [\"Tokenized_\" + str(i) for i in range(x.shape[1])]\n",
        "y_column_names = [\"stars\"]\n",
        "column_names = x_column_names + y_column_names\n",
        "\n",
        "df_tokenized = pd.DataFrame(data_tokenized, columns = column_names)\n",
        "\n",
        "data = df_tokenized.drop('stars', axis =1)"
      ],
      "metadata": {
        "id": "Ej5QOKixVK21"
      },
      "execution_count": 262,
      "outputs": []
    },
    {
      "cell_type": "code",
      "source": [
        "X_trainRNN, X_testRNN, y_trainRNN, y_testRNN = train_test_split(data, df_tokenized['stars'],test_size = 0.2)"
      ],
      "metadata": {
        "id": "Ccwn9Z0GjCqz"
      },
      "execution_count": 267,
      "outputs": []
    },
    {
      "cell_type": "code",
      "source": [
        "y_train = np.array(y_train).reshape(len(y_train),1)"
      ],
      "metadata": {
        "id": "ZccdcawApZJG"
      },
      "execution_count": 272,
      "outputs": []
    },
    {
      "cell_type": "code",
      "source": [
        "np.shape(data)"
      ],
      "metadata": {
        "colab": {
          "base_uri": "https://localhost:8080/"
        },
        "id": "lKEp9O42pd6k",
        "outputId": "a501c889-f152-4593-9ad6-d833be3b33a5"
      },
      "execution_count": 269,
      "outputs": [
        {
          "output_type": "execute_result",
          "data": {
            "text/plain": [
              "(10254, 2059)"
            ]
          },
          "metadata": {},
          "execution_count": 269
        }
      ]
    },
    {
      "cell_type": "markdown",
      "source": [
        "### RNN\n",
        "\n",
        "https://deephaven.io/blog/2022/02/08/learn-tensorflow/#:~:text=TensorFlow%20enables%20data%20scientists%20to%20create%20sophisticated%2C%20large-scale,a%20natural%20pairing%20for%20AI%20libraries%20like%20TensorFlow."
      ],
      "metadata": {
        "id": "8HAlSr4JTLjs"
      }
    },
    {
      "cell_type": "code",
      "source": [
        "from keras.layers import Embedding, Input, Dense, CuDNNLSTM, concatenate, Bidirectional, SpatialDropout1D, Conv1D, GlobalAveragePooling1D, GlobalMaxPooling1D\n",
        "from keras.models import Sequential\n",
        "from keras.callbacks import EarlyStopping, ModelCheckpoint\n",
        "import keras.backend as K\n",
        "from keras.preprocessing.sequence import pad_sequences"
      ],
      "metadata": {
        "id": "jVHxUpnuTLVI"
      },
      "execution_count": 201,
      "outputs": []
    },
    {
      "cell_type": "code",
      "source": [
        "X_trainRNN.shape"
      ],
      "metadata": {
        "colab": {
          "base_uri": "https://localhost:8080/"
        },
        "id": "B3SbUXqiqZJR",
        "outputId": "96da3f49-d2bd-4cbb-9272-20cddf001030"
      },
      "execution_count": 310,
      "outputs": [
        {
          "output_type": "execute_result",
          "data": {
            "text/plain": [
              "(8203, 2059)"
            ]
          },
          "metadata": {},
          "execution_count": 310
        }
      ]
    },
    {
      "cell_type": "code",
      "source": [
        "embed_dim = 128\n",
        "max_features = 2000\n",
        "\n",
        "model = keras.models.Sequential([\n",
        "    keras.layers.Embedding(max_features, embed_dim, input_length = X_trainRNN.shape[1]),\n",
        "    keras.layers.SpatialDropout1D(0.4),\n",
        "    keras.layers.SimpleRNN(128, return_sequences=True,dropout=0.2, recurrent_dropout=0.2),\n",
        "    #keras.layers.Flatten(),\n",
        "    keras.layers.Dense(64, activation='relu'),\n",
        "    keras.layers.Dense(1)\n",
        "])\n",
        "model.compile(loss=\"categorical_crossentropy\", optimizer=\"adam\",metrics = ['accuracy'])\n",
        "print(model.summary())\n",
        "#history = model.fit(dataset, epochs=20)\n",
        "#keras.layers.SimpleRNN()"
      ],
      "metadata": {
        "colab": {
          "base_uri": "https://localhost:8080/"
        },
        "id": "wLc0bqW1Tz-Q",
        "outputId": "049f79ab-ef0e-4a5e-eab9-aa19dbd0115b"
      },
      "execution_count": 322,
      "outputs": [
        {
          "output_type": "stream",
          "name": "stdout",
          "text": [
            "Model: \"sequential_15\"\n",
            "_________________________________________________________________\n",
            " Layer (type)                Output Shape              Param #   \n",
            "=================================================================\n",
            " embedding_15 (Embedding)    (None, 2059, 128)         256000    \n",
            "                                                                 \n",
            " spatial_dropout1d_15 (Spati  (None, 2059, 128)        0         \n",
            " alDropout1D)                                                    \n",
            "                                                                 \n",
            " simple_rnn_15 (SimpleRNN)   (None, 2059, 128)         32896     \n",
            "                                                                 \n",
            " flatten_3 (Flatten)         (None, 263552)            0         \n",
            "                                                                 \n",
            " dense_22 (Dense)            (None, 64)                16867392  \n",
            "                                                                 \n",
            " dense_23 (Dense)            (None, 1)                 65        \n",
            "                                                                 \n",
            "=================================================================\n",
            "Total params: 17,156,353\n",
            "Trainable params: 17,156,353\n",
            "Non-trainable params: 0\n",
            "_________________________________________________________________\n",
            "None\n"
          ]
        }
      ]
    },
    {
      "cell_type": "code",
      "source": [
        "#https://www.tensorflow.org/api_docs/python/tf/keras/utils/plot_model\n",
        "tf.keras.utils.plot_model(model, show_shapes = True)"
      ],
      "metadata": {
        "colab": {
          "base_uri": "https://localhost:8080/",
          "height": 643
        },
        "id": "gMA6VeVnqz2Z",
        "outputId": "6b9cdfb5-98ca-4f76-926c-d7d95228ae2c"
      },
      "execution_count": 320,
      "outputs": [
        {
          "output_type": "execute_result",
          "data": {
            "text/plain": [
              "<IPython.core.display.Image object>"
            ],
            "image/png": "[encoded data removed]"
          },
          "metadata": {},
          "execution_count": 320
        }
      ]
    },
    {
      "cell_type": "code",
      "source": [
        "model.fit(X_trainRNN, \n",
        "          y_trainRNN\n",
        "          )"
      ],
      "metadata": {
        "colab": {
          "base_uri": "https://localhost:8080/",
          "height": 1000
        },
        "id": "F1eCstoxlOVF",
        "outputId": "faebcf69-fa91-4c1f-abb1-426532cf4812"
      },
      "execution_count": 323,
      "outputs": [
        {
          "output_type": "error",
          "ename": "InvalidArgumentError",
          "evalue": "ignored",
          "traceback": [
            "\u001b[0;31m---------------------------------------------------------------------------\u001b[0m",
            "\u001b[0;31mInvalidArgumentError\u001b[0m                      Traceback (most recent call last)",
            "\u001b[0;32m<ipython-input-323-737cfc6db2e6>\u001b[0m in \u001b[0;36m<module>\u001b[0;34m()\u001b[0m\n\u001b[1;32m      1\u001b[0m model.fit(X_trainRNN, \n\u001b[0;32m----> 2\u001b[0;31m           \u001b[0my_trainRNN\u001b[0m\u001b[0;34m\u001b[0m\u001b[0;34m\u001b[0m\u001b[0m\n\u001b[0m\u001b[1;32m      3\u001b[0m           )\n",
            "\u001b[0;32m/usr/local/lib/python3.7/dist-packages/keras/utils/traceback_utils.py\u001b[0m in \u001b[0;36merror_handler\u001b[0;34m(*args, **kwargs)\u001b[0m\n\u001b[1;32m     65\u001b[0m     \u001b[0;32mexcept\u001b[0m \u001b[0mException\u001b[0m \u001b[0;32mas\u001b[0m \u001b[0me\u001b[0m\u001b[0;34m:\u001b[0m  \u001b[0;31m# pylint: disable=broad-except\u001b[0m\u001b[0;34m\u001b[0m\u001b[0;34m\u001b[0m\u001b[0m\n\u001b[1;32m     66\u001b[0m       \u001b[0mfiltered_tb\u001b[0m \u001b[0;34m=\u001b[0m \u001b[0m_process_traceback_frames\u001b[0m\u001b[0;34m(\u001b[0m\u001b[0me\u001b[0m\u001b[0;34m.\u001b[0m\u001b[0m__traceback__\u001b[0m\u001b[0;34m)\u001b[0m\u001b[0;34m\u001b[0m\u001b[0;34m\u001b[0m\u001b[0m\n\u001b[0;32m---> 67\u001b[0;31m       \u001b[0;32mraise\u001b[0m \u001b[0me\u001b[0m\u001b[0;34m.\u001b[0m\u001b[0mwith_traceback\u001b[0m\u001b[0;34m(\u001b[0m\u001b[0mfiltered_tb\u001b[0m\u001b[0;34m)\u001b[0m \u001b[0;32mfrom\u001b[0m \u001b[0;32mNone\u001b[0m\u001b[0;34m\u001b[0m\u001b[0;34m\u001b[0m\u001b[0m\n\u001b[0m\u001b[1;32m     68\u001b[0m     \u001b[0;32mfinally\u001b[0m\u001b[0;34m:\u001b[0m\u001b[0;34m\u001b[0m\u001b[0;34m\u001b[0m\u001b[0m\n\u001b[1;32m     69\u001b[0m       \u001b[0;32mdel\u001b[0m \u001b[0mfiltered_tb\u001b[0m\u001b[0;34m\u001b[0m\u001b[0;34m\u001b[0m\u001b[0m\n",
            "\u001b[0;32m/usr/local/lib/python3.7/dist-packages/tensorflow/python/eager/execute.py\u001b[0m in \u001b[0;36mquick_execute\u001b[0;34m(op_name, num_outputs, inputs, attrs, ctx, name)\u001b[0m\n\u001b[1;32m     53\u001b[0m     \u001b[0mctx\u001b[0m\u001b[0;34m.\u001b[0m\u001b[0mensure_initialized\u001b[0m\u001b[0;34m(\u001b[0m\u001b[0;34m)\u001b[0m\u001b[0;34m\u001b[0m\u001b[0;34m\u001b[0m\u001b[0m\n\u001b[1;32m     54\u001b[0m     tensors = pywrap_tfe.TFE_Py_Execute(ctx._handle, device_name, op_name,\n\u001b[0;32m---> 55\u001b[0;31m                                         inputs, attrs, num_outputs)\n\u001b[0m\u001b[1;32m     56\u001b[0m   \u001b[0;32mexcept\u001b[0m \u001b[0mcore\u001b[0m\u001b[0;34m.\u001b[0m\u001b[0m_NotOkStatusException\u001b[0m \u001b[0;32mas\u001b[0m \u001b[0me\u001b[0m\u001b[0;34m:\u001b[0m\u001b[0;34m\u001b[0m\u001b[0;34m\u001b[0m\u001b[0m\n\u001b[1;32m     57\u001b[0m     \u001b[0;32mif\u001b[0m \u001b[0mname\u001b[0m \u001b[0;32mis\u001b[0m \u001b[0;32mnot\u001b[0m \u001b[0;32mNone\u001b[0m\u001b[0;34m:\u001b[0m\u001b[0;34m\u001b[0m\u001b[0;34m\u001b[0m\u001b[0m\n",
            "\u001b[0;31mInvalidArgumentError\u001b[0m: Graph execution error:\n\nDetected at node 'sequential_15/embedding_15/embedding_lookup' defined at (most recent call last):\n    File \"/usr/lib/python3.7/runpy.py\", line 193, in _run_module_as_main\n      \"__main__\", mod_spec)\n    File \"/usr/lib/python3.7/runpy.py\", line 85, in _run_code\n      exec(code, run_globals)\n    File \"/usr/local/lib/python3.7/dist-packages/ipykernel_launcher.py\", line 16, in <module>\n      app.launch_new_instance()\n    File \"/usr/local/lib/python3.7/dist-packages/traitlets/config/application.py\", line 846, in launch_instance\n      app.start()\n    File \"/usr/local/lib/python3.7/dist-packages/ipykernel/kernelapp.py\", line 499, in start\n      self.io_loop.start()\n    File \"/usr/local/lib/python3.7/dist-packages/tornado/platform/asyncio.py\", line 132, in start\n      self.asyncio_loop.run_forever()\n    File \"/usr/lib/python3.7/asyncio/base_events.py\", line 541, in run_forever\n      self._run_once()\n    File \"/usr/lib/python3.7/asyncio/base_events.py\", line 1786, in _run_once\n      handle._run()\n    File \"/usr/lib/python3.7/asyncio/events.py\", line 88, in _run\n      self._context.run(self._callback, *self._args)\n    File \"/usr/local/lib/python3.7/dist-packages/tornado/platform/asyncio.py\", line 122, in _handle_events\n      handler_func(fileobj, events)\n    File \"/usr/local/lib/python3.7/dist-packages/tornado/stack_context.py\", line 300, in null_wrapper\n      return fn(*args, **kwargs)\n    File \"/usr/local/lib/python3.7/dist-packages/zmq/eventloop/zmqstream.py\", line 452, in _handle_events\n      self._handle_recv()\n    File \"/usr/local/lib/python3.7/dist-packages/zmq/eventloop/zmqstream.py\", line 481, in _handle_recv\n      self._run_callback(callback, msg)\n    File \"/usr/local/lib/python3.7/dist-packages/zmq/eventloop/zmqstream.py\", line 431, in _run_callback\n      callback(*args, **kwargs)\n    File \"/usr/local/lib/python3.7/dist-packages/tornado/stack_context.py\", line 300, in null_wrapper\n      return fn(*args, **kwargs)\n    File \"/usr/local/lib/python3.7/dist-packages/ipykernel/kernelbase.py\", line 283, in dispatcher\n      return self.dispatch_shell(stream, msg)\n    File \"/usr/local/lib/python3.7/dist-packages/ipykernel/kernelbase.py\", line 233, in dispatch_shell\n      handler(stream, idents, msg)\n    File \"/usr/local/lib/python3.7/dist-packages/ipykernel/kernelbase.py\", line 399, in execute_request\n      user_expressions, allow_stdin)\n    File \"/usr/local/lib/python3.7/dist-packages/ipykernel/ipkernel.py\", line 208, in do_execute\n      res = shell.run_cell(code, store_history=store_history, silent=silent)\n    File \"/usr/local/lib/python3.7/dist-packages/ipykernel/zmqshell.py\", line 537, in run_cell\n      return super(ZMQInteractiveShell, self).run_cell(*args, **kwargs)\n    File \"/usr/local/lib/python3.7/dist-packages/IPython/core/interactiveshell.py\", line 2718, in run_cell\n      interactivity=interactivity, compiler=compiler, result=result)\n    File \"/usr/local/lib/python3.7/dist-packages/IPython/core/interactiveshell.py\", line 2828, in run_ast_nodes\n      if self.run_code(code, result):\n    File \"/usr/local/lib/python3.7/dist-packages/IPython/core/interactiveshell.py\", line 2882, in run_code\n      exec(code_obj, self.user_global_ns, self.user_ns)\n    File \"<ipython-input-323-737cfc6db2e6>\", line 2, in <module>\n      y_trainRNN\n    File \"/usr/local/lib/python3.7/dist-packages/keras/utils/traceback_utils.py\", line 64, in error_handler\n      return fn(*args, **kwargs)\n    File \"/usr/local/lib/python3.7/dist-packages/keras/engine/training.py\", line 1384, in fit\n      tmp_logs = self.train_function(iterator)\n    File \"/usr/local/lib/python3.7/dist-packages/keras/engine/training.py\", line 1021, in train_function\n      return step_function(self, iterator)\n    File \"/usr/local/lib/python3.7/dist-packages/keras/engine/training.py\", line 1010, in step_function\n      outputs = model.distribute_strategy.run(run_step, args=(data,))\n    File \"/usr/local/lib/python3.7/dist-packages/keras/engine/training.py\", line 1000, in run_step\n      outputs = model.train_step(data)\n    File \"/usr/local/lib/python3.7/dist-packages/keras/engine/training.py\", line 859, in train_step\n      y_pred = self(x, training=True)\n    File \"/usr/local/lib/python3.7/dist-packages/keras/utils/traceback_utils.py\", line 64, in error_handler\n      return fn(*args, **kwargs)\n    File \"/usr/local/lib/python3.7/dist-packages/keras/engine/base_layer.py\", line 1096, in __call__\n      outputs = call_fn(inputs, *args, **kwargs)\n    File \"/usr/local/lib/python3.7/dist-packages/keras/utils/traceback_utils.py\", line 92, in error_handler\n      return fn(*args, **kwargs)\n    File \"/usr/local/lib/python3.7/dist-packages/keras/engine/sequential.py\", line 374, in call\n      return super(Sequential, self).call(inputs, training=training, mask=mask)\n    File \"/usr/local/lib/python3.7/dist-packages/keras/engine/functional.py\", line 452, in call\n      inputs, training=training, mask=mask)\n    File \"/usr/local/lib/python3.7/dist-packages/keras/engine/functional.py\", line 589, in _run_internal_graph\n      outputs = node.layer(*args, **kwargs)\n    File \"/usr/local/lib/python3.7/dist-packages/keras/utils/traceback_utils.py\", line 64, in error_handler\n      return fn(*args, **kwargs)\n    File \"/usr/local/lib/python3.7/dist-packages/keras/engine/base_layer.py\", line 1096, in __call__\n      outputs = call_fn(inputs, *args, **kwargs)\n    File \"/usr/local/lib/python3.7/dist-packages/keras/utils/traceback_utils.py\", line 92, in error_handler\n      return fn(*args, **kwargs)\n    File \"/usr/local/lib/python3.7/dist-packages/keras/layers/embeddings.py\", line 197, in call\n      out = tf.nn.embedding_lookup(self.embeddings, inputs)\nNode: 'sequential_15/embedding_15/embedding_lookup'\nindices[26,1886] = 2304 is not in [0, 2000)\n\t [[{{node sequential_15/embedding_15/embedding_lookup}}]] [Op:__inference_train_function_14997]"
          ]
        }
      ]
    },
    {
      "cell_type": "code",
      "source": [
        "np.shape(X_trainRNN)"
      ],
      "metadata": {
        "colab": {
          "base_uri": "https://localhost:8080/"
        },
        "id": "8xUxiVZ-sa15",
        "outputId": "aa60ebcc-9a9b-4770-b3b0-ece48849ffda"
      },
      "execution_count": 287,
      "outputs": [
        {
          "output_type": "execute_result",
          "data": {
            "text/plain": [
              "(8203, 2059)"
            ]
          },
          "metadata": {},
          "execution_count": 287
        }
      ]
    },
    {
      "cell_type": "code",
      "source": [
        "X_trainRNN.head()"
      ],
      "metadata": {
        "colab": {
          "base_uri": "https://localhost:8080/",
          "height": 300
        },
        "id": "5tQhlefsuPoD",
        "outputId": "85ecc732-ef8c-403e-d2b5-a568df17d45b"
      },
      "execution_count": 291,
      "outputs": [
        {
          "output_type": "execute_result",
          "data": {
            "text/plain": [
              "      Tokenized_0  Tokenized_1  Tokenized_2  Tokenized_3  Tokenized_4  \\\n",
              "4984          0.0          0.0          0.0          0.0          0.0   \n",
              "2422          0.0          0.0          0.0          0.0          0.0   \n",
              "438           0.0          0.0          0.0          0.0          0.0   \n",
              "5640          0.0          0.0          0.0          0.0          0.0   \n",
              "3107          0.0          0.0          0.0          0.0          0.0   \n",
              "\n",
              "      Tokenized_5  Tokenized_6  Tokenized_7  Tokenized_8  Tokenized_9  ...  \\\n",
              "4984          0.0          0.0          0.0          0.0          0.0  ...   \n",
              "2422          0.0          0.0          0.0          0.0          0.0  ...   \n",
              "438           0.0          0.0          0.0          0.0          0.0  ...   \n",
              "5640          0.0          0.0          0.0          0.0          0.0  ...   \n",
              "3107          0.0          0.0          0.0          0.0          0.0  ...   \n",
              "\n",
              "      Tokenized_2049  Tokenized_2050  Tokenized_2051  Tokenized_2052  \\\n",
              "4984            61.0            61.0            48.0           370.0   \n",
              "2422           897.0             1.0          9881.0            33.0   \n",
              "438             17.0          1020.0            15.0           259.0   \n",
              "5640           246.0            33.0             7.0          1426.0   \n",
              "3107           100.0            14.0           168.0           308.0   \n",
              "\n",
              "      Tokenized_2053  Tokenized_2054  Tokenized_2055  Tokenized_2056  \\\n",
              "4984          1631.0           139.0           230.0             4.0   \n",
              "2422             3.0           745.0           315.0            58.0   \n",
              "438             13.0            12.0            67.0            39.0   \n",
              "5640            49.0           256.0           103.0            44.0   \n",
              "3107          6154.0           510.0            11.0             8.0   \n",
              "\n",
              "      Tokenized_2057  Tokenized_2058  \n",
              "4984           278.0          1055.0  \n",
              "2422            35.0           371.0  \n",
              "438            182.0           205.0  \n",
              "5640           488.0           457.0  \n",
              "3107            46.0           100.0  \n",
              "\n",
              "[5 rows x 2059 columns]"
            ],
            "text/html": [
              "\n",
              "  <div id=\"df-7f0d1d83-4f68-48d6-bd36-9710428c3a92\">\n",
              "    <div class=\"colab-df-container\">\n",
              "      <div>\n",
              "<style scoped>\n",
              "    .dataframe tbody tr th:only-of-type {\n",
              "        vertical-align: middle;\n",
              "    }\n",
              "\n",
              "    .dataframe tbody tr th {\n",
              "        vertical-align: top;\n",
              "    }\n",
              "\n",
              "    .dataframe thead th {\n",
              "        text-align: right;\n",
              "    }\n",
              "</style>\n",
              "<table border=\"1\" class=\"dataframe\">\n",
              "  <thead>\n",
              "    <tr style=\"text-align: right;\">\n",
              "      <th></th>\n",
              "      <th>Tokenized_0</th>\n",
              "      <th>Tokenized_1</th>\n",
              "      <th>Tokenized_2</th>\n",
              "      <th>Tokenized_3</th>\n",
              "      <th>Tokenized_4</th>\n",
              "      <th>Tokenized_5</th>\n",
              "      <th>Tokenized_6</th>\n",
              "      <th>Tokenized_7</th>\n",
              "      <th>Tokenized_8</th>\n",
              "      <th>Tokenized_9</th>\n",
              "      <th>...</th>\n",
              "      <th>Tokenized_2049</th>\n",
              "      <th>Tokenized_2050</th>\n",
              "      <th>Tokenized_2051</th>\n",
              "      <th>Tokenized_2052</th>\n",
              "      <th>Tokenized_2053</th>\n",
              "      <th>Tokenized_2054</th>\n",
              "      <th>Tokenized_2055</th>\n",
              "      <th>Tokenized_2056</th>\n",
              "      <th>Tokenized_2057</th>\n",
              "      <th>Tokenized_2058</th>\n",
              "    </tr>\n",
              "  </thead>\n",
              "  <tbody>\n",
              "    <tr>\n",
              "      <th>4984</th>\n",
              "      <td>0.0</td>\n",
              "      <td>0.0</td>\n",
              "      <td>0.0</td>\n",
              "      <td>0.0</td>\n",
              "      <td>0.0</td>\n",
              "      <td>0.0</td>\n",
              "      <td>0.0</td>\n",
              "      <td>0.0</td>\n",
              "      <td>0.0</td>\n",
              "      <td>0.0</td>\n",
              "      <td>...</td>\n",
              "      <td>61.0</td>\n",
              "      <td>61.0</td>\n",
              "      <td>48.0</td>\n",
              "      <td>370.0</td>\n",
              "      <td>1631.0</td>\n",
              "      <td>139.0</td>\n",
              "      <td>230.0</td>\n",
              "      <td>4.0</td>\n",
              "      <td>278.0</td>\n",
              "      <td>1055.0</td>\n",
              "    </tr>\n",
              "    <tr>\n",
              "      <th>2422</th>\n",
              "      <td>0.0</td>\n",
              "      <td>0.0</td>\n",
              "      <td>0.0</td>\n",
              "      <td>0.0</td>\n",
              "      <td>0.0</td>\n",
              "      <td>0.0</td>\n",
              "      <td>0.0</td>\n",
              "      <td>0.0</td>\n",
              "      <td>0.0</td>\n",
              "      <td>0.0</td>\n",
              "      <td>...</td>\n",
              "      <td>897.0</td>\n",
              "      <td>1.0</td>\n",
              "      <td>9881.0</td>\n",
              "      <td>33.0</td>\n",
              "      <td>3.0</td>\n",
              "      <td>745.0</td>\n",
              "      <td>315.0</td>\n",
              "      <td>58.0</td>\n",
              "      <td>35.0</td>\n",
              "      <td>371.0</td>\n",
              "    </tr>\n",
              "    <tr>\n",
              "      <th>438</th>\n",
              "      <td>0.0</td>\n",
              "      <td>0.0</td>\n",
              "      <td>0.0</td>\n",
              "      <td>0.0</td>\n",
              "      <td>0.0</td>\n",
              "      <td>0.0</td>\n",
              "      <td>0.0</td>\n",
              "      <td>0.0</td>\n",
              "      <td>0.0</td>\n",
              "      <td>0.0</td>\n",
              "      <td>...</td>\n",
              "      <td>17.0</td>\n",
              "      <td>1020.0</td>\n",
              "      <td>15.0</td>\n",
              "      <td>259.0</td>\n",
              "      <td>13.0</td>\n",
              "      <td>12.0</td>\n",
              "      <td>67.0</td>\n",
              "      <td>39.0</td>\n",
              "      <td>182.0</td>\n",
              "      <td>205.0</td>\n",
              "    </tr>\n",
              "    <tr>\n",
              "      <th>5640</th>\n",
              "      <td>0.0</td>\n",
              "      <td>0.0</td>\n",
              "      <td>0.0</td>\n",
              "      <td>0.0</td>\n",
              "      <td>0.0</td>\n",
              "      <td>0.0</td>\n",
              "      <td>0.0</td>\n",
              "      <td>0.0</td>\n",
              "      <td>0.0</td>\n",
              "      <td>0.0</td>\n",
              "      <td>...</td>\n",
              "      <td>246.0</td>\n",
              "      <td>33.0</td>\n",
              "      <td>7.0</td>\n",
              "      <td>1426.0</td>\n",
              "      <td>49.0</td>\n",
              "      <td>256.0</td>\n",
              "      <td>103.0</td>\n",
              "      <td>44.0</td>\n",
              "      <td>488.0</td>\n",
              "      <td>457.0</td>\n",
              "    </tr>\n",
              "    <tr>\n",
              "      <th>3107</th>\n",
              "      <td>0.0</td>\n",
              "      <td>0.0</td>\n",
              "      <td>0.0</td>\n",
              "      <td>0.0</td>\n",
              "      <td>0.0</td>\n",
              "      <td>0.0</td>\n",
              "      <td>0.0</td>\n",
              "      <td>0.0</td>\n",
              "      <td>0.0</td>\n",
              "      <td>0.0</td>\n",
              "      <td>...</td>\n",
              "      <td>100.0</td>\n",
              "      <td>14.0</td>\n",
              "      <td>168.0</td>\n",
              "      <td>308.0</td>\n",
              "      <td>6154.0</td>\n",
              "      <td>510.0</td>\n",
              "      <td>11.0</td>\n",
              "      <td>8.0</td>\n",
              "      <td>46.0</td>\n",
              "      <td>100.0</td>\n",
              "    </tr>\n",
              "  </tbody>\n",
              "</table>\n",
              "<p>5 rows × 2059 columns</p>\n",
              "</div>\n",
              "      <button class=\"colab-df-convert\" onclick=\"convertToInteractive('df-7f0d1d83-4f68-48d6-bd36-9710428c3a92')\"\n",
              "              title=\"Convert this dataframe to an interactive table.\"\n",
              "              style=\"display:none;\">\n",
              "        \n",
              "  <svg xmlns=\"http://www.w3.org/2000/svg\" height=\"24px\"viewBox=\"0 0 24 24\"\n",
              "       width=\"24px\">\n",
              "    <path d=\"M0 0h24v24H0V0z\" fill=\"none\"/>\n",
              "    <path d=\"M18.56 5.44l.94 2.06.94-2.06 2.06-.94-2.06-.94-.94-2.06-.94 2.06-2.06.94zm-11 1L8.5 8.5l.94-2.06 2.06-.94-2.06-.94L8.5 2.5l-.94 2.06-2.06.94zm10 10l.94 2.06.94-2.06 2.06-.94-2.06-.94-.94-2.06-.94 2.06-2.06.94z\"/><path d=\"M17.41 7.96l-1.37-1.37c-.4-.4-.92-.59-1.43-.59-.52 0-1.04.2-1.43.59L10.3 9.45l-7.72 7.72c-.78.78-.78 2.05 0 2.83L4 21.41c.39.39.9.59 1.41.59.51 0 1.02-.2 1.41-.59l7.78-7.78 2.81-2.81c.8-.78.8-2.07 0-2.86zM5.41 20L4 18.59l7.72-7.72 1.47 1.35L5.41 20z\"/>\n",
              "  </svg>\n",
              "      </button>\n",
              "      \n",
              "  <style>\n",
              "    .colab-df-container {\n",
              "      display:flex;\n",
              "      flex-wrap:wrap;\n",
              "      gap: 12px;\n",
              "    }\n",
              "\n",
              "    .colab-df-convert {\n",
              "      background-color: #E8F0FE;\n",
              "      border: none;\n",
              "      border-radius: 50%;\n",
              "      cursor: pointer;\n",
              "      display: none;\n",
              "      fill: #1967D2;\n",
              "      height: 32px;\n",
              "      padding: 0 0 0 0;\n",
              "      width: 32px;\n",
              "    }\n",
              "\n",
              "    .colab-df-convert:hover {\n",
              "      background-color: #E2EBFA;\n",
              "      box-shadow: 0px 1px 2px rgba(60, 64, 67, 0.3), 0px 1px 3px 1px rgba(60, 64, 67, 0.15);\n",
              "      fill: #174EA6;\n",
              "    }\n",
              "\n",
              "    [theme=dark] .colab-df-convert {\n",
              "      background-color: #3B4455;\n",
              "      fill: #D2E3FC;\n",
              "    }\n",
              "\n",
              "    [theme=dark] .colab-df-convert:hover {\n",
              "      background-color: #434B5C;\n",
              "      box-shadow: 0px 1px 3px 1px rgba(0, 0, 0, 0.15);\n",
              "      filter: drop-shadow(0px 1px 2px rgba(0, 0, 0, 0.3));\n",
              "      fill: #FFFFFF;\n",
              "    }\n",
              "  </style>\n",
              "\n",
              "      <script>\n",
              "        const buttonEl =\n",
              "          document.querySelector('#df-7f0d1d83-4f68-48d6-bd36-9710428c3a92 button.colab-df-convert');\n",
              "        buttonEl.style.display =\n",
              "          google.colab.kernel.accessAllowed ? 'block' : 'none';\n",
              "\n",
              "        async function convertToInteractive(key) {\n",
              "          const element = document.querySelector('#df-7f0d1d83-4f68-48d6-bd36-9710428c3a92');\n",
              "          const dataTable =\n",
              "            await google.colab.kernel.invokeFunction('convertToInteractive',\n",
              "                                                     [key], {});\n",
              "          if (!dataTable) return;\n",
              "\n",
              "          const docLinkHtml = 'Like what you see? Visit the ' +\n",
              "            '<a target=\"_blank\" href=https://colab.research.google.com/notebooks/data_table.ipynb>data table notebook</a>'\n",
              "            + ' to learn more about interactive tables.';\n",
              "          element.innerHTML = '';\n",
              "          dataTable['output_type'] = 'display_data';\n",
              "          await google.colab.output.renderOutput(dataTable, element);\n",
              "          const docLink = document.createElement('div');\n",
              "          docLink.innerHTML = docLinkHtml;\n",
              "          element.appendChild(docLink);\n",
              "        }\n",
              "      </script>\n",
              "    </div>\n",
              "  </div>\n",
              "  "
            ]
          },
          "metadata": {},
          "execution_count": 291
        }
      ]
    },
    {
      "cell_type": "code",
      "source": [
        "np.shape(y_train)"
      ],
      "metadata": {
        "colab": {
          "base_uri": "https://localhost:8080/"
        },
        "id": "w5yzhcYzo_9D",
        "outputId": "44a8c325-4fce-440f-fed3-a40525caf94f"
      },
      "execution_count": 290,
      "outputs": [
        {
          "output_type": "execute_result",
          "data": {
            "text/plain": [
              "(8208, 1)"
            ]
          },
          "metadata": {},
          "execution_count": 290
        }
      ]
    },
    {
      "cell_type": "code",
      "source": [
        "np.shape(X_train)"
      ],
      "metadata": {
        "colab": {
          "base_uri": "https://localhost:8080/"
        },
        "id": "46JlvSJ6pFVJ",
        "outputId": "9d122749-263b-4175-c8fb-f3f8c4a4ab22"
      },
      "execution_count": 266,
      "outputs": [
        {
          "output_type": "execute_result",
          "data": {
            "text/plain": [
              "(8208,)"
            ]
          },
          "metadata": {},
          "execution_count": 266
        }
      ]
    },
    {
      "cell_type": "markdown",
      "source": [
        "## Descartes\n",
        "### Descarte de vetorização"
      ],
      "metadata": {
        "id": "buoOUESq5qk_"
      }
    },
    {
      "cell_type": "code",
      "source": [
        "A = analysis['reviewText'].values.astype('U')\n",
        "B = analysis['overall'].values.astype('U')"
      ],
      "metadata": {
        "id": "lai9GFcUod8a"
      },
      "execution_count": 89,
      "outputs": []
    },
    {
      "cell_type": "code",
      "source": [
        "vect = TfidfVectorizer(stop_words='english',lowercase=True).fit(A)"
      ],
      "metadata": {
        "id": "PjglxyV7oF1A"
      },
      "execution_count": 93,
      "outputs": []
    },
    {
      "cell_type": "code",
      "source": [
        "tfidf_vector_X = vect.transform(A).toarray()\n",
        "tfidf_vector_Y = vect.transform(B).toarray()\n",
        "#tfidf_vector_X = tfidf_vector_X[:, :, None] \n",
        "#tfidf_vector_Y = tfidf_vector_Y[:, :, None] "
      ],
      "metadata": {
        "id": "b9xtAlY0oXO6"
      },
      "execution_count": 102,
      "outputs": []
    },
    {
      "cell_type": "code",
      "source": [
        "tfidf_vector_X[300].sum()"
      ],
      "metadata": {
        "colab": {
          "base_uri": "https://localhost:8080/"
        },
        "id": "lMqQb2k81lcx",
        "outputId": "9447d91c-0051-4fb4-c899-1a79633f8d6e"
      },
      "execution_count": 112,
      "outputs": [
        {
          "output_type": "execute_result",
          "data": {
            "text/plain": [
              "3.73347020673827"
            ]
          },
          "metadata": {},
          "execution_count": 112
        }
      ]
    },
    {
      "cell_type": "code",
      "source": [
        "X_train, X_test, y_train, y_test = train_test_split(tfidf_vector_X, tfidf_vector_Y, test_size = 0.2, random_state = 1)\n"
      ],
      "metadata": {
        "id": "HHR0WDiIq-Ri"
      },
      "execution_count": 103,
      "outputs": []
    },
    {
      "cell_type": "code",
      "source": [
        "X_train"
      ],
      "metadata": {
        "colab": {
          "base_uri": "https://localhost:8080/"
        },
        "id": "QFPeNjuzraNe",
        "outputId": "bc663a05-5771-4b33-b83c-b605b335c033"
      },
      "execution_count": 128,
      "outputs": [
        {
          "output_type": "execute_result",
          "data": {
            "text/plain": [
              "array(['This MXL Studio 24 USB Microphone is a decent choice for those needing a portable or a good quality studio microphone. We professionally produce instructional videos, both at our shop and at customer locations, and often need to voice over footage. This mic will replace theBlue Microphones Snowball USB Microphone (Textured White)we use in studio and also theMXL Mics MXL-STUDIO 1 USB Condenser Microphone, Cardioidwe had previously used for off-site recording.Pros -* Good Voice Quality; cleanly captures spoken voices* Good Physical Quality; this is beefy mic that feels very well made* Looks Professional; while not important to the functionality, it makes a good impression on our customers* Long USB Cord; allows for placement away from PC* Headphone Jack; \"real time monitor\", handy to listen to live recording and playback* Travels Well; includes a protective travel case that fits all of componentsCons -* No Pop-Filter Included; normally I wouldn\\'t mention this but the instructions include a warning the condenser mics are susceptible to water damage (like from breath moisture) and a pop-filter is \"essential\". We boughtNady MPF-6 6-Inch Clamp On Microphone Pop Filter* Left Channel; only brings in audio on the left channel, had to compensate in my editing softwareMisc -* Since we do not do music recording of any type, I can\\'t comment on the mic\\'s performance in that area* Software; Studio Control GUI (downloadable) can be launched to control some of the finer functions of the microphone, but the interface is not intuitive and my editing software (Sony Vegas Pro) gives me better control for what we doThe MXL Studio 24 mic more than meets our needs (which may be different from yours).Recommended!CFH',\n",
              "       'Small light and stays out of the way,  it just works.  Folds up if needed for travel.  I use with Stratacoustic.',\n",
              "       'Tone is subjective and 3 stars means it just OK to me.  It does need a hot signal going in to sound good, so use a boost in front of it or hot pickups.  The distortion is fuzzy, but not fuzz, almost like a fuzzy static.  The EQ switch that removes the tone circuit causes the pedal to become really dark so I always have the tone in the circuit. I used it with a vintage Vibrolux Reverb. This is not my go to pedal or my go to second pedal.  I am still trying to figure out how to use it so it sounds good to me.  It is made well. For the money I am not mad I tried it.',\n",
              "       ...,\n",
              "       'Real nice Guitar Picks. It came in a 6 piece pack, they deserve the Dunlop brandname because these things last a long time.',\n",
              "       \"I bought them at 45 dollars. Use for small music gigs and DJ/MC uses. They are great for DJ uses or other things where the quality of the voice isn't so important, as long as you can be heard and understood. I recommend for use of: 1. Small music venues (smaller bands), Djing, public speaking, band practices/rehearses, etc.For higher quality microphones at a reasonable price, look at the Audix OM2 when it's around 80 bucks, or Audio Technica products.\",\n",
              "       \"Like most products on the market, depending on where and how the item is used, your experience may vary. For me, this cable is going to be used on a semi-stationary mic stand in my project studio, and thus far, it's done nothing but an exceptional job. I tested the cable with a few different mics and in each scenario, the signal was just as strong as the some of the other, more pricey cables out there. Would I purchase this again? Absolutely!\"],\n",
              "      dtype='<U11310')"
            ]
          },
          "metadata": {},
          "execution_count": 128
        }
      ]
    },
    {
      "cell_type": "markdown",
      "source": [
        "\n",
        "### SVM descarte"
      ],
      "metadata": {
        "id": "tX2BhqbFrqvJ"
      }
    },
    {
      "cell_type": "code",
      "source": [
        "from sklearn.svm import SVC\n",
        "from sklearn.preprocessing import StandardScaler"
      ],
      "metadata": {
        "id": "ihxc60jX2JVv"
      },
      "execution_count": 113,
      "outputs": []
    },
    {
      "cell_type": "code",
      "source": [
        "X_train.shape"
      ],
      "metadata": {
        "colab": {
          "base_uri": "https://localhost:8080/"
        },
        "id": "cRY3lKEIv1w1",
        "outputId": "a34316d3-6d62-4078-81c1-27694629c505"
      },
      "execution_count": 105,
      "outputs": [
        {
          "output_type": "execute_result",
          "data": {
            "text/plain": [
              "(8208, 20251)"
            ]
          },
          "metadata": {},
          "execution_count": 105
        }
      ]
    },
    {
      "cell_type": "code",
      "source": [
        "scaler = StandardScaler() \n",
        "X_train_svm = scaler.fit_transform(X_train)\n",
        "X_test_svm = scaler.fit_transform(X_test)"
      ],
      "metadata": {
        "id": "0z0bJc-nurzX"
      },
      "execution_count": 106,
      "outputs": []
    },
    {
      "cell_type": "code",
      "source": [
        "classifier = SVC(kernel='linear')"
      ],
      "metadata": {
        "id": "q8cRshcn2SK9"
      },
      "execution_count": 114,
      "outputs": []
    },
    {
      "cell_type": "code",
      "source": [
        "classifier.fit(X_train, y_train)"
      ],
      "metadata": {
        "colab": {
          "base_uri": "https://localhost:8080/",
          "height": 311
        },
        "id": "0g-FbilE2VkB",
        "outputId": "9d15bee5-4e1d-45b7-9bde-4ee8f39cb35b"
      },
      "execution_count": 115,
      "outputs": [
        {
          "output_type": "error",
          "ename": "ValueError",
          "evalue": "ignored",
          "traceback": [
            "\u001b[0;31m---------------------------------------------------------------------------\u001b[0m",
            "\u001b[0;31mValueError\u001b[0m                                Traceback (most recent call last)",
            "\u001b[0;32m<ipython-input-115-f44724590846>\u001b[0m in \u001b[0;36m<module>\u001b[0;34m()\u001b[0m\n\u001b[0;32m----> 1\u001b[0;31m \u001b[0mclassifier\u001b[0m\u001b[0;34m.\u001b[0m\u001b[0mfit\u001b[0m\u001b[0;34m(\u001b[0m\u001b[0mX_train\u001b[0m\u001b[0;34m,\u001b[0m \u001b[0my_train\u001b[0m\u001b[0;34m)\u001b[0m\u001b[0;34m\u001b[0m\u001b[0;34m\u001b[0m\u001b[0m\n\u001b[0m",
            "\u001b[0;32m/usr/local/lib/python3.7/dist-packages/sklearn/svm/_base.py\u001b[0m in \u001b[0;36mfit\u001b[0;34m(self, X, y, sample_weight)\u001b[0m\n\u001b[1;32m    194\u001b[0m                 \u001b[0morder\u001b[0m\u001b[0;34m=\u001b[0m\u001b[0;34m\"C\"\u001b[0m\u001b[0;34m,\u001b[0m\u001b[0;34m\u001b[0m\u001b[0;34m\u001b[0m\u001b[0m\n\u001b[1;32m    195\u001b[0m                 \u001b[0maccept_sparse\u001b[0m\u001b[0;34m=\u001b[0m\u001b[0;34m\"csr\"\u001b[0m\u001b[0;34m,\u001b[0m\u001b[0;34m\u001b[0m\u001b[0;34m\u001b[0m\u001b[0m\n\u001b[0;32m--> 196\u001b[0;31m                 \u001b[0maccept_large_sparse\u001b[0m\u001b[0;34m=\u001b[0m\u001b[0;32mFalse\u001b[0m\u001b[0;34m,\u001b[0m\u001b[0;34m\u001b[0m\u001b[0;34m\u001b[0m\u001b[0m\n\u001b[0m\u001b[1;32m    197\u001b[0m             )\n\u001b[1;32m    198\u001b[0m \u001b[0;34m\u001b[0m\u001b[0m\n",
            "\u001b[0;32m/usr/local/lib/python3.7/dist-packages/sklearn/base.py\u001b[0m in \u001b[0;36m_validate_data\u001b[0;34m(self, X, y, reset, validate_separately, **check_params)\u001b[0m\n\u001b[1;32m    579\u001b[0m                 \u001b[0my\u001b[0m \u001b[0;34m=\u001b[0m \u001b[0mcheck_array\u001b[0m\u001b[0;34m(\u001b[0m\u001b[0my\u001b[0m\u001b[0;34m,\u001b[0m \u001b[0;34m**\u001b[0m\u001b[0mcheck_y_params\u001b[0m\u001b[0;34m)\u001b[0m\u001b[0;34m\u001b[0m\u001b[0;34m\u001b[0m\u001b[0m\n\u001b[1;32m    580\u001b[0m             \u001b[0;32melse\u001b[0m\u001b[0;34m:\u001b[0m\u001b[0;34m\u001b[0m\u001b[0;34m\u001b[0m\u001b[0m\n\u001b[0;32m--> 581\u001b[0;31m                 \u001b[0mX\u001b[0m\u001b[0;34m,\u001b[0m \u001b[0my\u001b[0m \u001b[0;34m=\u001b[0m \u001b[0mcheck_X_y\u001b[0m\u001b[0;34m(\u001b[0m\u001b[0mX\u001b[0m\u001b[0;34m,\u001b[0m \u001b[0my\u001b[0m\u001b[0;34m,\u001b[0m \u001b[0;34m**\u001b[0m\u001b[0mcheck_params\u001b[0m\u001b[0;34m)\u001b[0m\u001b[0;34m\u001b[0m\u001b[0;34m\u001b[0m\u001b[0m\n\u001b[0m\u001b[1;32m    582\u001b[0m             \u001b[0mout\u001b[0m \u001b[0;34m=\u001b[0m \u001b[0mX\u001b[0m\u001b[0;34m,\u001b[0m \u001b[0my\u001b[0m\u001b[0;34m\u001b[0m\u001b[0;34m\u001b[0m\u001b[0m\n\u001b[1;32m    583\u001b[0m \u001b[0;34m\u001b[0m\u001b[0m\n",
            "\u001b[0;32m/usr/local/lib/python3.7/dist-packages/sklearn/utils/validation.py\u001b[0m in \u001b[0;36mcheck_X_y\u001b[0;34m(X, y, accept_sparse, accept_large_sparse, dtype, order, copy, force_all_finite, ensure_2d, allow_nd, multi_output, ensure_min_samples, ensure_min_features, y_numeric, estimator)\u001b[0m\n\u001b[1;32m    977\u001b[0m     )\n\u001b[1;32m    978\u001b[0m \u001b[0;34m\u001b[0m\u001b[0m\n\u001b[0;32m--> 979\u001b[0;31m     \u001b[0my\u001b[0m \u001b[0;34m=\u001b[0m \u001b[0m_check_y\u001b[0m\u001b[0;34m(\u001b[0m\u001b[0my\u001b[0m\u001b[0;34m,\u001b[0m \u001b[0mmulti_output\u001b[0m\u001b[0;34m=\u001b[0m\u001b[0mmulti_output\u001b[0m\u001b[0;34m,\u001b[0m \u001b[0my_numeric\u001b[0m\u001b[0;34m=\u001b[0m\u001b[0my_numeric\u001b[0m\u001b[0;34m)\u001b[0m\u001b[0;34m\u001b[0m\u001b[0;34m\u001b[0m\u001b[0m\n\u001b[0m\u001b[1;32m    980\u001b[0m \u001b[0;34m\u001b[0m\u001b[0m\n\u001b[1;32m    981\u001b[0m     \u001b[0mcheck_consistent_length\u001b[0m\u001b[0;34m(\u001b[0m\u001b[0mX\u001b[0m\u001b[0;34m,\u001b[0m \u001b[0my\u001b[0m\u001b[0;34m)\u001b[0m\u001b[0;34m\u001b[0m\u001b[0;34m\u001b[0m\u001b[0m\n",
            "\u001b[0;32m/usr/local/lib/python3.7/dist-packages/sklearn/utils/validation.py\u001b[0m in \u001b[0;36m_check_y\u001b[0;34m(y, multi_output, y_numeric)\u001b[0m\n\u001b[1;32m    991\u001b[0m         )\n\u001b[1;32m    992\u001b[0m     \u001b[0;32melse\u001b[0m\u001b[0;34m:\u001b[0m\u001b[0;34m\u001b[0m\u001b[0;34m\u001b[0m\u001b[0m\n\u001b[0;32m--> 993\u001b[0;31m         \u001b[0my\u001b[0m \u001b[0;34m=\u001b[0m \u001b[0mcolumn_or_1d\u001b[0m\u001b[0;34m(\u001b[0m\u001b[0my\u001b[0m\u001b[0;34m,\u001b[0m \u001b[0mwarn\u001b[0m\u001b[0;34m=\u001b[0m\u001b[0;32mTrue\u001b[0m\u001b[0;34m)\u001b[0m\u001b[0;34m\u001b[0m\u001b[0;34m\u001b[0m\u001b[0m\n\u001b[0m\u001b[1;32m    994\u001b[0m         \u001b[0m_assert_all_finite\u001b[0m\u001b[0;34m(\u001b[0m\u001b[0my\u001b[0m\u001b[0;34m)\u001b[0m\u001b[0;34m\u001b[0m\u001b[0;34m\u001b[0m\u001b[0m\n\u001b[1;32m    995\u001b[0m         \u001b[0m_ensure_no_complex_data\u001b[0m\u001b[0;34m(\u001b[0m\u001b[0my\u001b[0m\u001b[0;34m)\u001b[0m\u001b[0;34m\u001b[0m\u001b[0;34m\u001b[0m\u001b[0m\n",
            "\u001b[0;32m/usr/local/lib/python3.7/dist-packages/sklearn/utils/validation.py\u001b[0m in \u001b[0;36mcolumn_or_1d\u001b[0;34m(y, warn)\u001b[0m\n\u001b[1;32m   1037\u001b[0m \u001b[0;34m\u001b[0m\u001b[0m\n\u001b[1;32m   1038\u001b[0m     raise ValueError(\n\u001b[0;32m-> 1039\u001b[0;31m         \u001b[0;34m\"y should be a 1d array, got an array of shape {} instead.\"\u001b[0m\u001b[0;34m.\u001b[0m\u001b[0mformat\u001b[0m\u001b[0;34m(\u001b[0m\u001b[0mshape\u001b[0m\u001b[0;34m)\u001b[0m\u001b[0;34m\u001b[0m\u001b[0;34m\u001b[0m\u001b[0m\n\u001b[0m\u001b[1;32m   1040\u001b[0m     )\n\u001b[1;32m   1041\u001b[0m \u001b[0;34m\u001b[0m\u001b[0m\n",
            "\u001b[0;31mValueError\u001b[0m: y should be a 1d array, got an array of shape (8208, 20251) instead."
          ]
        }
      ]
    },
    {
      "cell_type": "markdown",
      "source": [
        ""
      ],
      "metadata": {
        "id": "T_2BZxfTupiG"
      }
    },
    {
      "cell_type": "code",
      "source": [
        "A = vectorizer.build_preprocessor()"
      ],
      "metadata": {
        "id": "6Qvimrw2aWXg"
      },
      "execution_count": 84,
      "outputs": []
    },
    {
      "cell_type": "code",
      "source": [
        "B = A(analysis['reviewText'].values.astype('U'))"
      ],
      "metadata": {
        "colab": {
          "base_uri": "https://localhost:8080/",
          "height": 305
        },
        "id": "n8wZaH6YagSY",
        "outputId": "4540e3ec-8340-4c78-8124-f7758234fcbe"
      },
      "execution_count": 85,
      "outputs": [
        {
          "output_type": "error",
          "ename": "AttributeError",
          "evalue": "ignored",
          "traceback": [
            "\u001b[0;31m---------------------------------------------------------------------------\u001b[0m",
            "\u001b[0;31mAttributeError\u001b[0m                            Traceback (most recent call last)",
            "\u001b[0;32m<ipython-input-85-f4e75dac9b29>\u001b[0m in \u001b[0;36m<module>\u001b[0;34m()\u001b[0m\n\u001b[0;32m----> 1\u001b[0;31m \u001b[0mB\u001b[0m \u001b[0;34m=\u001b[0m \u001b[0mA\u001b[0m\u001b[0;34m(\u001b[0m\u001b[0manalysis\u001b[0m\u001b[0;34m[\u001b[0m\u001b[0;34m'reviewText'\u001b[0m\u001b[0;34m]\u001b[0m\u001b[0;34m.\u001b[0m\u001b[0mvalues\u001b[0m\u001b[0;34m.\u001b[0m\u001b[0mastype\u001b[0m\u001b[0;34m(\u001b[0m\u001b[0;34m'U'\u001b[0m\u001b[0;34m)\u001b[0m\u001b[0;34m)\u001b[0m\u001b[0;34m\u001b[0m\u001b[0;34m\u001b[0m\u001b[0m\n\u001b[0m",
            "\u001b[0;32m/usr/local/lib/python3.7/dist-packages/sklearn/feature_extraction/text.py\u001b[0m in \u001b[0;36m_preprocess\u001b[0;34m(doc, accent_function, lower)\u001b[0m\n\u001b[1;32m     69\u001b[0m     \"\"\"\n\u001b[1;32m     70\u001b[0m     \u001b[0;32mif\u001b[0m \u001b[0mlower\u001b[0m\u001b[0;34m:\u001b[0m\u001b[0;34m\u001b[0m\u001b[0;34m\u001b[0m\u001b[0m\n\u001b[0;32m---> 71\u001b[0;31m         \u001b[0mdoc\u001b[0m \u001b[0;34m=\u001b[0m \u001b[0mdoc\u001b[0m\u001b[0;34m.\u001b[0m\u001b[0mlower\u001b[0m\u001b[0;34m(\u001b[0m\u001b[0;34m)\u001b[0m\u001b[0;34m\u001b[0m\u001b[0;34m\u001b[0m\u001b[0m\n\u001b[0m\u001b[1;32m     72\u001b[0m     \u001b[0;32mif\u001b[0m \u001b[0maccent_function\u001b[0m \u001b[0;32mis\u001b[0m \u001b[0;32mnot\u001b[0m \u001b[0;32mNone\u001b[0m\u001b[0;34m:\u001b[0m\u001b[0;34m\u001b[0m\u001b[0;34m\u001b[0m\u001b[0m\n\u001b[1;32m     73\u001b[0m         \u001b[0mdoc\u001b[0m \u001b[0;34m=\u001b[0m \u001b[0maccent_function\u001b[0m\u001b[0;34m(\u001b[0m\u001b[0mdoc\u001b[0m\u001b[0;34m)\u001b[0m\u001b[0;34m\u001b[0m\u001b[0;34m\u001b[0m\u001b[0m\n",
            "\u001b[0;31mAttributeError\u001b[0m: 'numpy.ndarray' object has no attribute 'lower'"
          ]
        }
      ]
    },
    {
      "cell_type": "code",
      "source": [
        "np.shape(X)"
      ],
      "metadata": {
        "id": "qz4H4l0U81N6",
        "outputId": "a9697999-d59d-421e-caa0-3656df14b9ea",
        "colab": {
          "base_uri": "https://localhost:8080/"
        }
      },
      "execution_count": 82,
      "outputs": [
        {
          "output_type": "execute_result",
          "data": {
            "text/plain": [
              "(10261, 20551)"
            ]
          },
          "metadata": {},
          "execution_count": 82
        }
      ]
    },
    {
      "cell_type": "code",
      "source": [
        "tokens = vectorizer.get_feature_names_out()\n",
        "tokens[20]"
      ],
      "metadata": {
        "colab": {
          "base_uri": "https://localhost:8080/",
          "height": 36
        },
        "id": "m2Dn62REzmXj",
        "outputId": "ab13bd47-b6b8-4a73-9d5f-a7ec5d624647"
      },
      "execution_count": 83,
      "outputs": [
        {
          "output_type": "execute_result",
          "data": {
            "text/plain": [
              "'011s'"
            ],
            "application/vnd.google.colaboratory.intrinsic+json": {
              "type": "string"
            }
          },
          "metadata": {},
          "execution_count": 83
        }
      ]
    },
    {
      "cell_type": "code",
      "source": [
        "df_tfidfvect = pd.DataFrame(data = x.toarray(),index = ['Doc1','Doc2'],columns = tokens)"
      ],
      "metadata": {
        "colab": {
          "base_uri": "https://localhost:8080/",
          "height": 363
        },
        "id": "g6z9WQI1z6JA",
        "outputId": "db09f30c-8881-429c-da06-6bdde6a8eb99"
      },
      "execution_count": 20,
      "outputs": [
        {
          "output_type": "error",
          "ename": "ValueError",
          "evalue": "ignored",
          "traceback": [
            "\u001b[0;31m---------------------------------------------------------------------------\u001b[0m",
            "\u001b[0;31mValueError\u001b[0m                                Traceback (most recent call last)",
            "\u001b[0;32m<ipython-input-20-be0841fd84bc>\u001b[0m in \u001b[0;36m<module>\u001b[0;34m()\u001b[0m\n\u001b[0;32m----> 1\u001b[0;31m \u001b[0mdf_tfidfvect\u001b[0m \u001b[0;34m=\u001b[0m \u001b[0mpd\u001b[0m\u001b[0;34m.\u001b[0m\u001b[0mDataFrame\u001b[0m\u001b[0;34m(\u001b[0m\u001b[0mdata\u001b[0m \u001b[0;34m=\u001b[0m \u001b[0mx\u001b[0m\u001b[0;34m.\u001b[0m\u001b[0mtoarray\u001b[0m\u001b[0;34m(\u001b[0m\u001b[0;34m)\u001b[0m\u001b[0;34m,\u001b[0m\u001b[0mindex\u001b[0m \u001b[0;34m=\u001b[0m \u001b[0;34m[\u001b[0m\u001b[0;34m'Doc1'\u001b[0m\u001b[0;34m,\u001b[0m\u001b[0;34m'Doc2'\u001b[0m\u001b[0;34m]\u001b[0m\u001b[0;34m,\u001b[0m\u001b[0mcolumns\u001b[0m \u001b[0;34m=\u001b[0m \u001b[0mtokens\u001b[0m\u001b[0;34m)\u001b[0m\u001b[0;34m\u001b[0m\u001b[0;34m\u001b[0m\u001b[0m\n\u001b[0m",
            "\u001b[0;32m/usr/local/lib/python3.7/dist-packages/pandas/core/frame.py\u001b[0m in \u001b[0;36m__init__\u001b[0;34m(self, data, index, columns, dtype, copy)\u001b[0m\n\u001b[1;32m    676\u001b[0m                     \u001b[0mdtype\u001b[0m\u001b[0;34m=\u001b[0m\u001b[0mdtype\u001b[0m\u001b[0;34m,\u001b[0m\u001b[0;34m\u001b[0m\u001b[0;34m\u001b[0m\u001b[0m\n\u001b[1;32m    677\u001b[0m                     \u001b[0mcopy\u001b[0m\u001b[0;34m=\u001b[0m\u001b[0mcopy\u001b[0m\u001b[0;34m,\u001b[0m\u001b[0;34m\u001b[0m\u001b[0;34m\u001b[0m\u001b[0m\n\u001b[0;32m--> 678\u001b[0;31m                     \u001b[0mtyp\u001b[0m\u001b[0;34m=\u001b[0m\u001b[0mmanager\u001b[0m\u001b[0;34m,\u001b[0m\u001b[0;34m\u001b[0m\u001b[0;34m\u001b[0m\u001b[0m\n\u001b[0m\u001b[1;32m    679\u001b[0m                 )\n\u001b[1;32m    680\u001b[0m \u001b[0;34m\u001b[0m\u001b[0m\n",
            "\u001b[0;32m/usr/local/lib/python3.7/dist-packages/pandas/core/internals/construction.py\u001b[0m in \u001b[0;36mndarray_to_mgr\u001b[0;34m(values, index, columns, dtype, copy, typ)\u001b[0m\n\u001b[1;32m    322\u001b[0m     )\n\u001b[1;32m    323\u001b[0m \u001b[0;34m\u001b[0m\u001b[0m\n\u001b[0;32m--> 324\u001b[0;31m     \u001b[0m_check_values_indices_shape_match\u001b[0m\u001b[0;34m(\u001b[0m\u001b[0mvalues\u001b[0m\u001b[0;34m,\u001b[0m \u001b[0mindex\u001b[0m\u001b[0;34m,\u001b[0m \u001b[0mcolumns\u001b[0m\u001b[0;34m)\u001b[0m\u001b[0;34m\u001b[0m\u001b[0;34m\u001b[0m\u001b[0m\n\u001b[0m\u001b[1;32m    325\u001b[0m \u001b[0;34m\u001b[0m\u001b[0m\n\u001b[1;32m    326\u001b[0m     \u001b[0;32mif\u001b[0m \u001b[0mtyp\u001b[0m \u001b[0;34m==\u001b[0m \u001b[0;34m\"array\"\u001b[0m\u001b[0;34m:\u001b[0m\u001b[0;34m\u001b[0m\u001b[0;34m\u001b[0m\u001b[0m\n",
            "\u001b[0;32m/usr/local/lib/python3.7/dist-packages/pandas/core/internals/construction.py\u001b[0m in \u001b[0;36m_check_values_indices_shape_match\u001b[0;34m(values, index, columns)\u001b[0m\n\u001b[1;32m    391\u001b[0m         \u001b[0mpassed\u001b[0m \u001b[0;34m=\u001b[0m \u001b[0mvalues\u001b[0m\u001b[0;34m.\u001b[0m\u001b[0mshape\u001b[0m\u001b[0;34m\u001b[0m\u001b[0;34m\u001b[0m\u001b[0m\n\u001b[1;32m    392\u001b[0m         \u001b[0mimplied\u001b[0m \u001b[0;34m=\u001b[0m \u001b[0;34m(\u001b[0m\u001b[0mlen\u001b[0m\u001b[0;34m(\u001b[0m\u001b[0mindex\u001b[0m\u001b[0;34m)\u001b[0m\u001b[0;34m,\u001b[0m \u001b[0mlen\u001b[0m\u001b[0;34m(\u001b[0m\u001b[0mcolumns\u001b[0m\u001b[0;34m)\u001b[0m\u001b[0;34m)\u001b[0m\u001b[0;34m\u001b[0m\u001b[0;34m\u001b[0m\u001b[0m\n\u001b[0;32m--> 393\u001b[0;31m         \u001b[0;32mraise\u001b[0m \u001b[0mValueError\u001b[0m\u001b[0;34m(\u001b[0m\u001b[0;34mf\"Shape of passed values is {passed}, indices imply {implied}\"\u001b[0m\u001b[0;34m)\u001b[0m\u001b[0;34m\u001b[0m\u001b[0;34m\u001b[0m\u001b[0m\n\u001b[0m\u001b[1;32m    394\u001b[0m \u001b[0;34m\u001b[0m\u001b[0m\n\u001b[1;32m    395\u001b[0m \u001b[0;34m\u001b[0m\u001b[0m\n",
            "\u001b[0;31mValueError\u001b[0m: Shape of passed values is (10261, 20551), indices imply (2, 20551)"
          ]
        }
      ]
    },
    {
      "cell_type": "code",
      "source": [
        "from sklearn.feature_extraction.text import TfidfVectorizer,CountVectorizer\n",
        "import pandas as pd\n",
        "# set of documents\n",
        "train = ['The sky is blue.','The sun is bright.']\n",
        "test = ['The sun in the sky is bright', 'We can see the shining sun, the bright sun.']\n",
        "# instantiate the vectorizer object\n",
        "tfidfvectorizer = TfidfVectorizer()\n",
        "# convert th documents into a matrix\n",
        "tfidf_wm = tfidfvectorizer.fit_transform(train)\n",
        "#retrieve the terms found in the corpora\n",
        "# if we take same parameters on both Classes(CountVectorizer and TfidfVectorizer) , it will give same output of get_feature_names() methods)\n",
        "#count_tokens = tfidfvectorizer.get_feature_names() # no difference\n",
        "tfidf_tokens = tfidfvectorizer.get_feature_names()\n",
        "df_tfidfvect = pd.DataFrame(data = tfidf_wm.toarray(),index = ['Doc1','Doc2'],columns = tfidf_tokens)\n",
        "print(\"\\nTD-IDF Vectorizer\\n\")\n",
        "print(df_tfidfvect)"
      ],
      "metadata": {
        "colab": {
          "base_uri": "https://localhost:8080/"
        },
        "id": "RfWVGGFp61bG",
        "outputId": "9a90bf5a-7c5d-4fef-b2f2-312428901a13"
      },
      "execution_count": 20,
      "outputs": [
        {
          "output_type": "stream",
          "name": "stdout",
          "text": [
            "\n",
            "TD-IDF Vectorizer\n",
            "\n",
            "          blue    bright        is       sky       sun       the\n",
            "Doc1  0.576152  0.000000  0.409937  0.576152  0.000000  0.409937\n",
            "Doc2  0.000000  0.576152  0.409937  0.000000  0.576152  0.409937\n"
          ]
        },
        {
          "output_type": "stream",
          "name": "stderr",
          "text": [
            "/usr/local/lib/python3.7/dist-packages/sklearn/utils/deprecation.py:87: FutureWarning: Function get_feature_names is deprecated; get_feature_names is deprecated in 1.0 and will be removed in 1.2. Please use get_feature_names_out instead.\n",
            "  warnings.warn(msg, category=FutureWarning)\n"
          ]
        }
      ]
    },
    {
      "cell_type": "code",
      "source": [
        "from sklearn.feature_extraction.text import TfidfVectorizer\n",
        "from sklearn.model_selection import train_test_split\n",
        "\n",
        "X = [\"Good morning\", \"Sweet Dreams\", \"Stay Awake\"]\n",
        "Y = [\"Good morning\", \"Sweet Dreams\", \"Stay Awake\"]\n",
        "\n",
        "vectorizer = TfidfVectorizer().fit(X)\n",
        "\n",
        "tfidf_vector_X = vectorizer.transform(X).toarray()  #//shape - (3,6)\n",
        "tfidf_vector_Y = vectorizer.transform(Y).toarray() #//shape - (3,6)\n",
        "tfidf_vector_X = tfidf_vector_X[:, :, None] #//shape - (3,6,1) \n",
        "tfidf_vector_Y = tfidf_vector_Y[:, :, None] #//shape - (3,6,1)\n",
        "\n",
        "X_train, X_test, y_train, y_test = train_test_split(tfidf_vector_X, tfidf_vector_Y, test_size = 0.2, random_state = 1)\n",
        "\n",
        "from keras import Sequential\n",
        "from keras.layers import LSTM\n",
        "\n",
        "model = Sequential()\n",
        "model.add(LSTM(units=6, input_shape = X_train.shape[1:], return_sequences = True))\n",
        "model.add(LSTM(units=6, return_sequences=True))\n",
        "model.add(LSTM(units=6, return_sequences=True))\n",
        "model.add(LSTM(units=1, return_sequences=True, name='output'))\n",
        "model.compile(loss='cosine_proximity', optimizer='sgd', metrics = ['accuracy'])\n",
        "\n",
        "print(model.summary())\n",
        "\n",
        "model.fit(X_train, y_train, epochs=1, verbose=1)"
      ],
      "metadata": {
        "colab": {
          "base_uri": "https://localhost:8080/"
        },
        "id": "mPDzOhfIPoci",
        "outputId": "fc1cd715-625a-4970-9536-046288ab6c6e"
      },
      "execution_count": 24,
      "outputs": [
        {
          "output_type": "execute_result",
          "data": {
            "text/plain": [
              "numpy.ndarray"
            ]
          },
          "metadata": {},
          "execution_count": 24
        }
      ]
    }
  ],
  "metadata": {
    "colab": {
      "name": "RNN.pynb",
      "provenance": [],
      "collapsed_sections": [
        "CBKu46Hzrxlb",
        "bSFBQdPQr2nd",
        "85Io3gYXsM4M",
        "VAV8aimQsWgB",
        "RRuD_IKrCKNo",
        "buoOUESq5qk_",
        "tX2BhqbFrqvJ"
      ]
    },
    "kernelspec": {
      "display_name": "Python 3",
      "name": "python3"
    },
    "language_info": {
      "name": "python"
    }
  },
  "nbformat": 4,
  "nbformat_minor": 0
}