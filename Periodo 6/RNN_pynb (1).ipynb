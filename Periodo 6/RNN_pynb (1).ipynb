{
  "cells": [
    {
      "cell_type": "markdown",
      "source": [
        "## Imports principais"
      ],
      "metadata": {
        "id": "CBKu46Hzrxlb"
      }
    },
    {
      "cell_type": "markdown",
      "source": [
        "Imports mais generalistas para começar"
      ],
      "metadata": {
        "id": "yD58_ulczsh8"
      }
    },
    {
      "cell_type": "code",
      "execution_count": 1,
      "metadata": {
        "id": "_kiXF9Nl8D7T"
      },
      "outputs": [],
      "source": [
        "import pandas as pd\n",
        "import matplotlib.pyplot as plt\n",
        "import numpy as np\n",
        "import seaborn as sns\n",
        "import random\n",
        "from google.colab import files\n",
        "from math import *\n",
        "import time\n",
        "from sklearn import metrics\n",
        "import sklearn\n",
        "import tensorflow as tf\n",
        "from imblearn.over_sampling import RandomOverSampler\n",
        "from imblearn.under_sampling import RandomUnderSampler"
      ]
    },
    {
      "cell_type": "markdown",
      "source": [
        "Algumas camadas mais relevantes de Keras"
      ],
      "metadata": {
        "id": "BfOEOmz5zyMh"
      }
    },
    {
      "cell_type": "code",
      "execution_count": 2,
      "metadata": {
        "id": "a6odiH0y8LyZ"
      },
      "outputs": [],
      "source": [
        "from tensorflow import keras\n",
        "from keras.models import Sequential, Model\n",
        "from keras.layers import Conv2D, MaxPooling2D, Dense, Flatten, Dropout\n",
        "from keras import regularizers\n",
        "\n",
        "\n",
        "from tensorflow.keras.preprocessing.sequence import pad_sequences\n",
        "from keras.layers import Embedding, Input, Dense, LSTM, concatenate, Bidirectional, SpatialDropout1D, Conv1D, GlobalAveragePooling1D, GlobalMaxPooling1D\n",
        "from keras.models import Sequential\n",
        "from keras.callbacks import EarlyStopping, ModelCheckpoint\n",
        "import keras.backend as K\n",
        "from keras.preprocessing.sequence import pad_sequences"
      ]
    },
    {
      "cell_type": "markdown",
      "source": [
        "Sklearn para os processamento de Machine Learning clássico"
      ],
      "metadata": {
        "id": "I-czirNTz7RW"
      }
    },
    {
      "cell_type": "code",
      "source": [
        "import sklearn.datasets\n",
        "from sklearn.feature_extraction.text import TfidfVectorizer\n",
        "from sklearn.model_selection import train_test_split\n",
        "\n",
        "import time\n",
        "from sklearn import svm\n",
        "from sklearn.naive_bayes import MultinomialNB as MNB\n",
        "from sklearn.metrics import classification_report, confusion_matrix\n",
        "from sklearn.metrics import accuracy_score\n",
        "\n"
      ],
      "metadata": {
        "id": "Te_bl1LAkzP8"
      },
      "execution_count": 3,
      "outputs": []
    },
    {
      "cell_type": "markdown",
      "source": [
        "Nltk para pré-processamento em NLP"
      ],
      "metadata": {
        "id": "OG6s2IpW0Agl"
      }
    },
    {
      "cell_type": "code",
      "source": [
        "import nltk\n",
        "nltk.download('punkt')\n",
        "\n",
        "nltk.download('stopwords')\n",
        "nltk.download('averaged_perceptron_tagger')"
      ],
      "metadata": {
        "colab": {
          "base_uri": "https://localhost:8080/"
        },
        "id": "imDCSc9Lk4eF",
        "outputId": "1693e553-b48e-4faf-af55-bada2bb760c6"
      },
      "execution_count": 4,
      "outputs": [
        {
          "output_type": "stream",
          "name": "stdout",
          "text": [
            "[nltk_data] Downloading package punkt to /root/nltk_data...\n",
            "[nltk_data]   Unzipping tokenizers/punkt.zip.\n",
            "[nltk_data] Downloading package stopwords to /root/nltk_data...\n",
            "[nltk_data]   Unzipping corpora/stopwords.zip.\n",
            "[nltk_data] Downloading package averaged_perceptron_tagger to\n",
            "[nltk_data]     /root/nltk_data...\n",
            "[nltk_data]   Unzipping taggers/averaged_perceptron_tagger.zip.\n"
          ]
        },
        {
          "output_type": "execute_result",
          "data": {
            "text/plain": [
              "True"
            ]
          },
          "metadata": {},
          "execution_count": 4
        }
      ]
    },
    {
      "cell_type": "markdown",
      "source": [
        ""
      ],
      "metadata": {
        "id": "3PDz_4LH0FA1"
      }
    },
    {
      "cell_type": "code",
      "execution_count": 5,
      "metadata": {
        "colab": {
          "base_uri": "https://localhost:8080/"
        },
        "id": "bXCQeIlY52Zk",
        "outputId": "dfd8f8de-256d-40e3-8cd4-d2300f52f78d"
      },
      "outputs": [
        {
          "output_type": "stream",
          "name": "stdout",
          "text": [
            "Mounted at /content/gdrive\n"
          ]
        }
      ],
      "source": [
        "from google.colab import drive\n",
        "drive.mount('/content/gdrive')\n",
        "\n",
        "!cp '/content/gdrive/My Drive/Musical_instruments_reviews.csv' new\n",
        "\n"
      ]
    },
    {
      "cell_type": "markdown",
      "source": [
        "## Explorando Dataset"
      ],
      "metadata": {
        "id": "bSFBQdPQr2nd"
      }
    },
    {
      "cell_type": "code",
      "source": [
        "df = pd.read_csv('/content/new')\n",
        "df.head()"
      ],
      "metadata": {
        "colab": {
          "base_uri": "https://localhost:8080/",
          "height": 285
        },
        "id": "q3RSmOKh2q9s",
        "outputId": "d8535ada-cae1-4d95-bfe0-6d971cb9aa13"
      },
      "execution_count": 6,
      "outputs": [
        {
          "output_type": "execute_result",
          "data": {
            "text/plain": [
              "       reviewerID        asin  \\\n",
              "0  A2IBPI20UZIR0U  1384719342   \n",
              "1  A14VAT5EAX3D9S  1384719342   \n",
              "2  A195EZSQDW3E21  1384719342   \n",
              "3  A2C00NNG1ZQQG2  1384719342   \n",
              "4   A94QU4C90B1AX  1384719342   \n",
              "\n",
              "                                       reviewerName   helpful  \\\n",
              "0  cassandra tu \"Yeah, well, that's just like, u...    [0, 0]   \n",
              "1                                              Jake  [13, 14]   \n",
              "2                     Rick Bennette \"Rick Bennette\"    [1, 1]   \n",
              "3                         RustyBill \"Sunday Rocker\"    [0, 0]   \n",
              "4                                     SEAN MASLANKA    [0, 0]   \n",
              "\n",
              "                                          reviewText  overall  \\\n",
              "0  Not much to write about here, but it does exac...      5.0   \n",
              "1  The product does exactly as it should and is q...      5.0   \n",
              "2  The primary job of this device is to block the...      5.0   \n",
              "3  Nice windscreen protects my MXL mic and preven...      5.0   \n",
              "4  This pop filter is great. It looks and perform...      5.0   \n",
              "\n",
              "                                 summary  unixReviewTime   reviewTime  \n",
              "0                                   good      1393545600  02 28, 2014  \n",
              "1                                   Jake      1363392000  03 16, 2013  \n",
              "2                   It Does The Job Well      1377648000  08 28, 2013  \n",
              "3          GOOD WINDSCREEN FOR THE MONEY      1392336000  02 14, 2014  \n",
              "4  No more pops when I record my vocals.      1392940800  02 21, 2014  "
            ],
            "text/html": [
              "\n",
              "  <div id=\"df-bdfc83a3-f340-4781-a7ae-ac70448108fe\">\n",
              "    <div class=\"colab-df-container\">\n",
              "      <div>\n",
              "<style scoped>\n",
              "    .dataframe tbody tr th:only-of-type {\n",
              "        vertical-align: middle;\n",
              "    }\n",
              "\n",
              "    .dataframe tbody tr th {\n",
              "        vertical-align: top;\n",
              "    }\n",
              "\n",
              "    .dataframe thead th {\n",
              "        text-align: right;\n",
              "    }\n",
              "</style>\n",
              "<table border=\"1\" class=\"dataframe\">\n",
              "  <thead>\n",
              "    <tr style=\"text-align: right;\">\n",
              "      <th></th>\n",
              "      <th>reviewerID</th>\n",
              "      <th>asin</th>\n",
              "      <th>reviewerName</th>\n",
              "      <th>helpful</th>\n",
              "      <th>reviewText</th>\n",
              "      <th>overall</th>\n",
              "      <th>summary</th>\n",
              "      <th>unixReviewTime</th>\n",
              "      <th>reviewTime</th>\n",
              "    </tr>\n",
              "  </thead>\n",
              "  <tbody>\n",
              "    <tr>\n",
              "      <th>0</th>\n",
              "      <td>A2IBPI20UZIR0U</td>\n",
              "      <td>1384719342</td>\n",
              "      <td>cassandra tu \"Yeah, well, that's just like, u...</td>\n",
              "      <td>[0, 0]</td>\n",
              "      <td>Not much to write about here, but it does exac...</td>\n",
              "      <td>5.0</td>\n",
              "      <td>good</td>\n",
              "      <td>1393545600</td>\n",
              "      <td>02 28, 2014</td>\n",
              "    </tr>\n",
              "    <tr>\n",
              "      <th>1</th>\n",
              "      <td>A14VAT5EAX3D9S</td>\n",
              "      <td>1384719342</td>\n",
              "      <td>Jake</td>\n",
              "      <td>[13, 14]</td>\n",
              "      <td>The product does exactly as it should and is q...</td>\n",
              "      <td>5.0</td>\n",
              "      <td>Jake</td>\n",
              "      <td>1363392000</td>\n",
              "      <td>03 16, 2013</td>\n",
              "    </tr>\n",
              "    <tr>\n",
              "      <th>2</th>\n",
              "      <td>A195EZSQDW3E21</td>\n",
              "      <td>1384719342</td>\n",
              "      <td>Rick Bennette \"Rick Bennette\"</td>\n",
              "      <td>[1, 1]</td>\n",
              "      <td>The primary job of this device is to block the...</td>\n",
              "      <td>5.0</td>\n",
              "      <td>It Does The Job Well</td>\n",
              "      <td>1377648000</td>\n",
              "      <td>08 28, 2013</td>\n",
              "    </tr>\n",
              "    <tr>\n",
              "      <th>3</th>\n",
              "      <td>A2C00NNG1ZQQG2</td>\n",
              "      <td>1384719342</td>\n",
              "      <td>RustyBill \"Sunday Rocker\"</td>\n",
              "      <td>[0, 0]</td>\n",
              "      <td>Nice windscreen protects my MXL mic and preven...</td>\n",
              "      <td>5.0</td>\n",
              "      <td>GOOD WINDSCREEN FOR THE MONEY</td>\n",
              "      <td>1392336000</td>\n",
              "      <td>02 14, 2014</td>\n",
              "    </tr>\n",
              "    <tr>\n",
              "      <th>4</th>\n",
              "      <td>A94QU4C90B1AX</td>\n",
              "      <td>1384719342</td>\n",
              "      <td>SEAN MASLANKA</td>\n",
              "      <td>[0, 0]</td>\n",
              "      <td>This pop filter is great. It looks and perform...</td>\n",
              "      <td>5.0</td>\n",
              "      <td>No more pops when I record my vocals.</td>\n",
              "      <td>1392940800</td>\n",
              "      <td>02 21, 2014</td>\n",
              "    </tr>\n",
              "  </tbody>\n",
              "</table>\n",
              "</div>\n",
              "      <button class=\"colab-df-convert\" onclick=\"convertToInteractive('df-bdfc83a3-f340-4781-a7ae-ac70448108fe')\"\n",
              "              title=\"Convert this dataframe to an interactive table.\"\n",
              "              style=\"display:none;\">\n",
              "        \n",
              "  <svg xmlns=\"http://www.w3.org/2000/svg\" height=\"24px\"viewBox=\"0 0 24 24\"\n",
              "       width=\"24px\">\n",
              "    <path d=\"M0 0h24v24H0V0z\" fill=\"none\"/>\n",
              "    <path d=\"M18.56 5.44l.94 2.06.94-2.06 2.06-.94-2.06-.94-.94-2.06-.94 2.06-2.06.94zm-11 1L8.5 8.5l.94-2.06 2.06-.94-2.06-.94L8.5 2.5l-.94 2.06-2.06.94zm10 10l.94 2.06.94-2.06 2.06-.94-2.06-.94-.94-2.06-.94 2.06-2.06.94z\"/><path d=\"M17.41 7.96l-1.37-1.37c-.4-.4-.92-.59-1.43-.59-.52 0-1.04.2-1.43.59L10.3 9.45l-7.72 7.72c-.78.78-.78 2.05 0 2.83L4 21.41c.39.39.9.59 1.41.59.51 0 1.02-.2 1.41-.59l7.78-7.78 2.81-2.81c.8-.78.8-2.07 0-2.86zM5.41 20L4 18.59l7.72-7.72 1.47 1.35L5.41 20z\"/>\n",
              "  </svg>\n",
              "      </button>\n",
              "      \n",
              "  <style>\n",
              "    .colab-df-container {\n",
              "      display:flex;\n",
              "      flex-wrap:wrap;\n",
              "      gap: 12px;\n",
              "    }\n",
              "\n",
              "    .colab-df-convert {\n",
              "      background-color: #E8F0FE;\n",
              "      border: none;\n",
              "      border-radius: 50%;\n",
              "      cursor: pointer;\n",
              "      display: none;\n",
              "      fill: #1967D2;\n",
              "      height: 32px;\n",
              "      padding: 0 0 0 0;\n",
              "      width: 32px;\n",
              "    }\n",
              "\n",
              "    .colab-df-convert:hover {\n",
              "      background-color: #E2EBFA;\n",
              "      box-shadow: 0px 1px 2px rgba(60, 64, 67, 0.3), 0px 1px 3px 1px rgba(60, 64, 67, 0.15);\n",
              "      fill: #174EA6;\n",
              "    }\n",
              "\n",
              "    [theme=dark] .colab-df-convert {\n",
              "      background-color: #3B4455;\n",
              "      fill: #D2E3FC;\n",
              "    }\n",
              "\n",
              "    [theme=dark] .colab-df-convert:hover {\n",
              "      background-color: #434B5C;\n",
              "      box-shadow: 0px 1px 3px 1px rgba(0, 0, 0, 0.15);\n",
              "      filter: drop-shadow(0px 1px 2px rgba(0, 0, 0, 0.3));\n",
              "      fill: #FFFFFF;\n",
              "    }\n",
              "  </style>\n",
              "\n",
              "      <script>\n",
              "        const buttonEl =\n",
              "          document.querySelector('#df-bdfc83a3-f340-4781-a7ae-ac70448108fe button.colab-df-convert');\n",
              "        buttonEl.style.display =\n",
              "          google.colab.kernel.accessAllowed ? 'block' : 'none';\n",
              "\n",
              "        async function convertToInteractive(key) {\n",
              "          const element = document.querySelector('#df-bdfc83a3-f340-4781-a7ae-ac70448108fe');\n",
              "          const dataTable =\n",
              "            await google.colab.kernel.invokeFunction('convertToInteractive',\n",
              "                                                     [key], {});\n",
              "          if (!dataTable) return;\n",
              "\n",
              "          const docLinkHtml = 'Like what you see? Visit the ' +\n",
              "            '<a target=\"_blank\" href=https://colab.research.google.com/notebooks/data_table.ipynb>data table notebook</a>'\n",
              "            + ' to learn more about interactive tables.';\n",
              "          element.innerHTML = '';\n",
              "          dataTable['output_type'] = 'display_data';\n",
              "          await google.colab.output.renderOutput(dataTable, element);\n",
              "          const docLink = document.createElement('div');\n",
              "          docLink.innerHTML = docLinkHtml;\n",
              "          element.appendChild(docLink);\n",
              "        }\n",
              "      </script>\n",
              "    </div>\n",
              "  </div>\n",
              "  "
            ]
          },
          "metadata": {},
          "execution_count": 6
        }
      ]
    },
    {
      "cell_type": "markdown",
      "source": [
        "As únicas colunas que parecem relevantes são a de reviewText (a opinião em si) e a nota overall"
      ],
      "metadata": {
        "id": "Ym3Jfoo_0SMi"
      }
    },
    {
      "cell_type": "code",
      "source": [
        "analysis = df[['reviewText','overall']]\n",
        "analysis"
      ],
      "metadata": {
        "colab": {
          "base_uri": "https://localhost:8080/",
          "height": 423
        },
        "id": "b3Bg96s44jGn",
        "outputId": "d0796850-cc4c-4399-a0c1-a1201f17ac3e"
      },
      "execution_count": 7,
      "outputs": [
        {
          "output_type": "execute_result",
          "data": {
            "text/plain": [
              "                                              reviewText  overall\n",
              "0      Not much to write about here, but it does exac...      5.0\n",
              "1      The product does exactly as it should and is q...      5.0\n",
              "2      The primary job of this device is to block the...      5.0\n",
              "3      Nice windscreen protects my MXL mic and preven...      5.0\n",
              "4      This pop filter is great. It looks and perform...      5.0\n",
              "...                                                  ...      ...\n",
              "10256            Great, just as expected.  Thank to all.      5.0\n",
              "10257  I've been thinking about trying the Nanoweb st...      5.0\n",
              "10258  I have tried coated strings in the past ( incl...      4.0\n",
              "10259  Well, MADE by Elixir and DEVELOPED with Taylor...      4.0\n",
              "10260  These strings are really quite good, but I wou...      4.0\n",
              "\n",
              "[10261 rows x 2 columns]"
            ],
            "text/html": [
              "\n",
              "  <div id=\"df-ac73093d-9ed9-44e9-9300-3bfaf5ad4d49\">\n",
              "    <div class=\"colab-df-container\">\n",
              "      <div>\n",
              "<style scoped>\n",
              "    .dataframe tbody tr th:only-of-type {\n",
              "        vertical-align: middle;\n",
              "    }\n",
              "\n",
              "    .dataframe tbody tr th {\n",
              "        vertical-align: top;\n",
              "    }\n",
              "\n",
              "    .dataframe thead th {\n",
              "        text-align: right;\n",
              "    }\n",
              "</style>\n",
              "<table border=\"1\" class=\"dataframe\">\n",
              "  <thead>\n",
              "    <tr style=\"text-align: right;\">\n",
              "      <th></th>\n",
              "      <th>reviewText</th>\n",
              "      <th>overall</th>\n",
              "    </tr>\n",
              "  </thead>\n",
              "  <tbody>\n",
              "    <tr>\n",
              "      <th>0</th>\n",
              "      <td>Not much to write about here, but it does exac...</td>\n",
              "      <td>5.0</td>\n",
              "    </tr>\n",
              "    <tr>\n",
              "      <th>1</th>\n",
              "      <td>The product does exactly as it should and is q...</td>\n",
              "      <td>5.0</td>\n",
              "    </tr>\n",
              "    <tr>\n",
              "      <th>2</th>\n",
              "      <td>The primary job of this device is to block the...</td>\n",
              "      <td>5.0</td>\n",
              "    </tr>\n",
              "    <tr>\n",
              "      <th>3</th>\n",
              "      <td>Nice windscreen protects my MXL mic and preven...</td>\n",
              "      <td>5.0</td>\n",
              "    </tr>\n",
              "    <tr>\n",
              "      <th>4</th>\n",
              "      <td>This pop filter is great. It looks and perform...</td>\n",
              "      <td>5.0</td>\n",
              "    </tr>\n",
              "    <tr>\n",
              "      <th>...</th>\n",
              "      <td>...</td>\n",
              "      <td>...</td>\n",
              "    </tr>\n",
              "    <tr>\n",
              "      <th>10256</th>\n",
              "      <td>Great, just as expected.  Thank to all.</td>\n",
              "      <td>5.0</td>\n",
              "    </tr>\n",
              "    <tr>\n",
              "      <th>10257</th>\n",
              "      <td>I've been thinking about trying the Nanoweb st...</td>\n",
              "      <td>5.0</td>\n",
              "    </tr>\n",
              "    <tr>\n",
              "      <th>10258</th>\n",
              "      <td>I have tried coated strings in the past ( incl...</td>\n",
              "      <td>4.0</td>\n",
              "    </tr>\n",
              "    <tr>\n",
              "      <th>10259</th>\n",
              "      <td>Well, MADE by Elixir and DEVELOPED with Taylor...</td>\n",
              "      <td>4.0</td>\n",
              "    </tr>\n",
              "    <tr>\n",
              "      <th>10260</th>\n",
              "      <td>These strings are really quite good, but I wou...</td>\n",
              "      <td>4.0</td>\n",
              "    </tr>\n",
              "  </tbody>\n",
              "</table>\n",
              "<p>10261 rows × 2 columns</p>\n",
              "</div>\n",
              "      <button class=\"colab-df-convert\" onclick=\"convertToInteractive('df-ac73093d-9ed9-44e9-9300-3bfaf5ad4d49')\"\n",
              "              title=\"Convert this dataframe to an interactive table.\"\n",
              "              style=\"display:none;\">\n",
              "        \n",
              "  <svg xmlns=\"http://www.w3.org/2000/svg\" height=\"24px\"viewBox=\"0 0 24 24\"\n",
              "       width=\"24px\">\n",
              "    <path d=\"M0 0h24v24H0V0z\" fill=\"none\"/>\n",
              "    <path d=\"M18.56 5.44l.94 2.06.94-2.06 2.06-.94-2.06-.94-.94-2.06-.94 2.06-2.06.94zm-11 1L8.5 8.5l.94-2.06 2.06-.94-2.06-.94L8.5 2.5l-.94 2.06-2.06.94zm10 10l.94 2.06.94-2.06 2.06-.94-2.06-.94-.94-2.06-.94 2.06-2.06.94z\"/><path d=\"M17.41 7.96l-1.37-1.37c-.4-.4-.92-.59-1.43-.59-.52 0-1.04.2-1.43.59L10.3 9.45l-7.72 7.72c-.78.78-.78 2.05 0 2.83L4 21.41c.39.39.9.59 1.41.59.51 0 1.02-.2 1.41-.59l7.78-7.78 2.81-2.81c.8-.78.8-2.07 0-2.86zM5.41 20L4 18.59l7.72-7.72 1.47 1.35L5.41 20z\"/>\n",
              "  </svg>\n",
              "      </button>\n",
              "      \n",
              "  <style>\n",
              "    .colab-df-container {\n",
              "      display:flex;\n",
              "      flex-wrap:wrap;\n",
              "      gap: 12px;\n",
              "    }\n",
              "\n",
              "    .colab-df-convert {\n",
              "      background-color: #E8F0FE;\n",
              "      border: none;\n",
              "      border-radius: 50%;\n",
              "      cursor: pointer;\n",
              "      display: none;\n",
              "      fill: #1967D2;\n",
              "      height: 32px;\n",
              "      padding: 0 0 0 0;\n",
              "      width: 32px;\n",
              "    }\n",
              "\n",
              "    .colab-df-convert:hover {\n",
              "      background-color: #E2EBFA;\n",
              "      box-shadow: 0px 1px 2px rgba(60, 64, 67, 0.3), 0px 1px 3px 1px rgba(60, 64, 67, 0.15);\n",
              "      fill: #174EA6;\n",
              "    }\n",
              "\n",
              "    [theme=dark] .colab-df-convert {\n",
              "      background-color: #3B4455;\n",
              "      fill: #D2E3FC;\n",
              "    }\n",
              "\n",
              "    [theme=dark] .colab-df-convert:hover {\n",
              "      background-color: #434B5C;\n",
              "      box-shadow: 0px 1px 3px 1px rgba(0, 0, 0, 0.15);\n",
              "      filter: drop-shadow(0px 1px 2px rgba(0, 0, 0, 0.3));\n",
              "      fill: #FFFFFF;\n",
              "    }\n",
              "  </style>\n",
              "\n",
              "      <script>\n",
              "        const buttonEl =\n",
              "          document.querySelector('#df-ac73093d-9ed9-44e9-9300-3bfaf5ad4d49 button.colab-df-convert');\n",
              "        buttonEl.style.display =\n",
              "          google.colab.kernel.accessAllowed ? 'block' : 'none';\n",
              "\n",
              "        async function convertToInteractive(key) {\n",
              "          const element = document.querySelector('#df-ac73093d-9ed9-44e9-9300-3bfaf5ad4d49');\n",
              "          const dataTable =\n",
              "            await google.colab.kernel.invokeFunction('convertToInteractive',\n",
              "                                                     [key], {});\n",
              "          if (!dataTable) return;\n",
              "\n",
              "          const docLinkHtml = 'Like what you see? Visit the ' +\n",
              "            '<a target=\"_blank\" href=https://colab.research.google.com/notebooks/data_table.ipynb>data table notebook</a>'\n",
              "            + ' to learn more about interactive tables.';\n",
              "          element.innerHTML = '';\n",
              "          dataTable['output_type'] = 'display_data';\n",
              "          await google.colab.output.renderOutput(dataTable, element);\n",
              "          const docLink = document.createElement('div');\n",
              "          docLink.innerHTML = docLinkHtml;\n",
              "          element.appendChild(docLink);\n",
              "        }\n",
              "      </script>\n",
              "    </div>\n",
              "  </div>\n",
              "  "
            ]
          },
          "metadata": {},
          "execution_count": 7
        }
      ]
    },
    {
      "cell_type": "markdown",
      "source": [
        "Parece ter uma tendência para notas mais altas"
      ],
      "metadata": {
        "id": "IU9jhlzR1-P3"
      }
    },
    {
      "cell_type": "code",
      "source": [
        "nanValues = analysis.loc[analysis['reviewText'].isnull()]\n",
        "nanValues"
      ],
      "metadata": {
        "colab": {
          "base_uri": "https://localhost:8080/",
          "height": 268
        },
        "id": "VQAE6Rt76n0R",
        "outputId": "7f97f779-968f-4deb-c1c8-790b82158d3d"
      },
      "execution_count": 8,
      "outputs": [
        {
          "output_type": "execute_result",
          "data": {
            "text/plain": [
              "     reviewText  overall\n",
              "2927        NaN      5.0\n",
              "4401        NaN      4.0\n",
              "8739        NaN      5.0\n",
              "9175        NaN      5.0\n",
              "9306        NaN      5.0\n",
              "9313        NaN      5.0\n",
              "9342        NaN      5.0"
            ],
            "text/html": [
              "\n",
              "  <div id=\"df-e80234d9-b37c-42ac-ad58-fb9ba1249478\">\n",
              "    <div class=\"colab-df-container\">\n",
              "      <div>\n",
              "<style scoped>\n",
              "    .dataframe tbody tr th:only-of-type {\n",
              "        vertical-align: middle;\n",
              "    }\n",
              "\n",
              "    .dataframe tbody tr th {\n",
              "        vertical-align: top;\n",
              "    }\n",
              "\n",
              "    .dataframe thead th {\n",
              "        text-align: right;\n",
              "    }\n",
              "</style>\n",
              "<table border=\"1\" class=\"dataframe\">\n",
              "  <thead>\n",
              "    <tr style=\"text-align: right;\">\n",
              "      <th></th>\n",
              "      <th>reviewText</th>\n",
              "      <th>overall</th>\n",
              "    </tr>\n",
              "  </thead>\n",
              "  <tbody>\n",
              "    <tr>\n",
              "      <th>2927</th>\n",
              "      <td>NaN</td>\n",
              "      <td>5.0</td>\n",
              "    </tr>\n",
              "    <tr>\n",
              "      <th>4401</th>\n",
              "      <td>NaN</td>\n",
              "      <td>4.0</td>\n",
              "    </tr>\n",
              "    <tr>\n",
              "      <th>8739</th>\n",
              "      <td>NaN</td>\n",
              "      <td>5.0</td>\n",
              "    </tr>\n",
              "    <tr>\n",
              "      <th>9175</th>\n",
              "      <td>NaN</td>\n",
              "      <td>5.0</td>\n",
              "    </tr>\n",
              "    <tr>\n",
              "      <th>9306</th>\n",
              "      <td>NaN</td>\n",
              "      <td>5.0</td>\n",
              "    </tr>\n",
              "    <tr>\n",
              "      <th>9313</th>\n",
              "      <td>NaN</td>\n",
              "      <td>5.0</td>\n",
              "    </tr>\n",
              "    <tr>\n",
              "      <th>9342</th>\n",
              "      <td>NaN</td>\n",
              "      <td>5.0</td>\n",
              "    </tr>\n",
              "  </tbody>\n",
              "</table>\n",
              "</div>\n",
              "      <button class=\"colab-df-convert\" onclick=\"convertToInteractive('df-e80234d9-b37c-42ac-ad58-fb9ba1249478')\"\n",
              "              title=\"Convert this dataframe to an interactive table.\"\n",
              "              style=\"display:none;\">\n",
              "        \n",
              "  <svg xmlns=\"http://www.w3.org/2000/svg\" height=\"24px\"viewBox=\"0 0 24 24\"\n",
              "       width=\"24px\">\n",
              "    <path d=\"M0 0h24v24H0V0z\" fill=\"none\"/>\n",
              "    <path d=\"M18.56 5.44l.94 2.06.94-2.06 2.06-.94-2.06-.94-.94-2.06-.94 2.06-2.06.94zm-11 1L8.5 8.5l.94-2.06 2.06-.94-2.06-.94L8.5 2.5l-.94 2.06-2.06.94zm10 10l.94 2.06.94-2.06 2.06-.94-2.06-.94-.94-2.06-.94 2.06-2.06.94z\"/><path d=\"M17.41 7.96l-1.37-1.37c-.4-.4-.92-.59-1.43-.59-.52 0-1.04.2-1.43.59L10.3 9.45l-7.72 7.72c-.78.78-.78 2.05 0 2.83L4 21.41c.39.39.9.59 1.41.59.51 0 1.02-.2 1.41-.59l7.78-7.78 2.81-2.81c.8-.78.8-2.07 0-2.86zM5.41 20L4 18.59l7.72-7.72 1.47 1.35L5.41 20z\"/>\n",
              "  </svg>\n",
              "      </button>\n",
              "      \n",
              "  <style>\n",
              "    .colab-df-container {\n",
              "      display:flex;\n",
              "      flex-wrap:wrap;\n",
              "      gap: 12px;\n",
              "    }\n",
              "\n",
              "    .colab-df-convert {\n",
              "      background-color: #E8F0FE;\n",
              "      border: none;\n",
              "      border-radius: 50%;\n",
              "      cursor: pointer;\n",
              "      display: none;\n",
              "      fill: #1967D2;\n",
              "      height: 32px;\n",
              "      padding: 0 0 0 0;\n",
              "      width: 32px;\n",
              "    }\n",
              "\n",
              "    .colab-df-convert:hover {\n",
              "      background-color: #E2EBFA;\n",
              "      box-shadow: 0px 1px 2px rgba(60, 64, 67, 0.3), 0px 1px 3px 1px rgba(60, 64, 67, 0.15);\n",
              "      fill: #174EA6;\n",
              "    }\n",
              "\n",
              "    [theme=dark] .colab-df-convert {\n",
              "      background-color: #3B4455;\n",
              "      fill: #D2E3FC;\n",
              "    }\n",
              "\n",
              "    [theme=dark] .colab-df-convert:hover {\n",
              "      background-color: #434B5C;\n",
              "      box-shadow: 0px 1px 3px 1px rgba(0, 0, 0, 0.15);\n",
              "      filter: drop-shadow(0px 1px 2px rgba(0, 0, 0, 0.3));\n",
              "      fill: #FFFFFF;\n",
              "    }\n",
              "  </style>\n",
              "\n",
              "      <script>\n",
              "        const buttonEl =\n",
              "          document.querySelector('#df-e80234d9-b37c-42ac-ad58-fb9ba1249478 button.colab-df-convert');\n",
              "        buttonEl.style.display =\n",
              "          google.colab.kernel.accessAllowed ? 'block' : 'none';\n",
              "\n",
              "        async function convertToInteractive(key) {\n",
              "          const element = document.querySelector('#df-e80234d9-b37c-42ac-ad58-fb9ba1249478');\n",
              "          const dataTable =\n",
              "            await google.colab.kernel.invokeFunction('convertToInteractive',\n",
              "                                                     [key], {});\n",
              "          if (!dataTable) return;\n",
              "\n",
              "          const docLinkHtml = 'Like what you see? Visit the ' +\n",
              "            '<a target=\"_blank\" href=https://colab.research.google.com/notebooks/data_table.ipynb>data table notebook</a>'\n",
              "            + ' to learn more about interactive tables.';\n",
              "          element.innerHTML = '';\n",
              "          dataTable['output_type'] = 'display_data';\n",
              "          await google.colab.output.renderOutput(dataTable, element);\n",
              "          const docLink = document.createElement('div');\n",
              "          docLink.innerHTML = docLinkHtml;\n",
              "          element.appendChild(docLink);\n",
              "        }\n",
              "      </script>\n",
              "    </div>\n",
              "  </div>\n",
              "  "
            ]
          },
          "metadata": {},
          "execution_count": 8
        }
      ]
    },
    {
      "cell_type": "markdown",
      "source": [
        "Eliminando os valores nulos"
      ],
      "metadata": {
        "id": "9ztIwV-h2BW9"
      }
    },
    {
      "cell_type": "code",
      "source": [
        "analysis = analysis.drop(nanValues.index)"
      ],
      "metadata": {
        "id": "CZL8ZwRz7pHU"
      },
      "execution_count": 9,
      "outputs": []
    },
    {
      "cell_type": "code",
      "source": [
        "analysis = analysis.dropna()"
      ],
      "metadata": {
        "id": "eiYZNjENa2Vc"
      },
      "execution_count": 10,
      "outputs": []
    },
    {
      "cell_type": "markdown",
      "source": [
        "## Preprocessamento"
      ],
      "metadata": {
        "id": "85Io3gYXsM4M"
      }
    },
    {
      "cell_type": "markdown",
      "metadata": {
        "id": "m9vbNoVz9czB"
      },
      "source": [
        "O pré-processamento abaixo foi baseado no artigo em https://towardsdatascience.com/nlp-preprocessing-with-nltk-3c04ee00edc0#:~:text=Text%20preprocessing%20is%20an%20important%20first%20step%20for,punctuation%2C%20tokenization%2C%20stopword%20filtering%2C%20stemming%2C%20and%20part-of-speech%20tagger e https://towardsdatascience.com/text-preprocessing-with-nltk-9de5de891658 e https://machinelearningknowledge.ai/11-techniques-of-text-preprocessing-using-nltk-in-python/\n",
        "\n",
        "Para tokenização:https://towardsdatascience.com/5-simple-ways-to-tokenize-text-in-python-92c6804edfc4\n",
        "\n",
        "\n",
        "Eu tomei um parágrafo qualquer em um dos artigos como base para poder pré-processar."
      ]
    },
    {
      "cell_type": "markdown",
      "metadata": {
        "id": "HmhlxUmNwJml"
      },
      "source": [
        "Para outros recursos\n",
        "- SVM para NLP: https://chercher.tech/nlp/the-support-vector-machines-svm-algorithm-for-nlp\n",
        "- Naive Bayes para NLP: https://chercher.tech/nlp/the-naive-bayes-algorithm-for-nlp\n"
      ]
    },
    {
      "cell_type": "code",
      "execution_count": 55,
      "metadata": {
        "id": "Wwkag_UcqDG3"
      },
      "outputs": [],
      "source": [
        "def lower(text):\n",
        "  return text.lower()\n",
        "\n",
        "def whites(text):\n",
        "  return \" \".join(text.split())\n",
        "\n",
        "def token(text):\n",
        "  tokenizer = tf.keras.preprocessing.text.Tokenizer(char_level=True)\n",
        "  tokenizer.fit_on_texts(text)\n",
        "  return tokenizer\n",
        "\n",
        "def stopWord(text):\n",
        "  text = text.split()\n",
        "  stopWords = nltk.corpus.stopwords.words('english')\n",
        "  result = []\n",
        "  for token in text:\n",
        "    if token not in stopWords:\n",
        "      result.append(token)\n",
        "  return result\n",
        "\n",
        "def punctuation(text):\n",
        "  import string\n",
        "  text_p = \"\".join([char for char in text if char not in string.punctuation])\n",
        "  return text_p\n",
        "\n",
        "def stem(text):\n",
        "  porter = nltk.stem.porter.PorterStemmer()\n",
        "  stemmed = [porter.stem(word) for word in text]\n",
        "  return stemmed\n",
        "\n",
        "def lemmatizeSentence(sentence):\n",
        "    from nltk.tokenize import word_tokenize\n",
        "    token_words=word_tokenize(sentence) \n",
        "#we need to tokenize the sentence or else lemmatizing will return the entire sentence as is.\n",
        "    lemma_sentence=[]\n",
        "    for word in token_words:\n",
        "        lemma_sentence.append(lemmatizer.lemmatize(word))\n",
        "        lemma_sentence.append(\" \")\n",
        "    return \"\".join(lemma_sentence)\n",
        "\n",
        "def postag(words):\n",
        "   return nltk.pos_tag(words)"
      ]
    },
    {
      "cell_type": "code",
      "execution_count": 56,
      "metadata": {
        "id": "soQtwB48o_vX"
      },
      "outputs": [],
      "source": [
        "text = \"In this post, we’ll start with the intuition behind LSTM ’s and GRU’s. Then I’ll explain the internal mechanisms that allow LSTM’s and GRU’s to perform so well. If you want to understand what’s happening under the hood for these two networks, then this post is for you. @             \""
      ]
    },
    {
      "cell_type": "code",
      "execution_count": 57,
      "metadata": {
        "id": "sVe62dyhxav9"
      },
      "outputs": [],
      "source": [
        "def preprocess(text):\n",
        "  text = lower(text)\n",
        "  text = whites(text)\n",
        "  text = punctuation(text)\n",
        "  text = stopWord(text)\n",
        "  text = stem(text)\n",
        "  #text = lemmatizeSentence(text)\n",
        "  text = postag(text)\n",
        "  return text"
      ]
    },
    {
      "cell_type": "code",
      "execution_count": 58,
      "metadata": {
        "colab": {
          "base_uri": "https://localhost:8080/"
        },
        "id": "iNV-IcCopEAY",
        "outputId": "0765e7de-e2ef-4454-f29e-47310f1664f0"
      },
      "outputs": [
        {
          "output_type": "execute_result",
          "data": {
            "text/plain": [
              "[('post', 'NN'),\n",
              " ('we’ll', 'JJ'),\n",
              " ('start', 'NN'),\n",
              " ('intuit', 'NN'),\n",
              " ('behind', 'IN'),\n",
              " ('lstm', 'JJ'),\n",
              " ('’s', 'NNP'),\n",
              " ('gru’', 'NN'),\n",
              " ('i’ll', 'NN'),\n",
              " ('explain', 'VBP'),\n",
              " ('intern', 'JJ'),\n",
              " ('mechan', 'NN'),\n",
              " ('allow', 'VB'),\n",
              " ('lstm’', 'JJ'),\n",
              " ('gru’', 'NN'),\n",
              " ('perform', 'NN'),\n",
              " ('well', 'RB'),\n",
              " ('want', 'JJ'),\n",
              " ('understand', 'NN'),\n",
              " ('what’', 'NN'),\n",
              " ('happen', 'VB'),\n",
              " ('hood', 'NN'),\n",
              " ('two', 'CD'),\n",
              " ('network', 'NN'),\n",
              " ('post', 'NN')]"
            ]
          },
          "metadata": {},
          "execution_count": 58
        }
      ],
      "source": [
        "preprocess(text)"
      ]
    },
    {
      "cell_type": "markdown",
      "source": [
        "Para ver a utilização no caso do nosso dataset, eu pré-processei abaixo. Observe que a técnica de vetoriazação e tokenização nos casos de machine learning e deeplearning já lidam com essa parte (vide documentação)"
      ],
      "metadata": {
        "id": "bQdGJ5pz5WQM"
      }
    },
    {
      "cell_type": "code",
      "source": [
        "M = analysis['reviewText'].to_numpy()"
      ],
      "metadata": {
        "id": "bfeeZ-jR7eSl"
      },
      "execution_count": 59,
      "outputs": []
    },
    {
      "cell_type": "code",
      "source": [
        "from google.colab import output\n",
        "C = []\n",
        "for i in range(len(M)):\n",
        "  C.append(preprocess(M[i]))\n",
        "  #print(M[i])\n",
        "  #time.sleep(0.5)\n",
        "  #print(C[i])\n",
        "  #time.sleep(0.5)\n",
        "  #output.clear()"
      ],
      "metadata": {
        "id": "Vddg3m0_R_tU"
      },
      "execution_count": 60,
      "outputs": []
    },
    {
      "cell_type": "code",
      "source": [
        "np.shape(C)"
      ],
      "metadata": {
        "colab": {
          "base_uri": "https://localhost:8080/"
        },
        "id": "LnRpfWnQVYIJ",
        "outputId": "4ef2581f-bbc7-4c59-a87a-e0812c723fa7"
      },
      "execution_count": 61,
      "outputs": [
        {
          "output_type": "stream",
          "name": "stderr",
          "text": [
            "/usr/local/lib/python3.7/dist-packages/numpy/core/fromnumeric.py:1970: VisibleDeprecationWarning: Creating an ndarray from ragged nested sequences (which is a list-or-tuple of lists-or-tuples-or ndarrays with different lengths or shapes) is deprecated. If you meant to do this, you must specify 'dtype=object' when creating the ndarray.\n",
            "  result = asarray(a).shape\n"
          ]
        },
        {
          "output_type": "execute_result",
          "data": {
            "text/plain": [
              "(10254,)"
            ]
          },
          "metadata": {},
          "execution_count": 61
        }
      ]
    },
    {
      "cell_type": "code",
      "source": [
        "C[20]"
      ],
      "metadata": {
        "colab": {
          "base_uri": "https://localhost:8080/"
        },
        "id": "ChufhL4vYd0V",
        "outputId": "4d4c32ab-3003-40f7-ee0e-2f5cb2172804"
      },
      "execution_count": 62,
      "outputs": [
        {
          "output_type": "execute_result",
          "data": {
            "text/plain": [
              "[('cool', 'JJ'),\n",
              " ('look', 'NN'),\n",
              " ('cheap', 'JJ'),\n",
              " ('cabl', 'NN'),\n",
              " ('work', 'NN'),\n",
              " ('well', 'RB'),\n",
              " ('bent', 'JJ'),\n",
              " ('one', 'CD'),\n",
              " ('connector', 'NN'),\n",
              " ('pretti', 'NN'),\n",
              " ('badli', 'NN'),\n",
              " ('fault', 'NN'),\n",
              " ('one', 'CD'),\n",
              " ('thing', 'NN'),\n",
              " ('consid', 'NN'),\n",
              " ('cabl', 'NN'),\n",
              " ('tighten', 'JJ'),\n",
              " ('connector', 'NN'),\n",
              " ('awhil', 'NN'),\n",
              " ('youll', 'NN'),\n",
              " ('abl', 'NN'),\n",
              " ('hear', 'VBP'),\n",
              " ('rattl', 'NN'),\n",
              " ('seem', 'VBP'),\n",
              " ('retro', 'JJ'),\n",
              " ('look', 'NN'),\n",
              " ('screw', 'VBD'),\n",
              " ('connector', 'JJ'),\n",
              " ('black', 'JJ'),\n",
              " ('rubber', 'NN'),\n",
              " ('cabl', 'JJ'),\n",
              " ('look', 'NN'),\n",
              " ('cool', 'JJ'),\n",
              " ('work', 'NN'),\n",
              " ('welli', 'NN'),\n",
              " ('also', 'RB'),\n",
              " ('shorter', 'RB'),\n",
              " ('red', 'JJ'),\n",
              " ('cabl', 'NN'),\n",
              " ('goe', 'NN'),\n",
              " ('one', 'CD'),\n",
              " ('guitar', 'NN'),\n",
              " ('perfectli', 'NN'),\n",
              " ('bought', 'VBD'),\n",
              " ('these', 'DT'),\n",
              " ('use', 'VBP'),\n",
              " ('practic', 'JJ'),\n",
              " ('other', 'JJ'),\n",
              " ('use', 'NN'),\n",
              " ('black', 'JJ'),\n",
              " ('cabl', 'NN'),\n",
              " ('easier', 'JJR'),\n",
              " ('plug', 'NN'),\n",
              " ('differ', 'NN'),\n",
              " ('amp', 'NN'),\n",
              " ('without', 'IN'),\n",
              " ('cut', 'NN'),\n",
              " ('someon', 'NN'),\n",
              " ('accid', 'VBP'),\n",
              " ('green', 'JJ'),\n",
              " ('cabl', 'NN'),\n",
              " ('good', 'NN')]"
            ]
          },
          "metadata": {},
          "execution_count": 62
        }
      ]
    },
    {
      "cell_type": "markdown",
      "source": [
        "## Vetorização sklearn"
      ],
      "metadata": {
        "id": "VAV8aimQsWgB"
      }
    },
    {
      "cell_type": "markdown",
      "source": [
        "Texto de base para vetorização TFIDF foi: https://medium.com/@vasista/sentiment-analysis-using-svm-338d418e3ff1#:~:text=Sentiment%20Analysis%20using%20SVM%20Sentiment%20Analysis%20is%20the,of%20data%20i.e.%2C%20Business%2C%20Politics%2C%20Social%20Media%2C%20etc.%2C\n",
        "\n",
        "Observe que a vetorização tfidf permite o pré-processamento como parte de seus parâmetros, vide documentação: https://scikit-learn.org/stable/modules/generated/sklearn.feature_extraction.text.TfidfVectorizer.html"
      ],
      "metadata": {
        "id": "zdyFqJsT380h"
      }
    },
    {
      "cell_type": "code",
      "execution_count": 63,
      "metadata": {
        "id": "XKdWIT3jSHgy"
      },
      "outputs": [],
      "source": [
        "X_train, X_test, y_train, y_test = train_test_split(analysis['reviewText'], analysis['overall'], test_size = 0.2, random_state = 1)\n"
      ]
    },
    {
      "cell_type": "code",
      "source": [
        "X_train, X_test, y_train, y_test = X_train.values.astype('U'), X_test.values.astype('U'), y_train.values.astype('U'), y_test.values.astype('U')"
      ],
      "metadata": {
        "id": "tir1e_rW5M1A"
      },
      "execution_count": 64,
      "outputs": []
    },
    {
      "cell_type": "code",
      "source": [
        "vectorizer = TfidfVectorizer(min_df = 5,\n",
        "                             max_df = 0.8,\n",
        "                             sublinear_tf = True,\n",
        "                             use_idf = True,\n",
        "                             stop_words = 'english')\n",
        "train_vectors = vectorizer.fit_transform(X_train)\n",
        "test_vectors = vectorizer.transform(X_test)"
      ],
      "metadata": {
        "id": "XZhHBbLX1fj7"
      },
      "execution_count": 65,
      "outputs": []
    },
    {
      "cell_type": "code",
      "source": [
        "np.shape(train_vectors)"
      ],
      "metadata": {
        "colab": {
          "base_uri": "https://localhost:8080/"
        },
        "id": "6MPtxwsb-ybm",
        "outputId": "4e097d36-198a-4239-84d8-67cefbeeaf8c"
      },
      "execution_count": 66,
      "outputs": [
        {
          "output_type": "execute_result",
          "data": {
            "text/plain": [
              "(8203, 5274)"
            ]
          },
          "metadata": {},
          "execution_count": 66
        }
      ]
    },
    {
      "cell_type": "markdown",
      "source": [
        "Não é possível visualizar isso em um gráfico devido à dimensão nos train_vectors"
      ],
      "metadata": {
        "id": "JTEOA4Hx_RIG"
      }
    },
    {
      "cell_type": "markdown",
      "source": [
        "### SVM Classsifier\n",
        "\n",
        "Classificador SVM tenta interpor a melhor barreira flexível entre dois conjuntos de dados. Abaixo testei 3 kernels diferentes, cujos resultados estão nos comentários"
      ],
      "metadata": {
        "id": "ysOqxGfbDSIp"
      }
    },
    {
      "cell_type": "code",
      "source": [
        "classifier = svm.SVC(kernel='linear')\n",
        "#classifier = svm.SVC(kernel='poly', degree=8)\n",
        "#classifier = svm.SVC(kernel='rbf')\n",
        "t0 = time.time()\n",
        "classifier.fit(train_vectors, y_train)\n",
        "t1 = time.time()\n",
        "prediction = classifier.predict(test_vectors)\n",
        "t2 = time.time()\n",
        "time_train = t1-t0\n",
        "time_predict = t2-t1\n"
      ],
      "metadata": {
        "id": "JQcd8uDr6A44"
      },
      "execution_count": 67,
      "outputs": []
    },
    {
      "cell_type": "code",
      "source": [
        "print('Tempo de treino: ', time_train, 's')\n",
        "print('Tempo de predição: ', time_predict, 's')\n",
        "\n",
        "print(confusion_matrix(y_test, prediction))\n",
        "print(classification_report(y_test, prediction))"
      ],
      "metadata": {
        "colab": {
          "base_uri": "https://localhost:8080/"
        },
        "id": "6TU_V4JA9jOS",
        "outputId": "a4e90919-1048-4e8d-95a6-f4b3ba658f58"
      },
      "execution_count": 68,
      "outputs": [
        {
          "output_type": "stream",
          "name": "stdout",
          "text": [
            "Tempo de treino:  20.978184461593628 s\n",
            "Tempo de predição:  3.3191895484924316 s\n",
            "[[   3    1    2    3   41]\n",
            " [   2    0    5   10   29]\n",
            " [   0    0    8   16  140]\n",
            " [   0    0    5   39  338]\n",
            " [   0    0    2   32 1375]]\n",
            "              precision    recall  f1-score   support\n",
            "\n",
            "         1.0       0.60      0.06      0.11        50\n",
            "         2.0       0.00      0.00      0.00        46\n",
            "         3.0       0.36      0.05      0.09       164\n",
            "         4.0       0.39      0.10      0.16       382\n",
            "         5.0       0.72      0.98      0.83      1409\n",
            "\n",
            "    accuracy                           0.69      2051\n",
            "   macro avg       0.41      0.24      0.24      2051\n",
            "weighted avg       0.61      0.69      0.61      2051\n",
            "\n"
          ]
        }
      ]
    },
    {
      "cell_type": "markdown",
      "source": [
        "Veja que na prática a classificação não foi ruim para um núcleo linear(vide matriz de confusão). As previsões tendem a ficar dentro de uma boa margem. Nos outros dois casos, há uma evidente tendência a classificar tudo com 5 estrelas. Na perspectiva da Amazon e de futuros compradores, uma classificação mais baixa com um produto bom é preferível a uma mais alta com produto ruim, na ideia de melhorias, é claro.\n",
        "\n",
        "Caso rbf:\n",
        "\n",
        "\n",
        "![image.png](data:image/png;base64,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)\n",
        "\n",
        "Caso polinomial:\n",
        "\n",
        "![image.png](data:image/png;base64,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)"
      ],
      "metadata": {
        "id": "gU07_-4t_u9l"
      }
    },
    {
      "cell_type": "code",
      "source": [
        "print(accuracy_score(y_test, prediction))"
      ],
      "metadata": {
        "colab": {
          "base_uri": "https://localhost:8080/"
        },
        "id": "miltOIN610eq",
        "outputId": "9f12b6f5-5353-4f3a-87a9-8d95d188a295"
      },
      "execution_count": 69,
      "outputs": [
        {
          "output_type": "stream",
          "name": "stdout",
          "text": [
            "0.6947830326669917\n"
          ]
        }
      ]
    },
    {
      "cell_type": "markdown",
      "source": [
        "### Naive Bayes classifier\n",
        "\n",
        "Naive bayes é um algoritmo baseado em estatística bayesiana"
      ],
      "metadata": {
        "id": "pAD1oLUpDWsM"
      }
    },
    {
      "cell_type": "code",
      "source": [
        "np.shape(train_vectors)"
      ],
      "metadata": {
        "colab": {
          "base_uri": "https://localhost:8080/"
        },
        "id": "VLZE5ickFa0S",
        "outputId": "d94ba943-1332-4efd-a8a9-be6caa445b9d"
      },
      "execution_count": 70,
      "outputs": [
        {
          "output_type": "execute_result",
          "data": {
            "text/plain": [
              "(8203, 5274)"
            ]
          },
          "metadata": {},
          "execution_count": 70
        }
      ]
    },
    {
      "cell_type": "code",
      "source": [
        "model_bayes = MNB()\n",
        "t0 = time.time()\n",
        "model_bayes.fit(train_vectors, y_train)\n",
        "t1 = time.time()\n",
        "prediction_bayes = model_bayes.predict(test_vectors)\n",
        "t2 = time.time()\n",
        "time_train = t1-t0\n",
        "time_predict = t2-t1\n"
      ],
      "metadata": {
        "id": "fgTFi12CEqKJ"
      },
      "execution_count": 71,
      "outputs": []
    },
    {
      "cell_type": "code",
      "source": [
        "print('Tempo de treino: ', time_train, 's')\n",
        "print('Tempo de predição: ', time_predict, 's')\n",
        "\n",
        "print(confusion_matrix(y_test, prediction_bayes))\n",
        "print(classification_report(y_test, prediction_bayes))"
      ],
      "metadata": {
        "colab": {
          "base_uri": "https://localhost:8080/"
        },
        "id": "xUVJfEiJFI-G",
        "outputId": "32b7041a-5d5f-4b05-870e-acd0f62b9175"
      },
      "execution_count": 74,
      "outputs": [
        {
          "output_type": "stream",
          "name": "stdout",
          "text": [
            "Tempo de treino:  0.02352118492126465 s\n",
            "Tempo de predição:  0.001264810562133789 s\n",
            "[[   0    0    0    1   49]\n",
            " [   0    0    0    0   46]\n",
            " [   0    0    0    0  164]\n",
            " [   0    0    0    1  381]\n",
            " [   0    0    0    3 1406]]\n",
            "              precision    recall  f1-score   support\n",
            "\n",
            "         1.0       0.00      0.00      0.00        50\n",
            "         2.0       0.00      0.00      0.00        46\n",
            "         3.0       0.00      0.00      0.00       164\n",
            "         4.0       0.20      0.00      0.01       382\n",
            "         5.0       0.69      1.00      0.81      1409\n",
            "\n",
            "    accuracy                           0.69      2051\n",
            "   macro avg       0.18      0.20      0.16      2051\n",
            "weighted avg       0.51      0.69      0.56      2051\n",
            "\n"
          ]
        },
        {
          "output_type": "stream",
          "name": "stderr",
          "text": [
            "/usr/local/lib/python3.7/dist-packages/sklearn/metrics/_classification.py:1318: UndefinedMetricWarning: Precision and F-score are ill-defined and being set to 0.0 in labels with no predicted samples. Use `zero_division` parameter to control this behavior.\n",
            "  _warn_prf(average, modifier, msg_start, len(result))\n",
            "/usr/local/lib/python3.7/dist-packages/sklearn/metrics/_classification.py:1318: UndefinedMetricWarning: Precision and F-score are ill-defined and being set to 0.0 in labels with no predicted samples. Use `zero_division` parameter to control this behavior.\n",
            "  _warn_prf(average, modifier, msg_start, len(result))\n",
            "/usr/local/lib/python3.7/dist-packages/sklearn/metrics/_classification.py:1318: UndefinedMetricWarning: Precision and F-score are ill-defined and being set to 0.0 in labels with no predicted samples. Use `zero_division` parameter to control this behavior.\n",
            "  _warn_prf(average, modifier, msg_start, len(result))\n"
          ]
        }
      ]
    },
    {
      "cell_type": "code",
      "source": [
        "print(accuracy_score(y_test, prediction_bayes))"
      ],
      "metadata": {
        "colab": {
          "base_uri": "https://localhost:8080/"
        },
        "id": "34AnKhedo9Ud",
        "outputId": "0466d8cd-0ea3-4afb-e4b0-53c43f4ccd05"
      },
      "execution_count": 75,
      "outputs": [
        {
          "output_type": "stream",
          "name": "stdout",
          "text": [
            "0.6860068259385665\n"
          ]
        }
      ]
    },
    {
      "cell_type": "markdown",
      "source": [
        "O resultado final para Naive Bayes foi parecido ao caso polinomial, e simplesmente não classifica bem os comentários.\n"
      ],
      "metadata": {
        "id": "7sQnXftiFnbw"
      }
    },
    {
      "cell_type": "markdown",
      "source": [
        "## Tensolflow e RNN\n",
        "\n",
        "### Tokenizer\n",
        "\n",
        "Nível caracter (tokenizerChar) e nível palavra (tokenizerWord)\n",
        "https://www.tensorflow.org/api_docs/python/tf/keras/preprocessing/text/Tokenizer. Os códigos abaixo também foram adaptados do livro texto"
      ],
      "metadata": {
        "id": "RRuD_IKrCKNo"
      }
    },
    {
      "cell_type": "code",
      "source": [
        "tokenizerChar = keras.preprocessing.text.Tokenizer(char_level = True)\n",
        "tokenizerChar.fit_on_texts(analysis['reviewText'])"
      ],
      "metadata": {
        "id": "7DASOcOXKx86"
      },
      "execution_count": 11,
      "outputs": []
    },
    {
      "cell_type": "code",
      "source": [
        "tokenizerChar.texts_to_sequences(\n",
        "    ['start']\n",
        ")"
      ],
      "metadata": {
        "colab": {
          "base_uri": "https://localhost:8080/"
        },
        "id": "-_xoGcVULXJw",
        "outputId": "74110086-a933-41e4-b6ff-ffeeeaf87daf"
      },
      "execution_count": 12,
      "outputs": [
        {
          "output_type": "execute_result",
          "data": {
            "text/plain": [
              "[[7, 3, 4, 9, 3]]"
            ]
          },
          "metadata": {},
          "execution_count": 12
        }
      ]
    },
    {
      "cell_type": "code",
      "source": [
        "len(tokenizerChar.word_index)"
      ],
      "metadata": {
        "colab": {
          "base_uri": "https://localhost:8080/"
        },
        "id": "KIaQrUvmOULE",
        "outputId": "4e8bb7b7-8103-4258-fa58-5ac7e0eab866"
      },
      "execution_count": 13,
      "outputs": [
        {
          "output_type": "execute_result",
          "data": {
            "text/plain": [
              "68"
            ]
          },
          "metadata": {},
          "execution_count": 13
        }
      ]
    },
    {
      "cell_type": "markdown",
      "source": [
        "Vamos usar tokenização de palavras daqui para frente"
      ],
      "metadata": {
        "id": "WFcb9q_yYqCI"
      }
    },
    {
      "cell_type": "code",
      "source": [
        "tokenizerWord = keras.preprocessing.text.Tokenizer(num_words = 10000, lower = True, oov_token = 'oov')\n",
        "tokenizerWord.fit_on_texts(analysis['reviewText'])"
      ],
      "metadata": {
        "id": "beju1qfZL5OZ"
      },
      "execution_count": 14,
      "outputs": []
    },
    {
      "cell_type": "markdown",
      "source": [
        "Abaixo eu uso padding para fazer com que todas as sentenças tenham o mesmo tamanho, o que facilita o trabalho da RNN. get_dummies faz y ter formato one-hot, o que facilita quando precisarmos passar o processamento pela softmax na RNN."
      ],
      "metadata": {
        "id": "-4JmtuDn3vc_"
      }
    },
    {
      "cell_type": "code",
      "source": [
        "x = tokenizerWord.texts_to_sequences(analysis['reviewText'])\n",
        "x = pad_sequences(x)\n",
        "y = pd.get_dummies(analysis['overall'])\n"
      ],
      "metadata": {
        "id": "yFZQb6QWZQJg"
      },
      "execution_count": 15,
      "outputs": []
    },
    {
      "cell_type": "code",
      "source": [
        "print(y)"
      ],
      "metadata": {
        "colab": {
          "base_uri": "https://localhost:8080/"
        },
        "id": "9n-tt-QsxyWP",
        "outputId": "ee8a2da9-8667-4956-ac6e-f465b68d394e"
      },
      "execution_count": 16,
      "outputs": [
        {
          "output_type": "stream",
          "name": "stdout",
          "text": [
            "       1.0  2.0  3.0  4.0  5.0\n",
            "0        0    0    0    0    1\n",
            "1        0    0    0    0    1\n",
            "2        0    0    0    0    1\n",
            "3        0    0    0    0    1\n",
            "4        0    0    0    0    1\n",
            "...    ...  ...  ...  ...  ...\n",
            "10256    0    0    0    0    1\n",
            "10257    0    0    0    0    1\n",
            "10258    0    0    0    1    0\n",
            "10259    0    0    0    1    0\n",
            "10260    0    0    0    1    0\n",
            "\n",
            "[10254 rows x 5 columns]\n"
          ]
        }
      ]
    },
    {
      "cell_type": "code",
      "source": [
        "y = y.values"
      ],
      "metadata": {
        "id": "kOdhacEZxSEM"
      },
      "execution_count": 17,
      "outputs": []
    },
    {
      "cell_type": "markdown",
      "source": [
        "Segue que 5 estrelas está associado a 00001 no onehot encoder. Abaixo eu crio um dataframe com os tokens de X e empilhado com y em formato onehot"
      ],
      "metadata": {
        "id": "vkdR7vFnxali"
      }
    },
    {
      "cell_type": "code",
      "source": [
        "data_tokenized = np.hstack((x, y))\n",
        "x_column_names = [\"Tokenized_\" + str(i) for i in range(x.shape[1])]\n",
        "y_column_names = [\"1 Star\",\"2 Star\",\"3 Star\",\"4 Star\",\"5 Star\"]\n",
        "column_names = x_column_names + y_column_names\n",
        "\n",
        "df_tokenized = pd.DataFrame(data_tokenized, columns = column_names)\n",
        "\n",
        "data = df_tokenized.drop([\"1 Star\",\"2 Star\",\"3 Star\",\"4 Star\",\"5 Star\"], axis =1)"
      ],
      "metadata": {
        "id": "Ej5QOKixVK21"
      },
      "execution_count": 18,
      "outputs": []
    },
    {
      "cell_type": "code",
      "source": [
        "np.shape(data_tokenized)"
      ],
      "metadata": {
        "colab": {
          "base_uri": "https://localhost:8080/"
        },
        "id": "No8QBOPNbRhU",
        "outputId": "9a90361a-846e-40f8-d676-b6570d2f779a"
      },
      "execution_count": 19,
      "outputs": [
        {
          "output_type": "execute_result",
          "data": {
            "text/plain": [
              "(10254, 2064)"
            ]
          },
          "metadata": {},
          "execution_count": 19
        }
      ]
    },
    {
      "cell_type": "code",
      "source": [
        "np.shape(x)"
      ],
      "metadata": {
        "colab": {
          "base_uri": "https://localhost:8080/"
        },
        "id": "4ZKTPG7CbXwE",
        "outputId": "349c0955-e4e2-4f8b-adac-b1c18c97a3c1"
      },
      "execution_count": 20,
      "outputs": [
        {
          "output_type": "execute_result",
          "data": {
            "text/plain": [
              "(10254, 2059)"
            ]
          },
          "metadata": {},
          "execution_count": 20
        }
      ]
    },
    {
      "cell_type": "code",
      "source": [
        "np.shape(y)"
      ],
      "metadata": {
        "colab": {
          "base_uri": "https://localhost:8080/"
        },
        "id": "zgWTb05obcZq",
        "outputId": "098875e9-5e21-4b3b-fbf2-709c670485b2"
      },
      "execution_count": 21,
      "outputs": [
        {
          "output_type": "execute_result",
          "data": {
            "text/plain": [
              "(10254, 5)"
            ]
          },
          "metadata": {},
          "execution_count": 21
        }
      ]
    },
    {
      "cell_type": "code",
      "source": [
        "data_tokenized"
      ],
      "metadata": {
        "colab": {
          "base_uri": "https://localhost:8080/"
        },
        "id": "deq44wZHbh7r",
        "outputId": "9d48fba3-c14f-4d17-a025-dcae13e6c50d"
      },
      "execution_count": 22,
      "outputs": [
        {
          "output_type": "execute_result",
          "data": {
            "text/plain": [
              "array([[0, 0, 0, ..., 0, 0, 1],\n",
              "       [0, 0, 0, ..., 0, 0, 1],\n",
              "       [0, 0, 0, ..., 0, 0, 1],\n",
              "       ...,\n",
              "       [0, 0, 0, ..., 0, 1, 0],\n",
              "       [0, 0, 0, ..., 0, 1, 0],\n",
              "       [0, 0, 0, ..., 0, 1, 0]], dtype=int32)"
            ]
          },
          "metadata": {},
          "execution_count": 22
        }
      ]
    },
    {
      "cell_type": "code",
      "source": [
        "X_trainRNN, X_testRNN, y_trainRNN, y_testRNN = train_test_split(data, df_tokenized[[\"1 Star\",\"2 Star\",\"3 Star\",\"4 Star\",\"5 Star\"]],test_size = 0.2)"
      ],
      "metadata": {
        "id": "Ccwn9Z0GjCqz"
      },
      "execution_count": 23,
      "outputs": []
    },
    {
      "cell_type": "code",
      "source": [
        "y_trainRNN.head()"
      ],
      "metadata": {
        "id": "ZccdcawApZJG",
        "colab": {
          "base_uri": "https://localhost:8080/",
          "height": 206
        },
        "outputId": "0aa8f97c-d31d-4d7f-933d-dfb38b3c71dc"
      },
      "execution_count": 24,
      "outputs": [
        {
          "output_type": "execute_result",
          "data": {
            "text/plain": [
              "      1 Star  2 Star  3 Star  4 Star  5 Star\n",
              "7564       0       0       1       0       0\n",
              "289        0       0       0       0       1\n",
              "6595       0       1       0       0       0\n",
              "8905       0       0       0       0       1\n",
              "8999       0       0       0       1       0"
            ],
            "text/html": [
              "\n",
              "  <div id=\"df-fb536542-3bb7-43ad-b105-e7360a3008ef\">\n",
              "    <div class=\"colab-df-container\">\n",
              "      <div>\n",
              "<style scoped>\n",
              "    .dataframe tbody tr th:only-of-type {\n",
              "        vertical-align: middle;\n",
              "    }\n",
              "\n",
              "    .dataframe tbody tr th {\n",
              "        vertical-align: top;\n",
              "    }\n",
              "\n",
              "    .dataframe thead th {\n",
              "        text-align: right;\n",
              "    }\n",
              "</style>\n",
              "<table border=\"1\" class=\"dataframe\">\n",
              "  <thead>\n",
              "    <tr style=\"text-align: right;\">\n",
              "      <th></th>\n",
              "      <th>1 Star</th>\n",
              "      <th>2 Star</th>\n",
              "      <th>3 Star</th>\n",
              "      <th>4 Star</th>\n",
              "      <th>5 Star</th>\n",
              "    </tr>\n",
              "  </thead>\n",
              "  <tbody>\n",
              "    <tr>\n",
              "      <th>7564</th>\n",
              "      <td>0</td>\n",
              "      <td>0</td>\n",
              "      <td>1</td>\n",
              "      <td>0</td>\n",
              "      <td>0</td>\n",
              "    </tr>\n",
              "    <tr>\n",
              "      <th>289</th>\n",
              "      <td>0</td>\n",
              "      <td>0</td>\n",
              "      <td>0</td>\n",
              "      <td>0</td>\n",
              "      <td>1</td>\n",
              "    </tr>\n",
              "    <tr>\n",
              "      <th>6595</th>\n",
              "      <td>0</td>\n",
              "      <td>1</td>\n",
              "      <td>0</td>\n",
              "      <td>0</td>\n",
              "      <td>0</td>\n",
              "    </tr>\n",
              "    <tr>\n",
              "      <th>8905</th>\n",
              "      <td>0</td>\n",
              "      <td>0</td>\n",
              "      <td>0</td>\n",
              "      <td>0</td>\n",
              "      <td>1</td>\n",
              "    </tr>\n",
              "    <tr>\n",
              "      <th>8999</th>\n",
              "      <td>0</td>\n",
              "      <td>0</td>\n",
              "      <td>0</td>\n",
              "      <td>1</td>\n",
              "      <td>0</td>\n",
              "    </tr>\n",
              "  </tbody>\n",
              "</table>\n",
              "</div>\n",
              "      <button class=\"colab-df-convert\" onclick=\"convertToInteractive('df-fb536542-3bb7-43ad-b105-e7360a3008ef')\"\n",
              "              title=\"Convert this dataframe to an interactive table.\"\n",
              "              style=\"display:none;\">\n",
              "        \n",
              "  <svg xmlns=\"http://www.w3.org/2000/svg\" height=\"24px\"viewBox=\"0 0 24 24\"\n",
              "       width=\"24px\">\n",
              "    <path d=\"M0 0h24v24H0V0z\" fill=\"none\"/>\n",
              "    <path d=\"M18.56 5.44l.94 2.06.94-2.06 2.06-.94-2.06-.94-.94-2.06-.94 2.06-2.06.94zm-11 1L8.5 8.5l.94-2.06 2.06-.94-2.06-.94L8.5 2.5l-.94 2.06-2.06.94zm10 10l.94 2.06.94-2.06 2.06-.94-2.06-.94-.94-2.06-.94 2.06-2.06.94z\"/><path d=\"M17.41 7.96l-1.37-1.37c-.4-.4-.92-.59-1.43-.59-.52 0-1.04.2-1.43.59L10.3 9.45l-7.72 7.72c-.78.78-.78 2.05 0 2.83L4 21.41c.39.39.9.59 1.41.59.51 0 1.02-.2 1.41-.59l7.78-7.78 2.81-2.81c.8-.78.8-2.07 0-2.86zM5.41 20L4 18.59l7.72-7.72 1.47 1.35L5.41 20z\"/>\n",
              "  </svg>\n",
              "      </button>\n",
              "      \n",
              "  <style>\n",
              "    .colab-df-container {\n",
              "      display:flex;\n",
              "      flex-wrap:wrap;\n",
              "      gap: 12px;\n",
              "    }\n",
              "\n",
              "    .colab-df-convert {\n",
              "      background-color: #E8F0FE;\n",
              "      border: none;\n",
              "      border-radius: 50%;\n",
              "      cursor: pointer;\n",
              "      display: none;\n",
              "      fill: #1967D2;\n",
              "      height: 32px;\n",
              "      padding: 0 0 0 0;\n",
              "      width: 32px;\n",
              "    }\n",
              "\n",
              "    .colab-df-convert:hover {\n",
              "      background-color: #E2EBFA;\n",
              "      box-shadow: 0px 1px 2px rgba(60, 64, 67, 0.3), 0px 1px 3px 1px rgba(60, 64, 67, 0.15);\n",
              "      fill: #174EA6;\n",
              "    }\n",
              "\n",
              "    [theme=dark] .colab-df-convert {\n",
              "      background-color: #3B4455;\n",
              "      fill: #D2E3FC;\n",
              "    }\n",
              "\n",
              "    [theme=dark] .colab-df-convert:hover {\n",
              "      background-color: #434B5C;\n",
              "      box-shadow: 0px 1px 3px 1px rgba(0, 0, 0, 0.15);\n",
              "      filter: drop-shadow(0px 1px 2px rgba(0, 0, 0, 0.3));\n",
              "      fill: #FFFFFF;\n",
              "    }\n",
              "  </style>\n",
              "\n",
              "      <script>\n",
              "        const buttonEl =\n",
              "          document.querySelector('#df-fb536542-3bb7-43ad-b105-e7360a3008ef button.colab-df-convert');\n",
              "        buttonEl.style.display =\n",
              "          google.colab.kernel.accessAllowed ? 'block' : 'none';\n",
              "\n",
              "        async function convertToInteractive(key) {\n",
              "          const element = document.querySelector('#df-fb536542-3bb7-43ad-b105-e7360a3008ef');\n",
              "          const dataTable =\n",
              "            await google.colab.kernel.invokeFunction('convertToInteractive',\n",
              "                                                     [key], {});\n",
              "          if (!dataTable) return;\n",
              "\n",
              "          const docLinkHtml = 'Like what you see? Visit the ' +\n",
              "            '<a target=\"_blank\" href=https://colab.research.google.com/notebooks/data_table.ipynb>data table notebook</a>'\n",
              "            + ' to learn more about interactive tables.';\n",
              "          element.innerHTML = '';\n",
              "          dataTable['output_type'] = 'display_data';\n",
              "          await google.colab.output.renderOutput(dataTable, element);\n",
              "          const docLink = document.createElement('div');\n",
              "          docLink.innerHTML = docLinkHtml;\n",
              "          element.appendChild(docLink);\n",
              "        }\n",
              "      </script>\n",
              "    </div>\n",
              "  </div>\n",
              "  "
            ]
          },
          "metadata": {},
          "execution_count": 24
        }
      ]
    },
    {
      "cell_type": "markdown",
      "source": [
        "### RNN\n",
        "\n",
        "O texto base para a SimpleRNN foi o seguinte: https://deephaven.io/blog/2022/02/08/learn-tensorflow/#:~:text=TensorFlow%20enables%20data%20scientists%20to%20create%20sophisticated%2C%20large-scale,a%20natural%20pairing%20for%20AI%20libraries%20like%20TensorFlow.\n",
        "\n",
        "Nesse código eu tive alguns problemas de dimensão. É importante escrever return_sequences = False na camada SimpleRNN"
      ],
      "metadata": {
        "id": "8HAlSr4JTLjs"
      }
    },
    {
      "cell_type": "code",
      "source": [
        "X_trainRNN.shape[1]"
      ],
      "metadata": {
        "colab": {
          "base_uri": "https://localhost:8080/"
        },
        "id": "B3SbUXqiqZJR",
        "outputId": "783fbedd-7cfb-4ecd-96ec-fde6375d3ccc"
      },
      "execution_count": 25,
      "outputs": [
        {
          "output_type": "execute_result",
          "data": {
            "text/plain": [
              "2059"
            ]
          },
          "metadata": {},
          "execution_count": 25
        }
      ]
    },
    {
      "cell_type": "code",
      "source": [
        "embed_dim = 128\n",
        "max_features = 10000\n",
        "\n",
        "model = keras.models.Sequential([\n",
        "    keras.layers.Embedding(max_features, embed_dim, input_length = X_trainRNN.shape[1]),\n",
        "    keras.layers.SpatialDropout1D(0.4),\n",
        "    keras.layers.SimpleRNN(128, return_sequences=False,dropout=0.2, recurrent_dropout=0.2),\n",
        "    #keras.layers.Flatten(),\n",
        "    keras.layers.Dense(64, activation='relu'),\n",
        "    keras.layers.Dense(5, activation='softmax')\n",
        "])\n",
        "model.compile(loss=\"categorical_crossentropy\", optimizer=\"adam\",metrics = ['accuracy'])\n",
        "print(model.summary())\n"
      ],
      "metadata": {
        "colab": {
          "base_uri": "https://localhost:8080/"
        },
        "id": "wLc0bqW1Tz-Q",
        "outputId": "b09b4530-ed33-4142-e3dc-d810c9a50caa"
      },
      "execution_count": 26,
      "outputs": [
        {
          "output_type": "stream",
          "name": "stdout",
          "text": [
            "Model: \"sequential\"\n",
            "_________________________________________________________________\n",
            " Layer (type)                Output Shape              Param #   \n",
            "=================================================================\n",
            " embedding (Embedding)       (None, 2059, 128)         1280000   \n",
            "                                                                 \n",
            " spatial_dropout1d (SpatialD  (None, 2059, 128)        0         \n",
            " ropout1D)                                                       \n",
            "                                                                 \n",
            " simple_rnn (SimpleRNN)      (None, 128)               32896     \n",
            "                                                                 \n",
            " dense (Dense)               (None, 64)                8256      \n",
            "                                                                 \n",
            " dense_1 (Dense)             (None, 5)                 325       \n",
            "                                                                 \n",
            "=================================================================\n",
            "Total params: 1,321,477\n",
            "Trainable params: 1,321,477\n",
            "Non-trainable params: 0\n",
            "_________________________________________________________________\n",
            "None\n"
          ]
        }
      ]
    },
    {
      "cell_type": "code",
      "source": [
        "#https://www.tensorflow.org/api_docs/python/tf/keras/utils/plot_model\n",
        "tf.keras.utils.plot_model(model, show_shapes = True)"
      ],
      "metadata": {
        "colab": {
          "base_uri": "https://localhost:8080/",
          "height": 644
        },
        "id": "gMA6VeVnqz2Z",
        "outputId": "4b0008c7-4db2-4e06-fad2-c26cedaa95e4"
      },
      "execution_count": 27,
      "outputs": [
        {
          "output_type": "execute_result",
          "data": {
            "text/plain": [
              "<IPython.core.display.Image object>"
            ],
            "image/png": "[encoded data removed]"
          },
          "metadata": {},
          "execution_count": 27
        }
      ]
    },
    {
      "cell_type": "markdown",
      "source": [
        "Abaixo temos o treinamento da rede. É um tratamento longo e que percebi que o número de épocas pouco influencia, portanto essa linha foi comentada "
      ],
      "metadata": {
        "id": "t-_GrXZC4cSz"
      }
    },
    {
      "cell_type": "code",
      "source": [
        "ES = tf.keras.callbacks.EarlyStopping(monitor='accuracy', mode='min', verbose=1, patience=3)"
      ],
      "metadata": {
        "id": "JMdgEYDZ3l-K"
      },
      "execution_count": 28,
      "outputs": []
    },
    {
      "cell_type": "code",
      "source": [
        "t0 = time.time()\n",
        "model.fit(X_trainRNN, \n",
        "          y_trainRNN,\n",
        "          #epochs = 10,\n",
        "          batch_size=32,\n",
        "          #callbacks = ES\n",
        "          )\n",
        "t1 = time.time()\n",
        "time_train = t1-t0\n",
        "print('Tempo de treino: ', time_train, 's')"
      ],
      "metadata": {
        "colab": {
          "base_uri": "https://localhost:8080/"
        },
        "id": "F1eCstoxlOVF",
        "outputId": "c7eb50e0-07cd-4665-f1e3-71cadf28d36e"
      },
      "execution_count": 29,
      "outputs": [
        {
          "output_type": "stream",
          "name": "stdout",
          "text": [
            "257/257 [==============================] - 1156s 4s/step - loss: 1.0578 - accuracy: 0.6470\n",
            "Tempo de treino:  1163.67316532135 s\n"
          ]
        }
      ]
    },
    {
      "cell_type": "code",
      "source": [
        "t1 = time.time()\n",
        "y_hat = model.predict(X_testRNN)\n",
        "t2 = time.time()\n",
        "time_predict = t2-t1\n"
      ],
      "metadata": {
        "id": "OQhnW56Wtatm"
      },
      "execution_count": 40,
      "outputs": []
    },
    {
      "cell_type": "code",
      "source": [
        "a = np.max(y_hat,axis = 1)\n",
        "y_predict = np.zeros(np.shape(y_hat))"
      ],
      "metadata": {
        "id": "DCVOIKJ5iQ4K"
      },
      "execution_count": 41,
      "outputs": []
    },
    {
      "cell_type": "code",
      "source": [
        "for i in range(len(y_hat)):\n",
        "  y_predict[i] = y_hat[i]==a[i]"
      ],
      "metadata": {
        "id": "whgChWVFmglC"
      },
      "execution_count": 42,
      "outputs": []
    },
    {
      "cell_type": "code",
      "source": [
        "accuracy_score(y_testRNN,y_predict)"
      ],
      "metadata": {
        "colab": {
          "base_uri": "https://localhost:8080/"
        },
        "id": "QBdjIAWK3LZ-",
        "outputId": "19476219-87c9-4ad3-cf94-e17d6a1e0e83"
      },
      "execution_count": 44,
      "outputs": [
        {
          "output_type": "execute_result",
          "data": {
            "text/plain": [
              "0.6699171136031205"
            ]
          },
          "metadata": {},
          "execution_count": 44
        }
      ]
    },
    {
      "cell_type": "markdown",
      "source": [
        "### LSTM"
      ],
      "metadata": {
        "id": "QiOAYYSW8W54"
      }
    },
    {
      "cell_type": "markdown",
      "source": [
        "Para usar uma LSTM, basta trocar a linha equivalente da SimpleRNN"
      ],
      "metadata": {
        "id": "VdNrg2aV4snW"
      }
    },
    {
      "cell_type": "code",
      "source": [
        "embed_dim = 128\n",
        "max_features = 10000\n",
        "lstm_out = 196\n",
        "\n",
        "modelLSTM = keras.models.Sequential([\n",
        "    keras.layers.Embedding(max_features, embed_dim, input_length = X_trainRNN.shape[1]),\n",
        "    keras.layers.SpatialDropout1D(0.4),\n",
        "    keras.layers.LSTM(lstm_out,return_sequences=False, dropout=0.2, recurrent_dropout=0.2),\n",
        "    #keras.layers.Flatten(),\n",
        "    keras.layers.Dense(64, activation='relu'),\n",
        "    keras.layers.Dense(5, activation='softmax')\n",
        "])\n",
        "modelLSTM.compile(loss=\"categorical_crossentropy\", optimizer=\"adam\",metrics = ['accuracy'])\n",
        "print(model.summary())\n"
      ],
      "metadata": {
        "colab": {
          "base_uri": "https://localhost:8080/"
        },
        "id": "8UxM6r4z8WQD",
        "outputId": "25f8c779-7790-4104-ce75-0dbbeac8d878"
      },
      "execution_count": 45,
      "outputs": [
        {
          "output_type": "stream",
          "name": "stdout",
          "text": [
            "WARNING:tensorflow:Layer lstm will not use cuDNN kernels since it doesn't meet the criteria. It will use a generic GPU kernel as fallback when running on GPU.\n",
            "Model: \"sequential\"\n",
            "_________________________________________________________________\n",
            " Layer (type)                Output Shape              Param #   \n",
            "=================================================================\n",
            " embedding (Embedding)       (None, 2059, 128)         1280000   \n",
            "                                                                 \n",
            " spatial_dropout1d (SpatialD  (None, 2059, 128)        0         \n",
            " ropout1D)                                                       \n",
            "                                                                 \n",
            " simple_rnn (SimpleRNN)      (None, 128)               32896     \n",
            "                                                                 \n",
            " dense (Dense)               (None, 64)                8256      \n",
            "                                                                 \n",
            " dense_1 (Dense)             (None, 5)                 325       \n",
            "                                                                 \n",
            "=================================================================\n",
            "Total params: 1,321,477\n",
            "Trainable params: 1,321,477\n",
            "Non-trainable params: 0\n",
            "_________________________________________________________________\n",
            "None\n"
          ]
        }
      ]
    },
    {
      "cell_type": "code",
      "source": [
        "t0 = time.time()\n",
        "modelLSTM.fit(X_trainRNN, \n",
        "          y_trainRNN,\n",
        "          #epochs = 10,\n",
        "          batch_size=32\n",
        "          #callbacks = ES\n",
        "          )\n",
        "t1 = time.time()\n",
        "time_train = t1-t0\n",
        "print('Tempo de treino: ', time_train, 's')"
      ],
      "metadata": {
        "colab": {
          "base_uri": "https://localhost:8080/"
        },
        "id": "upX1di3iUB6Y",
        "outputId": "13a43f5f-6e62-4e95-bbb3-cba70f37b8c5"
      },
      "execution_count": 46,
      "outputs": [
        {
          "output_type": "stream",
          "name": "stdout",
          "text": [
            "257/257 [==============================] - 2975s 12s/step - loss: 0.9540 - accuracy: 0.6763\n",
            "Tempo de treino:  3025.2320642471313 s\n"
          ]
        }
      ]
    },
    {
      "cell_type": "code",
      "source": [
        "t1 = time.time()\n",
        "y_hat = model.predict(X_testRNN)\n",
        "t2 = time.time()\n",
        "time_predict = t2-t1\n",
        "a = np.max(y_hat,axis = 1)\n",
        "y_predict = np.zeros(np.shape(y_hat))\n",
        "for i in range(len(y_hat)):\n",
        "  y_predict[i] = y_hat[i]==a[i]\n",
        "accuracy_score(y_testRNN,y_predict)"
      ],
      "metadata": {
        "id": "TSYtmWZMaivM",
        "colab": {
          "base_uri": "https://localhost:8080/"
        },
        "outputId": "4dc47b4c-cfeb-4fe3-ee45-d25b44cfdfdd"
      },
      "execution_count": 47,
      "outputs": [
        {
          "output_type": "execute_result",
          "data": {
            "text/plain": [
              "0.6699171136031205"
            ]
          },
          "metadata": {},
          "execution_count": 47
        }
      ]
    },
    {
      "cell_type": "markdown",
      "source": [
        "### BRNN\n",
        "Para usar uma Biderectional - RNN, basta trocar a linha equivalente da SimpleRNN"
      ],
      "metadata": {
        "id": "O1WK5UXy8bDX"
      }
    },
    {
      "cell_type": "code",
      "source": [
        "embed_dim = 128\n",
        "max_features = 10000\n",
        "lstm_out = 196\n",
        "\n",
        "modelBRNN = keras.models.Sequential([\n",
        "    keras.layers.Embedding(max_features, embed_dim, input_length = X_trainRNN.shape[1]),\n",
        "    keras.layers.SpatialDropout1D(0.4),\n",
        "    keras.layers.Bidirectional(tf.keras.layers.LSTM(lstm_out, dropout=0.2, recurrent_dropout=0.2)),\n",
        "    keras.layers.Dense(64, activation='relu'),\n",
        "    keras.layers.Dense(5, activation='softmax')\n",
        "])\n",
        "modelBRNN.compile(loss=\"categorical_crossentropy\", optimizer=\"adam\",metrics = ['accuracy'])\n",
        "print(model.summary())\n"
      ],
      "metadata": {
        "id": "HhP99trd81Qi",
        "colab": {
          "base_uri": "https://localhost:8080/"
        },
        "outputId": "baf186f7-203f-4e68-9201-9efebf387a88"
      },
      "execution_count": 51,
      "outputs": [
        {
          "output_type": "stream",
          "name": "stdout",
          "text": [
            "WARNING:tensorflow:Layer lstm_2 will not use cuDNN kernels since it doesn't meet the criteria. It will use a generic GPU kernel as fallback when running on GPU.\n",
            "WARNING:tensorflow:Layer lstm_2 will not use cuDNN kernels since it doesn't meet the criteria. It will use a generic GPU kernel as fallback when running on GPU.\n",
            "WARNING:tensorflow:Layer lstm_2 will not use cuDNN kernels since it doesn't meet the criteria. It will use a generic GPU kernel as fallback when running on GPU.\n",
            "Model: \"sequential\"\n",
            "_________________________________________________________________\n",
            " Layer (type)                Output Shape              Param #   \n",
            "=================================================================\n",
            " embedding (Embedding)       (None, 2059, 128)         1280000   \n",
            "                                                                 \n",
            " spatial_dropout1d (SpatialD  (None, 2059, 128)        0         \n",
            " ropout1D)                                                       \n",
            "                                                                 \n",
            " simple_rnn (SimpleRNN)      (None, 128)               32896     \n",
            "                                                                 \n",
            " dense (Dense)               (None, 64)                8256      \n",
            "                                                                 \n",
            " dense_1 (Dense)             (None, 5)                 325       \n",
            "                                                                 \n",
            "=================================================================\n",
            "Total params: 1,321,477\n",
            "Trainable params: 1,321,477\n",
            "Non-trainable params: 0\n",
            "_________________________________________________________________\n",
            "None\n"
          ]
        }
      ]
    },
    {
      "cell_type": "code",
      "source": [
        "t0 = time.time()\n",
        "modelBRNN.fit(X_trainRNN, \n",
        "          y_trainRNN,\n",
        "          #epochs = 10,\n",
        "          batch_size=32\n",
        "          #callbacks = ES\n",
        "          )\n",
        "t1 = time.time()\n",
        "time_train = t1-t0\n",
        "print('Tempo de treino: ', time_train, 's')"
      ],
      "metadata": {
        "colab": {
          "base_uri": "https://localhost:8080/"
        },
        "id": "UZ8yUHrBzGao",
        "outputId": "50c3cb33-d456-4529-c217-5389ef3c5c08"
      },
      "execution_count": 52,
      "outputs": [
        {
          "output_type": "stream",
          "name": "stdout",
          "text": [
            "257/257 [==============================] - 6175s 24s/step - loss: 0.9448 - accuracy: 0.6755\n",
            "Tempo de treino:  6175.006212472916 s\n"
          ]
        }
      ]
    },
    {
      "cell_type": "code",
      "source": [
        "t1 = time.time()\n",
        "y_hat = modelBRNN.predict(X_testRNN)\n",
        "t2 = time.time()\n",
        "time_predict = t2-t1\n",
        "y_predict = np.round(y_hat)\n",
        "a = np.max(y_hat,axis = 1)\n",
        "y_predict = np.zeros(np.shape(y_hat))\n",
        "for i in range(len(y_hat)):\n",
        "  y_predict[i] = y_hat[i]==a[i]\n",
        "accuracy_score(y_testRNN,y_predict)"
      ],
      "metadata": {
        "id": "zyhy-W4XbMR8",
        "colab": {
          "base_uri": "https://localhost:8080/"
        },
        "outputId": "458c1ed7-e660-4643-ef71-6ff2838b97e0"
      },
      "execution_count": 53,
      "outputs": [
        {
          "output_type": "execute_result",
          "data": {
            "text/plain": [
              "0.6728425158459288"
            ]
          },
          "metadata": {},
          "execution_count": 53
        }
      ]
    },
    {
      "cell_type": "markdown",
      "source": [
        "Vemos que da maneira como os dados estão processados, nenhum algoritmo passa dos 70%. Não só a complexidade de NLP entra em jogo, como a arquitetura em si utilizada é bem simples (só uma rede RNN em cada caso sem nenhuma otimização ou atenção a outras estruturas), assim como os dados estão desbalanceados (há uma maioria de avaliações 5 estrelas, o que é bem evidenciado pelas previsoes feitas pelos algoritmos SVM e naive bayes). Os tempos de treinamento e as acurácias finais estão mostradas na tabela abaixo\n",
        "\n",
        "![image.png](data:image/png;base64,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)"
      ],
      "metadata": {
        "id": "h_CyUVMyKqze"
      }
    },
    {
      "cell_type": "markdown",
      "source": [
        "## Descartes\n",
        "\n",
        "Abaixo temos alguns dos códigos descartados quando da codagem\n",
        "\n",
        "### Descarte de vetorização"
      ],
      "metadata": {
        "id": "buoOUESq5qk_"
      }
    },
    {
      "cell_type": "code",
      "source": [
        "A = analysis['reviewText'].values.astype('U')\n",
        "B = analysis['overall'].values.astype('U')"
      ],
      "metadata": {
        "id": "lai9GFcUod8a"
      },
      "execution_count": null,
      "outputs": []
    },
    {
      "cell_type": "code",
      "source": [
        "vect = TfidfVectorizer(stop_words='english',lowercase=True).fit(A)"
      ],
      "metadata": {
        "id": "PjglxyV7oF1A"
      },
      "execution_count": null,
      "outputs": []
    },
    {
      "cell_type": "code",
      "source": [
        "tfidf_vector_X = vect.transform(A).toarray()\n",
        "tfidf_vector_Y = vect.transform(B).toarray()\n",
        "#tfidf_vector_X = tfidf_vector_X[:, :, None] \n",
        "#tfidf_vector_Y = tfidf_vector_Y[:, :, None] "
      ],
      "metadata": {
        "id": "b9xtAlY0oXO6"
      },
      "execution_count": null,
      "outputs": []
    },
    {
      "cell_type": "code",
      "source": [
        "tfidf_vector_X[300].sum()"
      ],
      "metadata": {
        "colab": {
          "base_uri": "https://localhost:8080/"
        },
        "id": "lMqQb2k81lcx",
        "outputId": "9447d91c-0051-4fb4-c899-1a79633f8d6e"
      },
      "execution_count": null,
      "outputs": [
        {
          "output_type": "execute_result",
          "data": {
            "text/plain": [
              "3.73347020673827"
            ]
          },
          "metadata": {},
          "execution_count": 112
        }
      ]
    },
    {
      "cell_type": "code",
      "source": [
        "X_train, X_test, y_train, y_test = train_test_split(tfidf_vector_X, tfidf_vector_Y, test_size = 0.2, random_state = 1)\n"
      ],
      "metadata": {
        "id": "HHR0WDiIq-Ri"
      },
      "execution_count": null,
      "outputs": []
    },
    {
      "cell_type": "code",
      "source": [
        "X_train"
      ],
      "metadata": {
        "colab": {
          "base_uri": "https://localhost:8080/"
        },
        "id": "QFPeNjuzraNe",
        "outputId": "bc663a05-5771-4b33-b83c-b605b335c033"
      },
      "execution_count": null,
      "outputs": [
        {
          "output_type": "execute_result",
          "data": {
            "text/plain": [
              "array(['This MXL Studio 24 USB Microphone is a decent choice for those needing a portable or a good quality studio microphone. We professionally produce instructional videos, both at our shop and at customer locations, and often need to voice over footage. This mic will replace theBlue Microphones Snowball USB Microphone (Textured White)we use in studio and also theMXL Mics MXL-STUDIO 1 USB Condenser Microphone, Cardioidwe had previously used for off-site recording.Pros -* Good Voice Quality; cleanly captures spoken voices* Good Physical Quality; this is beefy mic that feels very well made* Looks Professional; while not important to the functionality, it makes a good impression on our customers* Long USB Cord; allows for placement away from PC* Headphone Jack; \"real time monitor\", handy to listen to live recording and playback* Travels Well; includes a protective travel case that fits all of componentsCons -* No Pop-Filter Included; normally I wouldn\\'t mention this but the instructions include a warning the condenser mics are susceptible to water damage (like from breath moisture) and a pop-filter is \"essential\". We boughtNady MPF-6 6-Inch Clamp On Microphone Pop Filter* Left Channel; only brings in audio on the left channel, had to compensate in my editing softwareMisc -* Since we do not do music recording of any type, I can\\'t comment on the mic\\'s performance in that area* Software; Studio Control GUI (downloadable) can be launched to control some of the finer functions of the microphone, but the interface is not intuitive and my editing software (Sony Vegas Pro) gives me better control for what we doThe MXL Studio 24 mic more than meets our needs (which may be different from yours).Recommended!CFH',\n",
              "       'Small light and stays out of the way,  it just works.  Folds up if needed for travel.  I use with Stratacoustic.',\n",
              "       'Tone is subjective and 3 stars means it just OK to me.  It does need a hot signal going in to sound good, so use a boost in front of it or hot pickups.  The distortion is fuzzy, but not fuzz, almost like a fuzzy static.  The EQ switch that removes the tone circuit causes the pedal to become really dark so I always have the tone in the circuit. I used it with a vintage Vibrolux Reverb. This is not my go to pedal or my go to second pedal.  I am still trying to figure out how to use it so it sounds good to me.  It is made well. For the money I am not mad I tried it.',\n",
              "       ...,\n",
              "       'Real nice Guitar Picks. It came in a 6 piece pack, they deserve the Dunlop brandname because these things last a long time.',\n",
              "       \"I bought them at 45 dollars. Use for small music gigs and DJ/MC uses. They are great for DJ uses or other things where the quality of the voice isn't so important, as long as you can be heard and understood. I recommend for use of: 1. Small music venues (smaller bands), Djing, public speaking, band practices/rehearses, etc.For higher quality microphones at a reasonable price, look at the Audix OM2 when it's around 80 bucks, or Audio Technica products.\",\n",
              "       \"Like most products on the market, depending on where and how the item is used, your experience may vary. For me, this cable is going to be used on a semi-stationary mic stand in my project studio, and thus far, it's done nothing but an exceptional job. I tested the cable with a few different mics and in each scenario, the signal was just as strong as the some of the other, more pricey cables out there. Would I purchase this again? Absolutely!\"],\n",
              "      dtype='<U11310')"
            ]
          },
          "metadata": {},
          "execution_count": 128
        }
      ]
    },
    {
      "cell_type": "markdown",
      "source": [
        "\n",
        "### SVM descarte"
      ],
      "metadata": {
        "id": "tX2BhqbFrqvJ"
      }
    },
    {
      "cell_type": "code",
      "source": [
        "from sklearn.svm import SVC\n",
        "from sklearn.preprocessing import StandardScaler"
      ],
      "metadata": {
        "id": "ihxc60jX2JVv"
      },
      "execution_count": null,
      "outputs": []
    },
    {
      "cell_type": "code",
      "source": [
        "X_train.shape"
      ],
      "metadata": {
        "colab": {
          "base_uri": "https://localhost:8080/"
        },
        "id": "cRY3lKEIv1w1",
        "outputId": "a34316d3-6d62-4078-81c1-27694629c505"
      },
      "execution_count": null,
      "outputs": [
        {
          "output_type": "execute_result",
          "data": {
            "text/plain": [
              "(8208, 20251)"
            ]
          },
          "metadata": {},
          "execution_count": 105
        }
      ]
    },
    {
      "cell_type": "code",
      "source": [
        "scaler = StandardScaler() \n",
        "X_train_svm = scaler.fit_transform(X_train)\n",
        "X_test_svm = scaler.fit_transform(X_test)"
      ],
      "metadata": {
        "id": "0z0bJc-nurzX"
      },
      "execution_count": null,
      "outputs": []
    },
    {
      "cell_type": "code",
      "source": [
        "classifier = SVC(kernel='linear')"
      ],
      "metadata": {
        "id": "q8cRshcn2SK9"
      },
      "execution_count": null,
      "outputs": []
    },
    {
      "cell_type": "code",
      "source": [
        "classifier.fit(X_train, y_train)"
      ],
      "metadata": {
        "colab": {
          "base_uri": "https://localhost:8080/",
          "height": 311
        },
        "id": "0g-FbilE2VkB",
        "outputId": "9d15bee5-4e1d-45b7-9bde-4ee8f39cb35b"
      },
      "execution_count": null,
      "outputs": [
        {
          "output_type": "error",
          "ename": "ValueError",
          "evalue": "ignored",
          "traceback": [
            "\u001b[0;31m---------------------------------------------------------------------------\u001b[0m",
            "\u001b[0;31mValueError\u001b[0m                                Traceback (most recent call last)",
            "\u001b[0;32m<ipython-input-115-f44724590846>\u001b[0m in \u001b[0;36m<module>\u001b[0;34m()\u001b[0m\n\u001b[0;32m----> 1\u001b[0;31m \u001b[0mclassifier\u001b[0m\u001b[0;34m.\u001b[0m\u001b[0mfit\u001b[0m\u001b[0;34m(\u001b[0m\u001b[0mX_train\u001b[0m\u001b[0;34m,\u001b[0m \u001b[0my_train\u001b[0m\u001b[0;34m)\u001b[0m\u001b[0;34m\u001b[0m\u001b[0;34m\u001b[0m\u001b[0m\n\u001b[0m",
            "\u001b[0;32m/usr/local/lib/python3.7/dist-packages/sklearn/svm/_base.py\u001b[0m in \u001b[0;36mfit\u001b[0;34m(self, X, y, sample_weight)\u001b[0m\n\u001b[1;32m    194\u001b[0m                 \u001b[0morder\u001b[0m\u001b[0;34m=\u001b[0m\u001b[0;34m\"C\"\u001b[0m\u001b[0;34m,\u001b[0m\u001b[0;34m\u001b[0m\u001b[0;34m\u001b[0m\u001b[0m\n\u001b[1;32m    195\u001b[0m                 \u001b[0maccept_sparse\u001b[0m\u001b[0;34m=\u001b[0m\u001b[0;34m\"csr\"\u001b[0m\u001b[0;34m,\u001b[0m\u001b[0;34m\u001b[0m\u001b[0;34m\u001b[0m\u001b[0m\n\u001b[0;32m--> 196\u001b[0;31m                 \u001b[0maccept_large_sparse\u001b[0m\u001b[0;34m=\u001b[0m\u001b[0;32mFalse\u001b[0m\u001b[0;34m,\u001b[0m\u001b[0;34m\u001b[0m\u001b[0;34m\u001b[0m\u001b[0m\n\u001b[0m\u001b[1;32m    197\u001b[0m             )\n\u001b[1;32m    198\u001b[0m \u001b[0;34m\u001b[0m\u001b[0m\n",
            "\u001b[0;32m/usr/local/lib/python3.7/dist-packages/sklearn/base.py\u001b[0m in \u001b[0;36m_validate_data\u001b[0;34m(self, X, y, reset, validate_separately, **check_params)\u001b[0m\n\u001b[1;32m    579\u001b[0m                 \u001b[0my\u001b[0m \u001b[0;34m=\u001b[0m \u001b[0mcheck_array\u001b[0m\u001b[0;34m(\u001b[0m\u001b[0my\u001b[0m\u001b[0;34m,\u001b[0m \u001b[0;34m**\u001b[0m\u001b[0mcheck_y_params\u001b[0m\u001b[0;34m)\u001b[0m\u001b[0;34m\u001b[0m\u001b[0;34m\u001b[0m\u001b[0m\n\u001b[1;32m    580\u001b[0m             \u001b[0;32melse\u001b[0m\u001b[0;34m:\u001b[0m\u001b[0;34m\u001b[0m\u001b[0;34m\u001b[0m\u001b[0m\n\u001b[0;32m--> 581\u001b[0;31m                 \u001b[0mX\u001b[0m\u001b[0;34m,\u001b[0m \u001b[0my\u001b[0m \u001b[0;34m=\u001b[0m \u001b[0mcheck_X_y\u001b[0m\u001b[0;34m(\u001b[0m\u001b[0mX\u001b[0m\u001b[0;34m,\u001b[0m \u001b[0my\u001b[0m\u001b[0;34m,\u001b[0m \u001b[0;34m**\u001b[0m\u001b[0mcheck_params\u001b[0m\u001b[0;34m)\u001b[0m\u001b[0;34m\u001b[0m\u001b[0;34m\u001b[0m\u001b[0m\n\u001b[0m\u001b[1;32m    582\u001b[0m             \u001b[0mout\u001b[0m \u001b[0;34m=\u001b[0m \u001b[0mX\u001b[0m\u001b[0;34m,\u001b[0m \u001b[0my\u001b[0m\u001b[0;34m\u001b[0m\u001b[0;34m\u001b[0m\u001b[0m\n\u001b[1;32m    583\u001b[0m \u001b[0;34m\u001b[0m\u001b[0m\n",
            "\u001b[0;32m/usr/local/lib/python3.7/dist-packages/sklearn/utils/validation.py\u001b[0m in \u001b[0;36mcheck_X_y\u001b[0;34m(X, y, accept_sparse, accept_large_sparse, dtype, order, copy, force_all_finite, ensure_2d, allow_nd, multi_output, ensure_min_samples, ensure_min_features, y_numeric, estimator)\u001b[0m\n\u001b[1;32m    977\u001b[0m     )\n\u001b[1;32m    978\u001b[0m \u001b[0;34m\u001b[0m\u001b[0m\n\u001b[0;32m--> 979\u001b[0;31m     \u001b[0my\u001b[0m \u001b[0;34m=\u001b[0m \u001b[0m_check_y\u001b[0m\u001b[0;34m(\u001b[0m\u001b[0my\u001b[0m\u001b[0;34m,\u001b[0m \u001b[0mmulti_output\u001b[0m\u001b[0;34m=\u001b[0m\u001b[0mmulti_output\u001b[0m\u001b[0;34m,\u001b[0m \u001b[0my_numeric\u001b[0m\u001b[0;34m=\u001b[0m\u001b[0my_numeric\u001b[0m\u001b[0;34m)\u001b[0m\u001b[0;34m\u001b[0m\u001b[0;34m\u001b[0m\u001b[0m\n\u001b[0m\u001b[1;32m    980\u001b[0m \u001b[0;34m\u001b[0m\u001b[0m\n\u001b[1;32m    981\u001b[0m     \u001b[0mcheck_consistent_length\u001b[0m\u001b[0;34m(\u001b[0m\u001b[0mX\u001b[0m\u001b[0;34m,\u001b[0m \u001b[0my\u001b[0m\u001b[0;34m)\u001b[0m\u001b[0;34m\u001b[0m\u001b[0;34m\u001b[0m\u001b[0m\n",
            "\u001b[0;32m/usr/local/lib/python3.7/dist-packages/sklearn/utils/validation.py\u001b[0m in \u001b[0;36m_check_y\u001b[0;34m(y, multi_output, y_numeric)\u001b[0m\n\u001b[1;32m    991\u001b[0m         )\n\u001b[1;32m    992\u001b[0m     \u001b[0;32melse\u001b[0m\u001b[0;34m:\u001b[0m\u001b[0;34m\u001b[0m\u001b[0;34m\u001b[0m\u001b[0m\n\u001b[0;32m--> 993\u001b[0;31m         \u001b[0my\u001b[0m \u001b[0;34m=\u001b[0m \u001b[0mcolumn_or_1d\u001b[0m\u001b[0;34m(\u001b[0m\u001b[0my\u001b[0m\u001b[0;34m,\u001b[0m \u001b[0mwarn\u001b[0m\u001b[0;34m=\u001b[0m\u001b[0;32mTrue\u001b[0m\u001b[0;34m)\u001b[0m\u001b[0;34m\u001b[0m\u001b[0;34m\u001b[0m\u001b[0m\n\u001b[0m\u001b[1;32m    994\u001b[0m         \u001b[0m_assert_all_finite\u001b[0m\u001b[0;34m(\u001b[0m\u001b[0my\u001b[0m\u001b[0;34m)\u001b[0m\u001b[0;34m\u001b[0m\u001b[0;34m\u001b[0m\u001b[0m\n\u001b[1;32m    995\u001b[0m         \u001b[0m_ensure_no_complex_data\u001b[0m\u001b[0;34m(\u001b[0m\u001b[0my\u001b[0m\u001b[0;34m)\u001b[0m\u001b[0;34m\u001b[0m\u001b[0;34m\u001b[0m\u001b[0m\n",
            "\u001b[0;32m/usr/local/lib/python3.7/dist-packages/sklearn/utils/validation.py\u001b[0m in \u001b[0;36mcolumn_or_1d\u001b[0;34m(y, warn)\u001b[0m\n\u001b[1;32m   1037\u001b[0m \u001b[0;34m\u001b[0m\u001b[0m\n\u001b[1;32m   1038\u001b[0m     raise ValueError(\n\u001b[0;32m-> 1039\u001b[0;31m         \u001b[0;34m\"y should be a 1d array, got an array of shape {} instead.\"\u001b[0m\u001b[0;34m.\u001b[0m\u001b[0mformat\u001b[0m\u001b[0;34m(\u001b[0m\u001b[0mshape\u001b[0m\u001b[0;34m)\u001b[0m\u001b[0;34m\u001b[0m\u001b[0;34m\u001b[0m\u001b[0m\n\u001b[0m\u001b[1;32m   1040\u001b[0m     )\n\u001b[1;32m   1041\u001b[0m \u001b[0;34m\u001b[0m\u001b[0m\n",
            "\u001b[0;31mValueError\u001b[0m: y should be a 1d array, got an array of shape (8208, 20251) instead."
          ]
        }
      ]
    },
    {
      "cell_type": "markdown",
      "source": [
        ""
      ],
      "metadata": {
        "id": "T_2BZxfTupiG"
      }
    },
    {
      "cell_type": "code",
      "source": [
        "A = vectorizer.build_preprocessor()"
      ],
      "metadata": {
        "id": "6Qvimrw2aWXg"
      },
      "execution_count": null,
      "outputs": []
    },
    {
      "cell_type": "code",
      "source": [
        "B = A(analysis['reviewText'].values.astype('U'))"
      ],
      "metadata": {
        "colab": {
          "base_uri": "https://localhost:8080/",
          "height": 305
        },
        "id": "n8wZaH6YagSY",
        "outputId": "4540e3ec-8340-4c78-8124-f7758234fcbe"
      },
      "execution_count": null,
      "outputs": [
        {
          "output_type": "error",
          "ename": "AttributeError",
          "evalue": "ignored",
          "traceback": [
            "\u001b[0;31m---------------------------------------------------------------------------\u001b[0m",
            "\u001b[0;31mAttributeError\u001b[0m                            Traceback (most recent call last)",
            "\u001b[0;32m<ipython-input-85-f4e75dac9b29>\u001b[0m in \u001b[0;36m<module>\u001b[0;34m()\u001b[0m\n\u001b[0;32m----> 1\u001b[0;31m \u001b[0mB\u001b[0m \u001b[0;34m=\u001b[0m \u001b[0mA\u001b[0m\u001b[0;34m(\u001b[0m\u001b[0manalysis\u001b[0m\u001b[0;34m[\u001b[0m\u001b[0;34m'reviewText'\u001b[0m\u001b[0;34m]\u001b[0m\u001b[0;34m.\u001b[0m\u001b[0mvalues\u001b[0m\u001b[0;34m.\u001b[0m\u001b[0mastype\u001b[0m\u001b[0;34m(\u001b[0m\u001b[0;34m'U'\u001b[0m\u001b[0;34m)\u001b[0m\u001b[0;34m)\u001b[0m\u001b[0;34m\u001b[0m\u001b[0;34m\u001b[0m\u001b[0m\n\u001b[0m",
            "\u001b[0;32m/usr/local/lib/python3.7/dist-packages/sklearn/feature_extraction/text.py\u001b[0m in \u001b[0;36m_preprocess\u001b[0;34m(doc, accent_function, lower)\u001b[0m\n\u001b[1;32m     69\u001b[0m     \"\"\"\n\u001b[1;32m     70\u001b[0m     \u001b[0;32mif\u001b[0m \u001b[0mlower\u001b[0m\u001b[0;34m:\u001b[0m\u001b[0;34m\u001b[0m\u001b[0;34m\u001b[0m\u001b[0m\n\u001b[0;32m---> 71\u001b[0;31m         \u001b[0mdoc\u001b[0m \u001b[0;34m=\u001b[0m \u001b[0mdoc\u001b[0m\u001b[0;34m.\u001b[0m\u001b[0mlower\u001b[0m\u001b[0;34m(\u001b[0m\u001b[0;34m)\u001b[0m\u001b[0;34m\u001b[0m\u001b[0;34m\u001b[0m\u001b[0m\n\u001b[0m\u001b[1;32m     72\u001b[0m     \u001b[0;32mif\u001b[0m \u001b[0maccent_function\u001b[0m \u001b[0;32mis\u001b[0m \u001b[0;32mnot\u001b[0m \u001b[0;32mNone\u001b[0m\u001b[0;34m:\u001b[0m\u001b[0;34m\u001b[0m\u001b[0;34m\u001b[0m\u001b[0m\n\u001b[1;32m     73\u001b[0m         \u001b[0mdoc\u001b[0m \u001b[0;34m=\u001b[0m \u001b[0maccent_function\u001b[0m\u001b[0;34m(\u001b[0m\u001b[0mdoc\u001b[0m\u001b[0;34m)\u001b[0m\u001b[0;34m\u001b[0m\u001b[0;34m\u001b[0m\u001b[0m\n",
            "\u001b[0;31mAttributeError\u001b[0m: 'numpy.ndarray' object has no attribute 'lower'"
          ]
        }
      ]
    },
    {
      "cell_type": "code",
      "source": [
        "np.shape(X)"
      ],
      "metadata": {
        "id": "qz4H4l0U81N6",
        "outputId": "a9697999-d59d-421e-caa0-3656df14b9ea",
        "colab": {
          "base_uri": "https://localhost:8080/"
        }
      },
      "execution_count": null,
      "outputs": [
        {
          "output_type": "execute_result",
          "data": {
            "text/plain": [
              "(10261, 20551)"
            ]
          },
          "metadata": {},
          "execution_count": 82
        }
      ]
    },
    {
      "cell_type": "code",
      "source": [
        "tokens = vectorizer.get_feature_names_out()\n",
        "tokens[20]"
      ],
      "metadata": {
        "colab": {
          "base_uri": "https://localhost:8080/",
          "height": 36
        },
        "id": "m2Dn62REzmXj",
        "outputId": "ab13bd47-b6b8-4a73-9d5f-a7ec5d624647"
      },
      "execution_count": null,
      "outputs": [
        {
          "output_type": "execute_result",
          "data": {
            "text/plain": [
              "'011s'"
            ],
            "application/vnd.google.colaboratory.intrinsic+json": {
              "type": "string"
            }
          },
          "metadata": {},
          "execution_count": 83
        }
      ]
    },
    {
      "cell_type": "code",
      "source": [
        "df_tfidfvect = pd.DataFrame(data = x.toarray(),index = ['Doc1','Doc2'],columns = tokens)"
      ],
      "metadata": {
        "colab": {
          "base_uri": "https://localhost:8080/",
          "height": 363
        },
        "id": "g6z9WQI1z6JA",
        "outputId": "db09f30c-8881-429c-da06-6bdde6a8eb99"
      },
      "execution_count": null,
      "outputs": [
        {
          "output_type": "error",
          "ename": "ValueError",
          "evalue": "ignored",
          "traceback": [
            "\u001b[0;31m---------------------------------------------------------------------------\u001b[0m",
            "\u001b[0;31mValueError\u001b[0m                                Traceback (most recent call last)",
            "\u001b[0;32m<ipython-input-20-be0841fd84bc>\u001b[0m in \u001b[0;36m<module>\u001b[0;34m()\u001b[0m\n\u001b[0;32m----> 1\u001b[0;31m \u001b[0mdf_tfidfvect\u001b[0m \u001b[0;34m=\u001b[0m \u001b[0mpd\u001b[0m\u001b[0;34m.\u001b[0m\u001b[0mDataFrame\u001b[0m\u001b[0;34m(\u001b[0m\u001b[0mdata\u001b[0m \u001b[0;34m=\u001b[0m \u001b[0mx\u001b[0m\u001b[0;34m.\u001b[0m\u001b[0mtoarray\u001b[0m\u001b[0;34m(\u001b[0m\u001b[0;34m)\u001b[0m\u001b[0;34m,\u001b[0m\u001b[0mindex\u001b[0m \u001b[0;34m=\u001b[0m \u001b[0;34m[\u001b[0m\u001b[0;34m'Doc1'\u001b[0m\u001b[0;34m,\u001b[0m\u001b[0;34m'Doc2'\u001b[0m\u001b[0;34m]\u001b[0m\u001b[0;34m,\u001b[0m\u001b[0mcolumns\u001b[0m \u001b[0;34m=\u001b[0m \u001b[0mtokens\u001b[0m\u001b[0;34m)\u001b[0m\u001b[0;34m\u001b[0m\u001b[0;34m\u001b[0m\u001b[0m\n\u001b[0m",
            "\u001b[0;32m/usr/local/lib/python3.7/dist-packages/pandas/core/frame.py\u001b[0m in \u001b[0;36m__init__\u001b[0;34m(self, data, index, columns, dtype, copy)\u001b[0m\n\u001b[1;32m    676\u001b[0m                     \u001b[0mdtype\u001b[0m\u001b[0;34m=\u001b[0m\u001b[0mdtype\u001b[0m\u001b[0;34m,\u001b[0m\u001b[0;34m\u001b[0m\u001b[0;34m\u001b[0m\u001b[0m\n\u001b[1;32m    677\u001b[0m                     \u001b[0mcopy\u001b[0m\u001b[0;34m=\u001b[0m\u001b[0mcopy\u001b[0m\u001b[0;34m,\u001b[0m\u001b[0;34m\u001b[0m\u001b[0;34m\u001b[0m\u001b[0m\n\u001b[0;32m--> 678\u001b[0;31m                     \u001b[0mtyp\u001b[0m\u001b[0;34m=\u001b[0m\u001b[0mmanager\u001b[0m\u001b[0;34m,\u001b[0m\u001b[0;34m\u001b[0m\u001b[0;34m\u001b[0m\u001b[0m\n\u001b[0m\u001b[1;32m    679\u001b[0m                 )\n\u001b[1;32m    680\u001b[0m \u001b[0;34m\u001b[0m\u001b[0m\n",
            "\u001b[0;32m/usr/local/lib/python3.7/dist-packages/pandas/core/internals/construction.py\u001b[0m in \u001b[0;36mndarray_to_mgr\u001b[0;34m(values, index, columns, dtype, copy, typ)\u001b[0m\n\u001b[1;32m    322\u001b[0m     )\n\u001b[1;32m    323\u001b[0m \u001b[0;34m\u001b[0m\u001b[0m\n\u001b[0;32m--> 324\u001b[0;31m     \u001b[0m_check_values_indices_shape_match\u001b[0m\u001b[0;34m(\u001b[0m\u001b[0mvalues\u001b[0m\u001b[0;34m,\u001b[0m \u001b[0mindex\u001b[0m\u001b[0;34m,\u001b[0m \u001b[0mcolumns\u001b[0m\u001b[0;34m)\u001b[0m\u001b[0;34m\u001b[0m\u001b[0;34m\u001b[0m\u001b[0m\n\u001b[0m\u001b[1;32m    325\u001b[0m \u001b[0;34m\u001b[0m\u001b[0m\n\u001b[1;32m    326\u001b[0m     \u001b[0;32mif\u001b[0m \u001b[0mtyp\u001b[0m \u001b[0;34m==\u001b[0m \u001b[0;34m\"array\"\u001b[0m\u001b[0;34m:\u001b[0m\u001b[0;34m\u001b[0m\u001b[0;34m\u001b[0m\u001b[0m\n",
            "\u001b[0;32m/usr/local/lib/python3.7/dist-packages/pandas/core/internals/construction.py\u001b[0m in \u001b[0;36m_check_values_indices_shape_match\u001b[0;34m(values, index, columns)\u001b[0m\n\u001b[1;32m    391\u001b[0m         \u001b[0mpassed\u001b[0m \u001b[0;34m=\u001b[0m \u001b[0mvalues\u001b[0m\u001b[0;34m.\u001b[0m\u001b[0mshape\u001b[0m\u001b[0;34m\u001b[0m\u001b[0;34m\u001b[0m\u001b[0m\n\u001b[1;32m    392\u001b[0m         \u001b[0mimplied\u001b[0m \u001b[0;34m=\u001b[0m \u001b[0;34m(\u001b[0m\u001b[0mlen\u001b[0m\u001b[0;34m(\u001b[0m\u001b[0mindex\u001b[0m\u001b[0;34m)\u001b[0m\u001b[0;34m,\u001b[0m \u001b[0mlen\u001b[0m\u001b[0;34m(\u001b[0m\u001b[0mcolumns\u001b[0m\u001b[0;34m)\u001b[0m\u001b[0;34m)\u001b[0m\u001b[0;34m\u001b[0m\u001b[0;34m\u001b[0m\u001b[0m\n\u001b[0;32m--> 393\u001b[0;31m         \u001b[0;32mraise\u001b[0m \u001b[0mValueError\u001b[0m\u001b[0;34m(\u001b[0m\u001b[0;34mf\"Shape of passed values is {passed}, indices imply {implied}\"\u001b[0m\u001b[0;34m)\u001b[0m\u001b[0;34m\u001b[0m\u001b[0;34m\u001b[0m\u001b[0m\n\u001b[0m\u001b[1;32m    394\u001b[0m \u001b[0;34m\u001b[0m\u001b[0m\n\u001b[1;32m    395\u001b[0m \u001b[0;34m\u001b[0m\u001b[0m\n",
            "\u001b[0;31mValueError\u001b[0m: Shape of passed values is (10261, 20551), indices imply (2, 20551)"
          ]
        }
      ]
    },
    {
      "cell_type": "code",
      "source": [
        "from sklearn.feature_extraction.text import TfidfVectorizer,CountVectorizer\n",
        "import pandas as pd\n",
        "# set of documents\n",
        "train = ['The sky is blue.','The sun is bright.']\n",
        "test = ['The sun in the sky is bright', 'We can see the shining sun, the bright sun.']\n",
        "# instantiate the vectorizer object\n",
        "tfidfvectorizer = TfidfVectorizer()\n",
        "# convert th documents into a matrix\n",
        "tfidf_wm = tfidfvectorizer.fit_transform(train)\n",
        "#retrieve the terms found in the corpora\n",
        "# if we take same parameters on both Classes(CountVectorizer and TfidfVectorizer) , it will give same output of get_feature_names() methods)\n",
        "#count_tokens = tfidfvectorizer.get_feature_names() # no difference\n",
        "tfidf_tokens = tfidfvectorizer.get_feature_names()\n",
        "df_tfidfvect = pd.DataFrame(data = tfidf_wm.toarray(),index = ['Doc1','Doc2'],columns = tfidf_tokens)\n",
        "print(\"\\nTD-IDF Vectorizer\\n\")\n",
        "print(df_tfidfvect)"
      ],
      "metadata": {
        "colab": {
          "base_uri": "https://localhost:8080/"
        },
        "id": "RfWVGGFp61bG",
        "outputId": "9a90bf5a-7c5d-4fef-b2f2-312428901a13"
      },
      "execution_count": null,
      "outputs": [
        {
          "output_type": "stream",
          "name": "stdout",
          "text": [
            "\n",
            "TD-IDF Vectorizer\n",
            "\n",
            "          blue    bright        is       sky       sun       the\n",
            "Doc1  0.576152  0.000000  0.409937  0.576152  0.000000  0.409937\n",
            "Doc2  0.000000  0.576152  0.409937  0.000000  0.576152  0.409937\n"
          ]
        },
        {
          "output_type": "stream",
          "name": "stderr",
          "text": [
            "/usr/local/lib/python3.7/dist-packages/sklearn/utils/deprecation.py:87: FutureWarning: Function get_feature_names is deprecated; get_feature_names is deprecated in 1.0 and will be removed in 1.2. Please use get_feature_names_out instead.\n",
            "  warnings.warn(msg, category=FutureWarning)\n"
          ]
        }
      ]
    },
    {
      "cell_type": "code",
      "source": [
        "from sklearn.feature_extraction.text import TfidfVectorizer\n",
        "from sklearn.model_selection import train_test_split\n",
        "\n",
        "X = [\"Good morning\", \"Sweet Dreams\", \"Stay Awake\"]\n",
        "Y = [\"Good morning\", \"Sweet Dreams\", \"Stay Awake\"]\n",
        "\n",
        "vectorizer = TfidfVectorizer().fit(X)\n",
        "\n",
        "tfidf_vector_X = vectorizer.transform(X).toarray()  #//shape - (3,6)\n",
        "tfidf_vector_Y = vectorizer.transform(Y).toarray() #//shape - (3,6)\n",
        "tfidf_vector_X = tfidf_vector_X[:, :, None] #//shape - (3,6,1) \n",
        "tfidf_vector_Y = tfidf_vector_Y[:, :, None] #//shape - (3,6,1)\n",
        "\n",
        "X_train, X_test, y_train, y_test = train_test_split(tfidf_vector_X, tfidf_vector_Y, test_size = 0.2, random_state = 1)\n",
        "\n",
        "from keras import Sequential\n",
        "from keras.layers import LSTM\n",
        "\n",
        "model = Sequential()\n",
        "model.add(LSTM(units=6, input_shape = X_train.shape[1:], return_sequences = True))\n",
        "model.add(LSTM(units=6, return_sequences=True))\n",
        "model.add(LSTM(units=6, return_sequences=True))\n",
        "model.add(LSTM(units=1, return_sequences=True, name='output'))\n",
        "model.compile(loss='cosine_proximity', optimizer='sgd', metrics = ['accuracy'])\n",
        "\n",
        "print(model.summary())\n",
        "\n",
        "model.fit(X_train, y_train, epochs=1, verbose=1)"
      ],
      "metadata": {
        "colab": {
          "base_uri": "https://localhost:8080/"
        },
        "id": "mPDzOhfIPoci",
        "outputId": "fc1cd715-625a-4970-9536-046288ab6c6e"
      },
      "execution_count": null,
      "outputs": [
        {
          "output_type": "execute_result",
          "data": {
            "text/plain": [
              "numpy.ndarray"
            ]
          },
          "metadata": {},
          "execution_count": 24
        }
      ]
    }
  ],
  "metadata": {
    "colab": {
      "name": "RNN.pynb",
      "provenance": [],
      "collapsed_sections": [
        "buoOUESq5qk_",
        "tX2BhqbFrqvJ"
      ]
    },
    "kernelspec": {
      "display_name": "Python 3",
      "name": "python3"
    },
    "language_info": {
      "name": "python"
    },
    "accelerator": "GPU"
  },
  "nbformat": 4,
  "nbformat_minor": 0
}